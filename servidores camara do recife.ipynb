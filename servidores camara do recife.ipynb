{
 "cells": [
  {
   "cell_type": "code",
   "execution_count": 189,
   "metadata": {},
   "outputs": [],
   "source": [
    "%matplotlib inline\n",
    "import numpy as np\n",
    "import pandas as pd\n",
    "import matplotlib.pyplot as plt"
   ]
  },
  {
   "cell_type": "code",
   "execution_count": null,
   "metadata": {},
   "outputs": [],
   "source": []
  },
  {
   "cell_type": "code",
   "execution_count": 190,
   "metadata": {},
   "outputs": [],
   "source": [
    "#REMUNERAÇÃO DOS SERVIDORES DA CÂMARA MUNICIPAL DE RECIFE\n",
    "#http://www.recife.pe.leg.br/portal-da-transparencia/dados-dos-servidores DATA DA CONSULTA: 09/05/2018 09:26:01\n",
    "salariosPrefeituraRecife= pd.read_csv('salarioPrefeituraRecife2.csv' , delimiter=';', encoding='latin-1')"
   ]
  },
  {
   "cell_type": "code",
   "execution_count": null,
   "metadata": {},
   "outputs": [],
   "source": []
  },
  {
   "cell_type": "code",
   "execution_count": null,
   "metadata": {},
   "outputs": [],
   "source": []
  },
  {
   "cell_type": "code",
   "execution_count": 191,
   "metadata": {},
   "outputs": [
    {
     "data": {
      "text/plain": [
       "1269"
      ]
     },
     "execution_count": 191,
     "metadata": {},
     "output_type": "execute_result"
    }
   ],
   "source": [
    "len(salariosPrefeituraRecife)"
   ]
  },
  {
   "cell_type": "code",
   "execution_count": null,
   "metadata": {},
   "outputs": [],
   "source": []
  },
  {
   "cell_type": "code",
   "execution_count": null,
   "metadata": {},
   "outputs": [],
   "source": []
  },
  {
   "cell_type": "code",
   "execution_count": 192,
   "metadata": {},
   "outputs": [
    {
     "data": {
      "text/html": [
       "<div>\n",
       "<style scoped>\n",
       "    .dataframe tbody tr th:only-of-type {\n",
       "        vertical-align: middle;\n",
       "    }\n",
       "\n",
       "    .dataframe tbody tr th {\n",
       "        vertical-align: top;\n",
       "    }\n",
       "\n",
       "    .dataframe thead th {\n",
       "        text-align: right;\n",
       "    }\n",
       "</style>\n",
       "<table border=\"1\" class=\"dataframe\">\n",
       "  <thead>\n",
       "    <tr style=\"text-align: right;\">\n",
       "      <th></th>\n",
       "      <th>Categoria</th>\n",
       "      <th>Cargo</th>\n",
       "      <th>Vantagens</th>\n",
       "      <th>Descontos</th>\n",
       "      <th>Líquido</th>\n",
       "      <th>Unnamed: 5</th>\n",
       "      <th>Unnamed: 6</th>\n",
       "    </tr>\n",
       "  </thead>\n",
       "  <tbody>\n",
       "    <tr>\n",
       "      <th>0</th>\n",
       "      <td>EXTRA QUADRO</td>\n",
       "      <td>SERVIDOR COMISSIONADO</td>\n",
       "      <td>3130</td>\n",
       "      <td>161</td>\n",
       "      <td>2969</td>\n",
       "      <td>NaN</td>\n",
       "      <td>NaN</td>\n",
       "    </tr>\n",
       "    <tr>\n",
       "      <th>1</th>\n",
       "      <td>A DISPOSICAO</td>\n",
       "      <td>SERVIDOR PCR DISP.CAMARA</td>\n",
       "      <td>0</td>\n",
       "      <td>0</td>\n",
       "      <td>0</td>\n",
       "      <td>NaN</td>\n",
       "      <td>NaN</td>\n",
       "    </tr>\n",
       "    <tr>\n",
       "      <th>2</th>\n",
       "      <td>A DISPOSICAO</td>\n",
       "      <td>SERVIDOR PCR DISP.CAMARA</td>\n",
       "      <td>0</td>\n",
       "      <td>0</td>\n",
       "      <td>0</td>\n",
       "      <td>NaN</td>\n",
       "      <td>NaN</td>\n",
       "    </tr>\n",
       "    <tr>\n",
       "      <th>3</th>\n",
       "      <td>EXTRA QUADRO</td>\n",
       "      <td>SERVIDOR COMISSIONADO</td>\n",
       "      <td>6469</td>\n",
       "      <td>954</td>\n",
       "      <td>5515</td>\n",
       "      <td>NaN</td>\n",
       "      <td>NaN</td>\n",
       "    </tr>\n",
       "    <tr>\n",
       "      <th>4</th>\n",
       "      <td>A DISPOSICAO COMISSIONADO</td>\n",
       "      <td>SERVIDOR EMLURB DISP.CAMARA</td>\n",
       "      <td>894</td>\n",
       "      <td>141</td>\n",
       "      <td>753</td>\n",
       "      <td>NaN</td>\n",
       "      <td>NaN</td>\n",
       "    </tr>\n",
       "    <tr>\n",
       "      <th>5</th>\n",
       "      <td>EXTRA QUADRO</td>\n",
       "      <td>SERVIDOR COMISSIONADO</td>\n",
       "      <td>4189</td>\n",
       "      <td>332</td>\n",
       "      <td>3857</td>\n",
       "      <td>NaN</td>\n",
       "      <td>NaN</td>\n",
       "    </tr>\n",
       "    <tr>\n",
       "      <th>6</th>\n",
       "      <td>EXTRA QUADRO</td>\n",
       "      <td>SERVIDOR COMISSIONADO</td>\n",
       "      <td>2673</td>\n",
       "      <td>106</td>\n",
       "      <td>2566</td>\n",
       "      <td>NaN</td>\n",
       "      <td>NaN</td>\n",
       "    </tr>\n",
       "    <tr>\n",
       "      <th>7</th>\n",
       "      <td>EXTRA QUADRO</td>\n",
       "      <td>SERVIDOR COMISSIONADO</td>\n",
       "      <td>10016</td>\n",
       "      <td>1957</td>\n",
       "      <td>8059</td>\n",
       "      <td>NaN</td>\n",
       "      <td>NaN</td>\n",
       "    </tr>\n",
       "    <tr>\n",
       "      <th>8</th>\n",
       "      <td>VEREADORES</td>\n",
       "      <td>VEREADOR</td>\n",
       "      <td>14635</td>\n",
       "      <td>2988</td>\n",
       "      <td>11647</td>\n",
       "      <td>NaN</td>\n",
       "      <td>NaN</td>\n",
       "    </tr>\n",
       "    <tr>\n",
       "      <th>9</th>\n",
       "      <td>EXTRA QUADRO</td>\n",
       "      <td>SERVIDOR COMISSIONADO</td>\n",
       "      <td>3313</td>\n",
       "      <td>177</td>\n",
       "      <td>3136</td>\n",
       "      <td>NaN</td>\n",
       "      <td>NaN</td>\n",
       "    </tr>\n",
       "    <tr>\n",
       "      <th>10</th>\n",
       "      <td>ESTATUTARIOS</td>\n",
       "      <td>ASSESSOR EM TAQUIGRAFIA</td>\n",
       "      <td>17062</td>\n",
       "      <td>4749</td>\n",
       "      <td>12314</td>\n",
       "      <td>NaN</td>\n",
       "      <td>NaN</td>\n",
       "    </tr>\n",
       "    <tr>\n",
       "      <th>11</th>\n",
       "      <td>A DISPOSICAO COMISSIONADO</td>\n",
       "      <td>SERVIDOR PCR DISP.CAMARA</td>\n",
       "      <td>1062</td>\n",
       "      <td>22</td>\n",
       "      <td>1040</td>\n",
       "      <td>NaN</td>\n",
       "      <td>NaN</td>\n",
       "    </tr>\n",
       "    <tr>\n",
       "      <th>12</th>\n",
       "      <td>EXTRA QUADRO</td>\n",
       "      <td>SERVIDOR COMISSIONADO</td>\n",
       "      <td>5558</td>\n",
       "      <td>672</td>\n",
       "      <td>4886</td>\n",
       "      <td>NaN</td>\n",
       "      <td>NaN</td>\n",
       "    </tr>\n",
       "    <tr>\n",
       "      <th>13</th>\n",
       "      <td>EXTRA QUADRO</td>\n",
       "      <td>SERVIDOR COMISSIONADO</td>\n",
       "      <td>3362</td>\n",
       "      <td>182</td>\n",
       "      <td>3180</td>\n",
       "      <td>NaN</td>\n",
       "      <td>NaN</td>\n",
       "    </tr>\n",
       "    <tr>\n",
       "      <th>14</th>\n",
       "      <td>EXTRA QUADRO</td>\n",
       "      <td>SERVIDOR COMISSIONADO</td>\n",
       "      <td>7230</td>\n",
       "      <td>1191</td>\n",
       "      <td>6039</td>\n",
       "      <td>NaN</td>\n",
       "      <td>NaN</td>\n",
       "    </tr>\n",
       "    <tr>\n",
       "      <th>15</th>\n",
       "      <td>EXTRA QUADRO</td>\n",
       "      <td>SERVIDOR COMISSIONADO</td>\n",
       "      <td>8624</td>\n",
       "      <td>1522</td>\n",
       "      <td>7102</td>\n",
       "      <td>NaN</td>\n",
       "      <td>NaN</td>\n",
       "    </tr>\n",
       "    <tr>\n",
       "      <th>16</th>\n",
       "      <td>EXTRA QUADRO</td>\n",
       "      <td>SERVIDOR COMISSIONADO</td>\n",
       "      <td>6712</td>\n",
       "      <td>944</td>\n",
       "      <td>5767</td>\n",
       "      <td>NaN</td>\n",
       "      <td>NaN</td>\n",
       "    </tr>\n",
       "    <tr>\n",
       "      <th>17</th>\n",
       "      <td>EXTRA QUADRO</td>\n",
       "      <td>SERVIDOR COMISSIONADO</td>\n",
       "      <td>6197</td>\n",
       "      <td>870</td>\n",
       "      <td>5327</td>\n",
       "      <td>NaN</td>\n",
       "      <td>NaN</td>\n",
       "    </tr>\n",
       "    <tr>\n",
       "      <th>18</th>\n",
       "      <td>EXTRA QUADRO</td>\n",
       "      <td>SERVIDOR COMISSIONADO</td>\n",
       "      <td>5634</td>\n",
       "      <td>633</td>\n",
       "      <td>5001</td>\n",
       "      <td>NaN</td>\n",
       "      <td>NaN</td>\n",
       "    </tr>\n",
       "    <tr>\n",
       "      <th>19</th>\n",
       "      <td>VEREADORES</td>\n",
       "      <td>VEREADOR</td>\n",
       "      <td>14635</td>\n",
       "      <td>2884</td>\n",
       "      <td>11751</td>\n",
       "      <td>NaN</td>\n",
       "      <td>NaN</td>\n",
       "    </tr>\n",
       "  </tbody>\n",
       "</table>\n",
       "</div>"
      ],
      "text/plain": [
       "                    Categoria                        Cargo  Vantagens  \\\n",
       "0                EXTRA QUADRO        SERVIDOR COMISSIONADO       3130   \n",
       "1                A DISPOSICAO     SERVIDOR PCR DISP.CAMARA          0   \n",
       "2                A DISPOSICAO     SERVIDOR PCR DISP.CAMARA          0   \n",
       "3                EXTRA QUADRO        SERVIDOR COMISSIONADO       6469   \n",
       "4   A DISPOSICAO COMISSIONADO  SERVIDOR EMLURB DISP.CAMARA        894   \n",
       "5                EXTRA QUADRO        SERVIDOR COMISSIONADO       4189   \n",
       "6                EXTRA QUADRO        SERVIDOR COMISSIONADO       2673   \n",
       "7                EXTRA QUADRO        SERVIDOR COMISSIONADO      10016   \n",
       "8                  VEREADORES                     VEREADOR      14635   \n",
       "9                EXTRA QUADRO        SERVIDOR COMISSIONADO       3313   \n",
       "10               ESTATUTARIOS      ASSESSOR EM TAQUIGRAFIA      17062   \n",
       "11  A DISPOSICAO COMISSIONADO     SERVIDOR PCR DISP.CAMARA       1062   \n",
       "12               EXTRA QUADRO        SERVIDOR COMISSIONADO       5558   \n",
       "13               EXTRA QUADRO        SERVIDOR COMISSIONADO       3362   \n",
       "14               EXTRA QUADRO        SERVIDOR COMISSIONADO       7230   \n",
       "15               EXTRA QUADRO        SERVIDOR COMISSIONADO       8624   \n",
       "16               EXTRA QUADRO        SERVIDOR COMISSIONADO       6712   \n",
       "17               EXTRA QUADRO        SERVIDOR COMISSIONADO       6197   \n",
       "18               EXTRA QUADRO        SERVIDOR COMISSIONADO       5634   \n",
       "19                 VEREADORES                     VEREADOR      14635   \n",
       "\n",
       "    Descontos   Líquido  Unnamed: 5  Unnamed: 6  \n",
       "0          161     2969         NaN         NaN  \n",
       "1            0        0         NaN         NaN  \n",
       "2            0        0         NaN         NaN  \n",
       "3          954     5515         NaN         NaN  \n",
       "4          141      753         NaN         NaN  \n",
       "5          332     3857         NaN         NaN  \n",
       "6          106     2566         NaN         NaN  \n",
       "7         1957     8059         NaN         NaN  \n",
       "8         2988    11647         NaN         NaN  \n",
       "9          177     3136         NaN         NaN  \n",
       "10        4749    12314         NaN         NaN  \n",
       "11          22     1040         NaN         NaN  \n",
       "12         672     4886         NaN         NaN  \n",
       "13         182     3180         NaN         NaN  \n",
       "14        1191     6039         NaN         NaN  \n",
       "15        1522     7102         NaN         NaN  \n",
       "16         944     5767         NaN         NaN  \n",
       "17         870     5327         NaN         NaN  \n",
       "18         633     5001         NaN         NaN  \n",
       "19        2884    11751         NaN         NaN  "
      ]
     },
     "execution_count": 192,
     "metadata": {},
     "output_type": "execute_result"
    }
   ],
   "source": [
    "salariosPrefeituraRecife.head(20)"
   ]
  },
  {
   "cell_type": "code",
   "execution_count": null,
   "metadata": {},
   "outputs": [],
   "source": []
  },
  {
   "cell_type": "code",
   "execution_count": null,
   "metadata": {},
   "outputs": [],
   "source": []
  },
  {
   "cell_type": "code",
   "execution_count": null,
   "metadata": {},
   "outputs": [],
   "source": []
  },
  {
   "cell_type": "code",
   "execution_count": null,
   "metadata": {},
   "outputs": [],
   "source": []
  },
  {
   "cell_type": "code",
   "execution_count": null,
   "metadata": {},
   "outputs": [],
   "source": []
  },
  {
   "cell_type": "code",
   "execution_count": null,
   "metadata": {},
   "outputs": [],
   "source": []
  },
  {
   "cell_type": "code",
   "execution_count": null,
   "metadata": {},
   "outputs": [],
   "source": []
  },
  {
   "cell_type": "code",
   "execution_count": null,
   "metadata": {},
   "outputs": [],
   "source": []
  },
  {
   "cell_type": "code",
   "execution_count": 193,
   "metadata": {},
   "outputs": [
    {
     "data": {
      "text/plain": [
       "SERVIDOR COMISSIONADO           876\n",
       "SERVIDOR PCR DISP.CAMARA        136\n",
       "SERVIDOR URB DISP.CAMARA         48\n",
       "ASSISTEN ADMINIST. LEGISLATI     45\n",
       "VEREADOR                         38\n",
       "SERVIDOR EMLURB DISP.CAMARA      37\n",
       "SERVIDOR EDUC PCR DISP.CAMAR     14\n",
       "CONSULTOR LEGISLATIVO             9\n",
       "SERVIDOR EMPREL DISP.CAMARA       8\n",
       "ASSESSOR JURIDICO                 7\n",
       "ASSESSOR EM TAQUIGRAFIA           7\n",
       "SERVIDOR CTTU DISP.CAMARA         6\n",
       "GESTOR CONTR. INTERNO LEGISL      4\n",
       "SERVIDOR OUTROS ORGAOS DISP       4\n",
       "CONTADOR                          3\n",
       "SERVIDOR OUT PREFEITURAS CMR      3\n",
       "ENFERMEIRO                        2\n",
       "PROGRAMADOR                       2\n",
       "ASSISTENTE ADM LEGISLATIVO        2\n",
       "MEDICO                            2\n",
       "ARQUIVISTA                        1\n",
       "SERVIDOR FCCR DISP.CAMARA         1\n",
       "LINGUISTA OU FILOLOGO             1\n",
       "SERVIDOR OUTROS ORGAOS DISP.      1\n",
       "ASSISTENTE SOCIAL                 1\n",
       "BIBLIOTECARIO                     1\n",
       "AGENTE APOIO MANUTENCAO           1\n",
       "JORNALISTA                        1\n",
       "RELAÇÕES PÚBLICAS                 1\n",
       "PENSIONISTA ESPECIAL              1\n",
       "ARQUITETO                         1\n",
       "SERVIDOR CSURB DIS.CAMARA         1\n",
       "PSICOLOGO                         1\n",
       "SUPERVISOR PARLAMENTAR            1\n",
       "ENGENHEIRO OU ARQUITETO           1\n",
       "ANALISTA DE SISTEMAS              1\n",
       "Name: Cargo, dtype: int64"
      ]
     },
     "execution_count": 193,
     "metadata": {},
     "output_type": "execute_result"
    }
   ],
   "source": [
    "plt.rcParams['figure.figsize'] = (10,10)\n",
    "salariosPrefeituraRecife['Cargo'].value_counts()"
   ]
  },
  {
   "cell_type": "code",
   "execution_count": null,
   "metadata": {},
   "outputs": [],
   "source": []
  },
  {
   "cell_type": "code",
   "execution_count": 194,
   "metadata": {},
   "outputs": [
    {
     "data": {
      "text/plain": [
       "EXTRA QUADRO                 878\n",
       "A DISPOSICAO COMISSIONADO    165\n",
       "ESTATUTARIOS                  94\n",
       "A DISPOSICAO                  93\n",
       "VEREADORES                    38\n",
       "PENSAO ESPECIAL                1\n",
       "Name: Categoria, dtype: int64"
      ]
     },
     "execution_count": 194,
     "metadata": {},
     "output_type": "execute_result"
    }
   ],
   "source": [
    "\n",
    "salariosPrefeituraRecife['Categoria'].value_counts()"
   ]
  },
  {
   "cell_type": "code",
   "execution_count": null,
   "metadata": {},
   "outputs": [],
   "source": []
  },
  {
   "cell_type": "code",
   "execution_count": null,
   "metadata": {},
   "outputs": [],
   "source": []
  },
  {
   "cell_type": "code",
   "execution_count": 195,
   "metadata": {},
   "outputs": [
    {
     "data": {
      "text/plain": [
       "<matplotlib.axes._subplots.AxesSubplot at 0x1e07df9b2b0>"
      ]
     },
     "execution_count": 195,
     "metadata": {},
     "output_type": "execute_result"
    },
    {
     "data": {
      "image/png": "[encoded data removed]",
      "text/plain": [
       "<matplotlib.figure.Figure at 0x1e07de620f0>"
      ]
     },
     "metadata": {},
     "output_type": "display_data"
    }
   ],
   "source": [
    "plt.rcParams['figure.figsize'] = (10,10)\n",
    "salariosPrefeituraRecife['Categoria'].value_counts().plot(kind='barh')"
   ]
  },
  {
   "cell_type": "code",
   "execution_count": null,
   "metadata": {},
   "outputs": [],
   "source": []
  },
  {
   "cell_type": "code",
   "execution_count": 196,
   "metadata": {},
   "outputs": [],
   "source": [
    "SalarioPensao = salariosPrefeituraRecife[salariosPrefeituraRecife['Categoria']== \"PENSAO ESPECIAL\"]\n",
    "SalarioVereadores = salariosPrefeituraRecife[salariosPrefeituraRecife['Categoria']== \"VEREADORES\"]\n",
    "SalarioADisposicao = salariosPrefeituraRecife[salariosPrefeituraRecife['Categoria']== \"A DISPOSICAO\"]\n",
    "SalarioEstatutario = salariosPrefeituraRecife[salariosPrefeituraRecife['Categoria']== \"ESTATUTARIOS\"]\n",
    "SalarioADisposicaoComissionado = salariosPrefeituraRecife[salariosPrefeituraRecife['Categoria']== \"A DISPOSICAO COMISSIONADO\"]\n",
    "SalarioExtraQuadro = salariosPrefeituraRecife[salariosPrefeituraRecife['Categoria']== \"EXTRA QUADRO\"]\n"
   ]
  },
  {
   "cell_type": "code",
   "execution_count": null,
   "metadata": {},
   "outputs": [],
   "source": []
  },
  {
   "cell_type": "code",
   "execution_count": null,
   "metadata": {},
   "outputs": [],
   "source": []
  },
  {
   "cell_type": "code",
   "execution_count": null,
   "metadata": {},
   "outputs": [],
   "source": []
  },
  {
   "cell_type": "code",
   "execution_count": 197,
   "metadata": {},
   "outputs": [
    {
     "data": {
      "text/html": [
       "<div>\n",
       "<style scoped>\n",
       "    .dataframe tbody tr th:only-of-type {\n",
       "        vertical-align: middle;\n",
       "    }\n",
       "\n",
       "    .dataframe tbody tr th {\n",
       "        vertical-align: top;\n",
       "    }\n",
       "\n",
       "    .dataframe thead th {\n",
       "        text-align: right;\n",
       "    }\n",
       "</style>\n",
       "<table border=\"1\" class=\"dataframe\">\n",
       "  <thead>\n",
       "    <tr style=\"text-align: right;\">\n",
       "      <th></th>\n",
       "      <th>Categoria</th>\n",
       "      <th>Cargo</th>\n",
       "      <th>Vantagens</th>\n",
       "      <th>Descontos</th>\n",
       "      <th>Líquido</th>\n",
       "      <th>Unnamed: 5</th>\n",
       "      <th>Unnamed: 6</th>\n",
       "    </tr>\n",
       "  </thead>\n",
       "  <tbody>\n",
       "    <tr>\n",
       "      <th>0</th>\n",
       "      <td>EXTRA QUADRO</td>\n",
       "      <td>SERVIDOR COMISSIONADO</td>\n",
       "      <td>3130</td>\n",
       "      <td>161</td>\n",
       "      <td>2969</td>\n",
       "      <td>NaN</td>\n",
       "      <td>NaN</td>\n",
       "    </tr>\n",
       "    <tr>\n",
       "      <th>3</th>\n",
       "      <td>EXTRA QUADRO</td>\n",
       "      <td>SERVIDOR COMISSIONADO</td>\n",
       "      <td>6469</td>\n",
       "      <td>954</td>\n",
       "      <td>5515</td>\n",
       "      <td>NaN</td>\n",
       "      <td>NaN</td>\n",
       "    </tr>\n",
       "    <tr>\n",
       "      <th>5</th>\n",
       "      <td>EXTRA QUADRO</td>\n",
       "      <td>SERVIDOR COMISSIONADO</td>\n",
       "      <td>4189</td>\n",
       "      <td>332</td>\n",
       "      <td>3857</td>\n",
       "      <td>NaN</td>\n",
       "      <td>NaN</td>\n",
       "    </tr>\n",
       "    <tr>\n",
       "      <th>6</th>\n",
       "      <td>EXTRA QUADRO</td>\n",
       "      <td>SERVIDOR COMISSIONADO</td>\n",
       "      <td>2673</td>\n",
       "      <td>106</td>\n",
       "      <td>2566</td>\n",
       "      <td>NaN</td>\n",
       "      <td>NaN</td>\n",
       "    </tr>\n",
       "    <tr>\n",
       "      <th>7</th>\n",
       "      <td>EXTRA QUADRO</td>\n",
       "      <td>SERVIDOR COMISSIONADO</td>\n",
       "      <td>10016</td>\n",
       "      <td>1957</td>\n",
       "      <td>8059</td>\n",
       "      <td>NaN</td>\n",
       "      <td>NaN</td>\n",
       "    </tr>\n",
       "  </tbody>\n",
       "</table>\n",
       "</div>"
      ],
      "text/plain": [
       "      Categoria                  Cargo  Vantagens  Descontos   Líquido  \\\n",
       "0  EXTRA QUADRO  SERVIDOR COMISSIONADO       3130         161     2969   \n",
       "3  EXTRA QUADRO  SERVIDOR COMISSIONADO       6469         954     5515   \n",
       "5  EXTRA QUADRO  SERVIDOR COMISSIONADO       4189         332     3857   \n",
       "6  EXTRA QUADRO  SERVIDOR COMISSIONADO       2673         106     2566   \n",
       "7  EXTRA QUADRO  SERVIDOR COMISSIONADO      10016        1957     8059   \n",
       "\n",
       "   Unnamed: 5  Unnamed: 6  \n",
       "0         NaN         NaN  \n",
       "3         NaN         NaN  \n",
       "5         NaN         NaN  \n",
       "6         NaN         NaN  \n",
       "7         NaN         NaN  "
      ]
     },
     "execution_count": 197,
     "metadata": {},
     "output_type": "execute_result"
    }
   ],
   "source": [
    "SalarioExtraQuadro.head()"
   ]
  },
  {
   "cell_type": "code",
   "execution_count": null,
   "metadata": {},
   "outputs": [],
   "source": []
  },
  {
   "cell_type": "code",
   "execution_count": 198,
   "metadata": {},
   "outputs": [],
   "source": [
    "plt.style.use('ggplot')\n"
   ]
  },
  {
   "cell_type": "code",
   "execution_count": null,
   "metadata": {},
   "outputs": [],
   "source": []
  },
  {
   "cell_type": "code",
   "execution_count": null,
   "metadata": {},
   "outputs": [],
   "source": []
  },
  {
   "cell_type": "code",
   "execution_count": 199,
   "metadata": {},
   "outputs": [
    {
     "data": {
      "text/plain": [
       "Categoria      object\n",
       "Cargo          object\n",
       "Vantagens       int64\n",
       "Descontos       int64\n",
       "Líquido         int64\n",
       "Unnamed: 5    float64\n",
       "Unnamed: 6    float64\n",
       "dtype: object"
      ]
     },
     "execution_count": 199,
     "metadata": {},
     "output_type": "execute_result"
    }
   ],
   "source": [
    "salariosPrefeituraRecife.dtypes"
   ]
  },
  {
   "cell_type": "code",
   "execution_count": null,
   "metadata": {},
   "outputs": [],
   "source": []
  },
  {
   "cell_type": "code",
   "execution_count": 200,
   "metadata": {},
   "outputs": [
    {
     "data": {
      "text/plain": [
       "<matplotlib.axes._subplots.AxesSubplot at 0x1e07e621a20>"
      ]
     },
     "execution_count": 200,
     "metadata": {},
     "output_type": "execute_result"
    },
    {
     "data": {
      "image/png": "[encoded data removed]",
      "text/plain": [
       "<matplotlib.figure.Figure at 0x1e07ea37dd8>"
      ]
     },
     "metadata": {},
     "output_type": "display_data"
    }
   ],
   "source": [
    "SalarioExtraQuadro.boxplot(column='Líquido')"
   ]
  },
  {
   "cell_type": "code",
   "execution_count": 201,
   "metadata": {},
   "outputs": [
    {
     "name": "stdout",
     "output_type": "stream",
     "text": [
      "AxesSubplot(0.125,0.125;0.775x0.755)\n"
     ]
    },
    {
     "data": {
      "image/png": "[encoded data removed]",
      "text/plain": [
       "<matplotlib.figure.Figure at 0x1e07e64a6d8>"
      ]
     },
     "metadata": {},
     "output_type": "display_data"
    }
   ],
   "source": [
    "print(SalarioPensao.boxplot(column='Líquido'))\n"
   ]
  },
  {
   "cell_type": "code",
   "execution_count": null,
   "metadata": {},
   "outputs": [],
   "source": []
  },
  {
   "cell_type": "code",
   "execution_count": 155,
   "metadata": {},
   "outputs": [
    {
     "data": {
      "text/html": [
       "<div>\n",
       "<style scoped>\n",
       "    .dataframe tbody tr th:only-of-type {\n",
       "        vertical-align: middle;\n",
       "    }\n",
       "\n",
       "    .dataframe tbody tr th {\n",
       "        vertical-align: top;\n",
       "    }\n",
       "\n",
       "    .dataframe thead th {\n",
       "        text-align: right;\n",
       "    }\n",
       "</style>\n",
       "<table border=\"1\" class=\"dataframe\">\n",
       "  <thead>\n",
       "    <tr style=\"text-align: right;\">\n",
       "      <th></th>\n",
       "      <th>Categoria</th>\n",
       "      <th>Cargo</th>\n",
       "      <th>Vantagens</th>\n",
       "      <th>Descontos</th>\n",
       "      <th>Líquido</th>\n",
       "      <th>Unnamed: 5</th>\n",
       "      <th>Unnamed: 6</th>\n",
       "    </tr>\n",
       "  </thead>\n",
       "  <tbody>\n",
       "    <tr>\n",
       "      <th>1166</th>\n",
       "      <td>PENSAO ESPECIAL</td>\n",
       "      <td>PENSIONISTA ESPECIAL</td>\n",
       "      <td>2797</td>\n",
       "      <td>0</td>\n",
       "      <td>2797</td>\n",
       "      <td>NaN</td>\n",
       "      <td>NaN</td>\n",
       "    </tr>\n",
       "  </tbody>\n",
       "</table>\n",
       "</div>"
      ],
      "text/plain": [
       "            Categoria                 Cargo  Vantagens  Descontos   Líquido  \\\n",
       "1166  PENSAO ESPECIAL  PENSIONISTA ESPECIAL       2797           0     2797   \n",
       "\n",
       "      Unnamed: 5  Unnamed: 6  \n",
       "1166         NaN         NaN  "
      ]
     },
     "execution_count": 155,
     "metadata": {},
     "output_type": "execute_result"
    }
   ],
   "source": [
    "SalarioPensao[SalarioPensao['Líquido'] <3000]"
   ]
  },
  {
   "cell_type": "code",
   "execution_count": null,
   "metadata": {},
   "outputs": [],
   "source": []
  },
  {
   "cell_type": "code",
   "execution_count": 202,
   "metadata": {},
   "outputs": [
    {
     "name": "stdout",
     "output_type": "stream",
     "text": [
      "AxesSubplot(0.125,0.125;0.775x0.755)\n"
     ]
    },
    {
     "data": {
      "image/png": "[encoded data removed]",
      "text/plain": [
       "<matplotlib.figure.Figure at 0x1e07e968668>"
      ]
     },
     "metadata": {},
     "output_type": "display_data"
    }
   ],
   "source": [
    "print(SalarioVereadores.boxplot(column='Líquido'))\n"
   ]
  },
  {
   "cell_type": "code",
   "execution_count": null,
   "metadata": {},
   "outputs": [],
   "source": []
  },
  {
   "cell_type": "code",
   "execution_count": 154,
   "metadata": {},
   "outputs": [
    {
     "data": {
      "text/html": [
       "<div>\n",
       "<style scoped>\n",
       "    .dataframe tbody tr th:only-of-type {\n",
       "        vertical-align: middle;\n",
       "    }\n",
       "\n",
       "    .dataframe tbody tr th {\n",
       "        vertical-align: top;\n",
       "    }\n",
       "\n",
       "    .dataframe thead th {\n",
       "        text-align: right;\n",
       "    }\n",
       "</style>\n",
       "<table border=\"1\" class=\"dataframe\">\n",
       "  <thead>\n",
       "    <tr style=\"text-align: right;\">\n",
       "      <th></th>\n",
       "      <th>Categoria</th>\n",
       "      <th>Cargo</th>\n",
       "      <th>Vantagens</th>\n",
       "      <th>Descontos</th>\n",
       "      <th>Líquido</th>\n",
       "      <th>Unnamed: 5</th>\n",
       "      <th>Unnamed: 6</th>\n",
       "    </tr>\n",
       "  </thead>\n",
       "  <tbody>\n",
       "    <tr>\n",
       "      <th>975</th>\n",
       "      <td>VEREADORES</td>\n",
       "      <td>VEREADOR</td>\n",
       "      <td>14635</td>\n",
       "      <td>2621</td>\n",
       "      <td>12014</td>\n",
       "      <td>NaN</td>\n",
       "      <td>NaN</td>\n",
       "    </tr>\n",
       "  </tbody>\n",
       "</table>\n",
       "</div>"
      ],
      "text/plain": [
       "      Categoria     Cargo  Vantagens  Descontos   Líquido  Unnamed: 5  \\\n",
       "975  VEREADORES  VEREADOR      14635        2621    12014         NaN   \n",
       "\n",
       "     Unnamed: 6  \n",
       "975         NaN  "
      ]
     },
     "execution_count": 154,
     "metadata": {},
     "output_type": "execute_result"
    }
   ],
   "source": [
    "SalarioVereadores[SalarioVereadores['Líquido'] >12000]"
   ]
  },
  {
   "cell_type": "code",
   "execution_count": 203,
   "metadata": {},
   "outputs": [
    {
     "name": "stdout",
     "output_type": "stream",
     "text": [
      "AxesSubplot(0.125,0.125;0.775x0.755)\n"
     ]
    },
    {
     "data": {
      "image/png": "[encoded data removed]",
      "text/plain": [
       "<matplotlib.figure.Figure at 0x1e07e926be0>"
      ]
     },
     "metadata": {},
     "output_type": "display_data"
    }
   ],
   "source": [
    "print(SalarioADisposicao.boxplot(column='Líquido'))\n"
   ]
  },
  {
   "cell_type": "code",
   "execution_count": null,
   "metadata": {},
   "outputs": [],
   "source": []
  },
  {
   "cell_type": "code",
   "execution_count": 204,
   "metadata": {},
   "outputs": [
    {
     "name": "stdout",
     "output_type": "stream",
     "text": [
      "AxesSubplot(0.125,0.125;0.775x0.755)\n"
     ]
    },
    {
     "data": {
      "image/png": "[encoded data removed]",
      "text/plain": [
       "<matplotlib.figure.Figure at 0x1e07f62ef28>"
      ]
     },
     "metadata": {},
     "output_type": "display_data"
    }
   ],
   "source": [
    "print(SalarioEstatutario.boxplot(column='Líquido'))\n"
   ]
  },
  {
   "cell_type": "code",
   "execution_count": 205,
   "metadata": {},
   "outputs": [
    {
     "name": "stdout",
     "output_type": "stream",
     "text": [
      "AxesSubplot(0.125,0.125;0.775x0.755)\n"
     ]
    },
    {
     "data": {
      "image/png": "[encoded data removed]",
      "text/plain": [
       "<matplotlib.figure.Figure at 0x1e07e3f34a8>"
      ]
     },
     "metadata": {},
     "output_type": "display_data"
    }
   ],
   "source": [
    "print(SalarioADisposicaoComissionado.boxplot(column='Líquido'))\n"
   ]
  },
  {
   "cell_type": "code",
   "execution_count": null,
   "metadata": {},
   "outputs": [],
   "source": []
  },
  {
   "cell_type": "code",
   "execution_count": 209,
   "metadata": {},
   "outputs": [],
   "source": [
    "collectn_1 = SalarioADisposicaoComissionado['Líquido']\n",
    "collectn_2 =  SalarioEstatutario['Líquido']\n",
    "collectn_3 =  SalarioADisposicao['Líquido']\n",
    "collectn_4 =  SalarioVereadores['Líquido']\n",
    "collectn_5 =  SalarioPensao['Líquido']\n",
    "collectn_6 =  SalarioExtraQuadro['Líquido']"
   ]
  },
  {
   "cell_type": "code",
   "execution_count": null,
   "metadata": {},
   "outputs": [],
   "source": []
  },
  {
   "cell_type": "code",
   "execution_count": 210,
   "metadata": {},
   "outputs": [],
   "source": [
    "data_to_plot = [collectn_1, collectn_2, collectn_3, collectn_4, collectn_5,collectn_6 ]"
   ]
  },
  {
   "cell_type": "code",
   "execution_count": 224,
   "metadata": {},
   "outputs": [
    {
     "name": "stderr",
     "output_type": "stream",
     "text": [
      "C:\\Users\\marconunes\\Desktop\\PYTHON\\WinPython-64bit-3.6.3.0Qt5\\python-3.6.3.amd64\\lib\\site-packages\\numpy\\core\\fromnumeric.py:57: FutureWarning: reshape is deprecated and will raise in a subsequent release. Please use .values.reshape(...) instead\n",
      "  return getattr(obj, method)(*args, **kwds)\n"
     ]
    }
   ],
   "source": [
    "bp = ax.boxplot(data_to_plot, patch_artist=True)\n",
    "for flier in bp['fliers']:\n",
    "    flier.set(marker='o', color='#e7298a', alpha=0.5)\n",
    "for median in bp['medians']:\n",
    "    median.set(color='#b2df8a', linewidth=2)\n",
    "for cap in bp['caps']:\n",
    "    cap.set(color='#7570b3', linewidth=2)"
   ]
  },
  {
   "cell_type": "code",
   "execution_count": null,
   "metadata": {},
   "outputs": [],
   "source": []
  },
  {
   "cell_type": "code",
   "execution_count": null,
   "metadata": {},
   "outputs": [],
   "source": []
  },
  {
   "cell_type": "code",
   "execution_count": 225,
   "metadata": {},
   "outputs": [
    {
     "name": "stderr",
     "output_type": "stream",
     "text": [
      "C:\\Users\\marconunes\\Desktop\\PYTHON\\WinPython-64bit-3.6.3.0Qt5\\python-3.6.3.amd64\\lib\\site-packages\\numpy\\core\\fromnumeric.py:57: FutureWarning: reshape is deprecated and will raise in a subsequent release. Please use .values.reshape(...) instead\n",
      "  return getattr(obj, method)(*args, **kwds)\n"
     ]
    },
    {
     "data": {
      "text/plain": [
       "[Text(0,0,'Comicionados a dis'),\n",
       " Text(0,0,'Estatutario'),\n",
       " Text(0,0,'A disposição'),\n",
       " Text(0,0,'Vereadores'),\n",
       " Text(0,0,'Pensão'),\n",
       " Text(0,0,'Extra Quadro')]"
      ]
     },
     "execution_count": 225,
     "metadata": {},
     "output_type": "execute_result"
    },
    {
     "data": {
      "image/png": "[encoded data removed]",
      "text/plain": [
       "<matplotlib.figure.Figure at 0x1e0001b7470>"
      ]
     },
     "metadata": {},
     "output_type": "display_data"
    }
   ],
   "source": [
    "\n",
    "\n",
    "# Create a figure instance\n",
    "fig = plt.figure(1, figsize=(10, 10))\n",
    "\n",
    "# Create an axes instance\n",
    "ax = fig.add_subplot(111)\n",
    "\n",
    "# Create the boxplot\n",
    "bp = ax.boxplot(data_to_plot)\n",
    "ax.set_xticklabels(['Comicionados a dis', 'Estatutario', 'A disposição', 'Vereadores','Pensão','Extra Quadro'])"
   ]
  },
  {
   "cell_type": "code",
   "execution_count": null,
   "metadata": {},
   "outputs": [],
   "source": []
  },
  {
   "cell_type": "code",
   "execution_count": null,
   "metadata": {},
   "outputs": [],
   "source": []
  },
  {
   "cell_type": "code",
   "execution_count": null,
   "metadata": {},
   "outputs": [],
   "source": []
  },
  {
   "cell_type": "code",
   "execution_count": null,
   "metadata": {},
   "outputs": [],
   "source": []
  },
  {
   "cell_type": "code",
   "execution_count": null,
   "metadata": {},
   "outputs": [],
   "source": []
  },
  {
   "cell_type": "code",
   "execution_count": null,
   "metadata": {},
   "outputs": [],
   "source": []
  },
  {
   "cell_type": "code",
   "execution_count": null,
   "metadata": {},
   "outputs": [],
   "source": []
  },
  {
   "cell_type": "code",
   "execution_count": null,
   "metadata": {},
   "outputs": [],
   "source": []
  },
  {
   "cell_type": "code",
   "execution_count": null,
   "metadata": {},
   "outputs": [],
   "source": []
  },
  {
   "cell_type": "code",
   "execution_count": null,
   "metadata": {},
   "outputs": [],
   "source": []
  },
  {
   "cell_type": "code",
   "execution_count": null,
   "metadata": {},
   "outputs": [],
   "source": []
  },
  {
   "cell_type": "code",
   "execution_count": null,
   "metadata": {},
   "outputs": [],
   "source": []
  },
  {
   "cell_type": "code",
   "execution_count": null,
   "metadata": {},
   "outputs": [],
   "source": []
  },
  {
   "cell_type": "code",
   "execution_count": null,
   "metadata": {},
   "outputs": [],
   "source": []
  },
  {
   "cell_type": "code",
   "execution_count": null,
   "metadata": {},
   "outputs": [],
   "source": []
  },
  {
   "cell_type": "code",
   "execution_count": 181,
   "metadata": {},
   "outputs": [
    {
     "data": {
      "text/plain": [
       "<matplotlib.axes._subplots.AxesSubplot at 0x1e07effc240>"
      ]
     },
     "execution_count": 181,
     "metadata": {},
     "output_type": "execute_result"
    }
   ],
   "source": [
    "SalarioExtraQuadro"
   ]
  },
  {
   "cell_type": "code",
   "execution_count": null,
   "metadata": {},
   "outputs": [],
   "source": []
  },
  {
   "cell_type": "code",
   "execution_count": null,
   "metadata": {},
   "outputs": [],
   "source": []
  },
  {
   "cell_type": "code",
   "execution_count": 162,
   "metadata": {},
   "outputs": [
    {
     "data": {
      "text/plain": [
       "<matplotlib.axes._subplots.AxesSubplot at 0x1e07e685710>"
      ]
     },
     "execution_count": 162,
     "metadata": {},
     "output_type": "execute_result"
    }
   ],
   "source": [
    "a"
   ]
  },
  {
   "cell_type": "code",
   "execution_count": null,
   "metadata": {},
   "outputs": [],
   "source": []
  },
  {
   "cell_type": "code",
   "execution_count": null,
   "metadata": {},
   "outputs": [],
   "source": []
  },
  {
   "cell_type": "code",
   "execution_count": null,
   "metadata": {},
   "outputs": [],
   "source": []
  },
  {
   "cell_type": "code",
   "execution_count": null,
   "metadata": {},
   "outputs": [],
   "source": []
  },
  {
   "cell_type": "code",
   "execution_count": null,
   "metadata": {},
   "outputs": [],
   "source": []
  },
  {
   "cell_type": "code",
   "execution_count": null,
   "metadata": {},
   "outputs": [],
   "source": []
  },
  {
   "cell_type": "code",
   "execution_count": null,
   "metadata": {},
   "outputs": [],
   "source": []
  },
  {
   "cell_type": "code",
   "execution_count": null,
   "metadata": {},
   "outputs": [],
   "source": []
  },
  {
   "cell_type": "code",
   "execution_count": null,
   "metadata": {},
   "outputs": [],
   "source": []
  },
  {
   "cell_type": "code",
   "execution_count": null,
   "metadata": {},
   "outputs": [],
   "source": []
  },
  {
   "cell_type": "code",
   "execution_count": null,
   "metadata": {},
   "outputs": [],
   "source": []
  },
  {
   "cell_type": "code",
   "execution_count": null,
   "metadata": {},
   "outputs": [],
   "source": []
  },
  {
   "cell_type": "code",
   "execution_count": null,
   "metadata": {},
   "outputs": [],
   "source": []
  },
  {
   "cell_type": "code",
   "execution_count": null,
   "metadata": {},
   "outputs": [],
   "source": []
  },
  {
   "cell_type": "code",
   "execution_count": null,
   "metadata": {},
   "outputs": [],
   "source": []
  },
  {
   "cell_type": "code",
   "execution_count": null,
   "metadata": {},
   "outputs": [],
   "source": []
  },
  {
   "cell_type": "code",
   "execution_count": null,
   "metadata": {},
   "outputs": [],
   "source": []
  },
  {
   "cell_type": "code",
   "execution_count": null,
   "metadata": {},
   "outputs": [],
   "source": []
  },
  {
   "cell_type": "code",
   "execution_count": null,
   "metadata": {},
   "outputs": [],
   "source": []
  },
  {
   "cell_type": "code",
   "execution_count": null,
   "metadata": {},
   "outputs": [],
   "source": []
  },
  {
   "cell_type": "code",
   "execution_count": null,
   "metadata": {},
   "outputs": [],
   "source": []
  },
  {
   "cell_type": "code",
   "execution_count": null,
   "metadata": {},
   "outputs": [],
   "source": []
  },
  {
   "cell_type": "code",
   "execution_count": null,
   "metadata": {},
   "outputs": [],
   "source": []
  },
  {
   "cell_type": "code",
   "execution_count": null,
   "metadata": {},
   "outputs": [],
   "source": []
  },
  {
   "cell_type": "code",
   "execution_count": null,
   "metadata": {},
   "outputs": [],
   "source": [
    "salariosPrefeituraRecife.boxplot(column='Valor Líquido')"
   ]
  },
  {
   "cell_type": "code",
   "execution_count": null,
   "metadata": {},
   "outputs": [],
   "source": []
  },
  {
   "cell_type": "code",
   "execution_count": null,
   "metadata": {},
   "outputs": [],
   "source": []
  },
  {
   "cell_type": "code",
   "execution_count": null,
   "metadata": {},
   "outputs": [],
   "source": []
  },
  {
   "cell_type": "code",
   "execution_count": null,
   "metadata": {},
   "outputs": [],
   "source": []
  },
  {
   "cell_type": "code",
   "execution_count": null,
   "metadata": {},
   "outputs": [],
   "source": []
  }
 ],
 "metadata": {
  "kernelspec": {
   "display_name": "Python 3",
   "language": "python",
   "name": "python3"
  },
  "language_info": {
   "codemirror_mode": {
    "name": "ipython",
    "version": 3
   },
   "file_extension": ".py",
   "mimetype": "text/x-python",
   "name": "python",
   "nbconvert_exporter": "python",
   "pygments_lexer": "ipython3",
   "version": "3.6.3"
  }
 },
 "nbformat": 4,
 "nbformat_minor": 2
}
