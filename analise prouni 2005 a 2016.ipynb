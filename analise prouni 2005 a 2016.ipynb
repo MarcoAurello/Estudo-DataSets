{
 "cells": [
  {
   "cell_type": "code",
   "execution_count": 1,
   "metadata": {
    "collapsed": true
   },
   "outputs": [],
   "source": [
    "%matplotlib inline\n",
    "import numpy as np\n",
    "import pandas as pd\n",
    "import matplotlib.pyplot as plt"
   ]
  },
  {
   "cell_type": "code",
   "execution_count": 2,
   "metadata": {
    "collapsed": true
   },
   "outputs": [],
   "source": [
    "#carregando os arquivos\n",
    "\n",
    "levantamento2005 = pd.read_csv('PDA_PROUNI_2005_CSV.CSV' ,delimiter=';' , encoding='ISO-8859-1')\n",
    "levantamento2008 = pd.read_csv('PDA_PROUNI_2008_CSV.CSV' ,delimiter=';' , encoding='ISO-8859-1')\n",
    "levantamento2010 = pd.read_csv('PDA_PROUNI_2010_CSV.CSV' ,delimiter=';' , encoding='ISO-8859-1')\n",
    "levantamento2013 = pd.read_csv('PDA_PROUNI_2013_CSV.CSV' ,delimiter=';' , encoding='ISO-8859-1')\n",
    "levantamento2016 = pd.read_csv('PDA_PROUNI_2016_CSV.CSV' ,delimiter=';' , encoding='ISO-8859-1')"
   ]
  },
  {
   "cell_type": "code",
   "execution_count": null,
   "metadata": {
    "collapsed": true
   },
   "outputs": [],
   "source": []
  },
  {
   "cell_type": "code",
   "execution_count": null,
   "metadata": {
    "collapsed": true
   },
   "outputs": [],
   "source": []
  },
  {
   "cell_type": "code",
   "execution_count": null,
   "metadata": {
    "collapsed": true
   },
   "outputs": [],
   "source": []
  },
  {
   "cell_type": "code",
   "execution_count": 3,
   "metadata": {},
   "outputs": [
    {
     "data": {
      "text/plain": [
       "95629"
      ]
     },
     "execution_count": 3,
     "metadata": {},
     "output_type": "execute_result"
    }
   ],
   "source": [
    "len(levantamento2005)"
   ]
  },
  {
   "cell_type": "code",
   "execution_count": 8,
   "metadata": {},
   "outputs": [
    {
     "data": {
      "text/plain": [
       "124621"
      ]
     },
     "execution_count": 8,
     "metadata": {},
     "output_type": "execute_result"
    }
   ],
   "source": [
    "len(levantamento2008)"
   ]
  },
  {
   "cell_type": "code",
   "execution_count": 9,
   "metadata": {},
   "outputs": [
    {
     "data": {
      "text/plain": [
       "152733"
      ]
     },
     "execution_count": 9,
     "metadata": {},
     "output_type": "execute_result"
    }
   ],
   "source": [
    "len(levantamento2010)"
   ]
  },
  {
   "cell_type": "code",
   "execution_count": 10,
   "metadata": {},
   "outputs": [
    {
     "data": {
      "text/plain": [
       "177326"
      ]
     },
     "execution_count": 10,
     "metadata": {},
     "output_type": "execute_result"
    }
   ],
   "source": [
    "len(levantamento2013)"
   ]
  },
  {
   "cell_type": "code",
   "execution_count": 11,
   "metadata": {},
   "outputs": [
    {
     "data": {
      "text/plain": [
       "239262"
      ]
     },
     "execution_count": 11,
     "metadata": {},
     "output_type": "execute_result"
    }
   ],
   "source": [
    "len(levantamento2016)"
   ]
  },
  {
   "cell_type": "code",
   "execution_count": null,
   "metadata": {
    "collapsed": true
   },
   "outputs": [],
   "source": []
  },
  {
   "cell_type": "code",
   "execution_count": 6,
   "metadata": {},
   "outputs": [
    {
     "data": {
      "text/plain": [
       "177326"
      ]
     },
     "execution_count": 6,
     "metadata": {},
     "output_type": "execute_result"
    }
   ],
   "source": [
    "len(levantamento2013)"
   ]
  },
  {
   "cell_type": "code",
   "execution_count": 12,
   "metadata": {},
   "outputs": [
    {
     "data": {
      "text/plain": [
       "Index(['ANO_CONCESSAO_BOLSA', 'CODIGO_EMEC_IES_BOLSA', 'NOME_IES_BOLSA',\n",
       "       'TIPO_BOLSA', 'MODALIDADE_ENSINO_BOLSA', 'NOME_CURSO_BOLSA',\n",
       "       'NOME_TURNO_CURSO_BOLSA', 'CPF_BENEFICIARIO_BOLSA',\n",
       "       'SEXO_BENEFICIARIO_BOLSA', 'RACA_BENEFICIARIO_BOLSA',\n",
       "       'DT_NASCIMENTO_BENEFICIARIO', 'BENEFICIARIO_DEFICIENTE_FISICO',\n",
       "       'REGIAO_BENEFICIARIO_BOLSA', 'SIGLA_UF_BENEFICIARIO_BOLSA',\n",
       "       'MUNICIPIO_BENEFICIARIO_BOLSA'],\n",
       "      dtype='object')"
      ]
     },
     "execution_count": 12,
     "metadata": {},
     "output_type": "execute_result"
    }
   ],
   "source": [
    "levantamento2005.columns"
   ]
  },
  {
   "cell_type": "code",
   "execution_count": null,
   "metadata": {
    "collapsed": true
   },
   "outputs": [],
   "source": []
  },
  {
   "cell_type": "code",
   "execution_count": null,
   "metadata": {
    "collapsed": true
   },
   "outputs": [],
   "source": []
  },
  {
   "cell_type": "code",
   "execution_count": null,
   "metadata": {
    "collapsed": true
   },
   "outputs": [],
   "source": []
  },
  {
   "cell_type": "code",
   "execution_count": 32,
   "metadata": {},
   "outputs": [
    {
     "name": "stdout",
     "output_type": "stream",
     "text": [
      "Análise: passamos de pouco menos de 100 mil bolsas em 2005 para quase 250 mil em 2016 um aumento de quase 150%\n"
     ]
    },
    {
     "data": {
      "image/png": "[encoded data removed]",
      "text/plain": [
       "<matplotlib.figure.Figure at 0x1d3c80e6cc0>"
      ]
     },
     "metadata": {},
     "output_type": "display_data"
    }
   ],
   "source": [
    "#exibindo quantidade de bolsas por periodo \n",
    "print('Análise: passamos de pouco menos de 100 mil bolsas em 2005 para quase 250 mil em 2016 um aumento de quase 150%')\n",
    "y_axis = [len(levantamento2005),len(levantamento2008),len(levantamento2010),len(levantamento2013),len(levantamento2016)]\n",
    "x_axis = ['2005','2008','2010','2013','2016']\n",
    "width_n = 0.4\n",
    "bar_color = 'yellow'\n",
    "\n",
    "plt.bar(x_axis, y_axis, width=width_n, color=bar_color)\n",
    "plt.show()"
   ]
  },
  {
   "cell_type": "code",
   "execution_count": 145,
   "metadata": {},
   "outputs": [
    {
     "name": "stdout",
     "output_type": "stream",
     "text": [
      "diferença de bolsas entre 2016 e 2005 = 143633\n"
     ]
    }
   ],
   "source": [
    "print('diferença de bolsas entre 2016 e 2005 =' ,len(levantamento2016)-len(levantamento2005))"
   ]
  },
  {
   "cell_type": "code",
   "execution_count": null,
   "metadata": {
    "collapsed": true
   },
   "outputs": [],
   "source": []
  },
  {
   "cell_type": "code",
   "execution_count": 102,
   "metadata": {},
   "outputs": [
    {
     "data": {
      "text/plain": [
       "Index(['ANO_CONCESSAO_BOLSA', 'CODIGO_EMEC_IES_BOLSA', 'NOME_IES_BOLSA',\n",
       "       'TIPO_BOLSA', 'MODALIDADE_ENSINO_BOLSA', 'NOME_CURSO_BOLSA',\n",
       "       'NOME_TURNO_CURSO_BOLSA', 'CPF_BENEFICIARIO_BOLSA',\n",
       "       'SEXO_BENEFICIARIO_BOLSA', 'RACA_BENEFICIARIO_BOLSA',\n",
       "       'DT_NASCIMENTO_BENEFICIARIO', 'BENEFICIARIO_DEFICIENTE_FISICO',\n",
       "       'REGIAO_BENEFICIARIO_BOLSA', 'SIGLA_UF_BENEFICIARIO_BOLSA',\n",
       "       'MUNICIPIO_BENEFICIARIO_BOLSA'],\n",
       "      dtype='object')"
      ]
     },
     "execution_count": 102,
     "metadata": {},
     "output_type": "execute_result"
    }
   ],
   "source": [
    "levantamento2005.columns"
   ]
  },
  {
   "cell_type": "code",
   "execution_count": 17,
   "metadata": {},
   "outputs": [
    {
     "data": {
      "text/plain": [
       "NÃO    94674\n",
       "SIM      955\n",
       "Name: BENEFICIARIO_DEFICIENTE_FISICO, dtype: int64"
      ]
     },
     "execution_count": 17,
     "metadata": {},
     "output_type": "execute_result"
    }
   ],
   "source": [
    "levantamento2005['BENEFICIARIO_DEFICIENTE_FISICO'].value_counts()"
   ]
  },
  {
   "cell_type": "code",
   "execution_count": null,
   "metadata": {
    "collapsed": true
   },
   "outputs": [],
   "source": []
  },
  {
   "cell_type": "code",
   "execution_count": 18,
   "metadata": {},
   "outputs": [
    {
     "data": {
      "text/plain": [
       "NÃO    237492\n",
       "SIM      1770\n",
       "Name: BENEFICIARIO_DEFICIENTE_FISICO, dtype: int64"
      ]
     },
     "execution_count": 18,
     "metadata": {},
     "output_type": "execute_result"
    }
   ],
   "source": [
    "levantamento2016['BENEFICIARIO_DEFICIENTE_FISICO'].value_counts()"
   ]
  },
  {
   "cell_type": "code",
   "execution_count": null,
   "metadata": {
    "collapsed": true
   },
   "outputs": [],
   "source": []
  },
  {
   "cell_type": "code",
   "execution_count": null,
   "metadata": {
    "collapsed": true
   },
   "outputs": [],
   "source": []
  },
  {
   "cell_type": "code",
   "execution_count": null,
   "metadata": {
    "collapsed": true
   },
   "outputs": [],
   "source": []
  },
  {
   "cell_type": "code",
   "execution_count": 28,
   "metadata": {},
   "outputs": [
    {
     "name": "stdout",
     "output_type": "stream",
     "text": [
      " % bolsas para deficientes em 2005\n",
      "0.9986510368193748\n",
      " % bolsas para deficientes em 2016\n",
      "0.7397748075331645\n"
     ]
    }
   ],
   "source": [
    "print(\" % bolsas para deficientes em 2005\")\n",
    "print(porcentagem(94674+ 955,955))\n",
    "print(\" % bolsas para deficientes em 2016\")\n",
    "print(porcentagem(237492+ 1770,1770))\n"
   ]
  },
  {
   "cell_type": "code",
   "execution_count": 24,
   "metadata": {},
   "outputs": [
    {
     "name": "stdout",
     "output_type": "stream",
     "text": [
      "ead x Presencial 2016\n"
     ]
    },
    {
     "data": {
      "image/png": "[encoded data removed]",
      "text/plain": [
       "<matplotlib.figure.Figure at 0x28119d11780>"
      ]
     },
     "metadata": {},
     "output_type": "display_data"
    }
   ],
   "source": [
    "print('Bolsas para deficiêntes em 2016')\n",
    "levantamento2016['BENEFICIARIO_DEFICIENTE_FISICO'].value_counts().plot(kind='barh')\n",
    "plt.rcParams['figure.figsize'] = (5,2)"
   ]
  },
  {
   "cell_type": "code",
   "execution_count": null,
   "metadata": {
    "collapsed": true
   },
   "outputs": [],
   "source": []
  },
  {
   "cell_type": "code",
   "execution_count": null,
   "metadata": {
    "collapsed": true
   },
   "outputs": [],
   "source": []
  },
  {
   "cell_type": "code",
   "execution_count": null,
   "metadata": {
    "collapsed": true
   },
   "outputs": [],
   "source": []
  },
  {
   "cell_type": "code",
   "execution_count": null,
   "metadata": {
    "collapsed": true
   },
   "outputs": [],
   "source": []
  },
  {
   "cell_type": "code",
   "execution_count": null,
   "metadata": {
    "collapsed": true
   },
   "outputs": [],
   "source": []
  },
  {
   "cell_type": "code",
   "execution_count": 4,
   "metadata": {},
   "outputs": [
    {
     "name": "stdout",
     "output_type": "stream",
     "text": [
      "ead x Presencial 2005\n"
     ]
    },
    {
     "data": {
      "image/png": "[encoded data removed]",
      "text/plain": [
       "<matplotlib.figure.Figure at 0x1af54f697b8>"
      ]
     },
     "metadata": {},
     "output_type": "display_data"
    }
   ],
   "source": [
    "print('ead x Presencial 2005')\n",
    "levantamento2005['MODALIDADE_ENSINO_BOLSA'].value_counts().plot(kind='barh')\n",
    "plt.rcParams['figure.figsize'] = (5,5)"
   ]
  },
  {
   "cell_type": "code",
   "execution_count": 3,
   "metadata": {},
   "outputs": [
    {
     "name": "stdout",
     "output_type": "stream",
     "text": [
      "ead x Presencial 2016\n"
     ]
    },
    {
     "data": {
      "image/png": "[encoded data removed]",
      "text/plain": [
       "<matplotlib.figure.Figure at 0x1af4f172860>"
      ]
     },
     "metadata": {},
     "output_type": "display_data"
    }
   ],
   "source": [
    "print('ead x Presencial 2016')\n",
    "levantamento2016['MODALIDADE_ENSINO_BOLSA'].value_counts().plot(kind='barh')\n",
    "plt.rcParams['figure.figsize'] = (5,5)"
   ]
  },
  {
   "cell_type": "code",
   "execution_count": null,
   "metadata": {
    "collapsed": true
   },
   "outputs": [],
   "source": []
  },
  {
   "cell_type": "code",
   "execution_count": 13,
   "metadata": {
    "collapsed": true
   },
   "outputs": [],
   "source": [
    "\n",
    "def porcentagem(total,vlPercentual):\n",
    "    t = total\n",
    "    v = vlPercentual\n",
    "    v*100\n",
    "    p =  v/t\n",
    "    p = p*100\n",
    "    return p\n"
   ]
  },
  {
   "cell_type": "code",
   "execution_count": 16,
   "metadata": {},
   "outputs": [
    {
     "data": {
      "text/plain": [
       "75.0"
      ]
     },
     "execution_count": 16,
     "metadata": {},
     "output_type": "execute_result"
    }
   ],
   "source": [
    "porcentagem(200,150)"
   ]
  },
  {
   "cell_type": "code",
   "execution_count": null,
   "metadata": {
    "collapsed": true
   },
   "outputs": [],
   "source": []
  },
  {
   "cell_type": "code",
   "execution_count": null,
   "metadata": {
    "collapsed": true
   },
   "outputs": [],
   "source": []
  },
  {
   "cell_type": "code",
   "execution_count": null,
   "metadata": {
    "collapsed": true
   },
   "outputs": [],
   "source": []
  },
  {
   "cell_type": "code",
   "execution_count": 96,
   "metadata": {},
   "outputs": [
    {
     "name": "stdout",
     "output_type": "stream",
     "text": [
      "porcentagem ead 2005:  4.985935228853172\n",
      "porcentagem ead 2008:  11.16184270708789\n",
      "porcentagem ead 2010:  13.924299267348902\n",
      "porcentagem ead 2013:  22.909781983465482\n",
      "porcentagem ead 2016:  20.00526619354515\n"
     ]
    }
   ],
   "source": [
    "total2005 = len(levantamento2005)\n",
    "percentual2005 = len(levantamento2005[levantamento2005['MODALIDADE_ENSINO_BOLSA'] == 'EDUCAÇÃO A DISTÂNCIA'])\n",
    "print('porcentagem ead 2005: ',porcentagem(total2005,percentual2005))\n",
    "\n",
    "total2008 = len(levantamento2008)\n",
    "percentual2008 = len(levantamento2008[levantamento2008['MODALIDADE_ENSINO_BOLSA'] == 'EDUCAÇÃO A DISTÂNCIA'])\n",
    "print('porcentagem ead 2008: ',porcentagem(total2008,percentual2008))\n",
    "\n",
    "total2010 = len(levantamento2010)\n",
    "percentual2010 = len(levantamento2010[levantamento2010['MODALIDADE_ENSINO_BOLSA'] == 'EDUCAÇÃO A DISTÂNCIA'])\n",
    "print('porcentagem ead 2010: ',porcentagem(total2010,percentual2010))\n",
    "\n",
    "total2013 = len(levantamento2013)\n",
    "percentual2013 = len(levantamento2013[levantamento2013['MODALIDADE_ENSINO_BOLSA'] == 'EDUCAÇÃO A DISTÂNCIA'])\n",
    "print('porcentagem ead 2013: ',porcentagem(total2013,percentual2013))\n",
    "\n",
    "total2016 = len(levantamento2016)\n",
    "percentual2016 = len(levantamento2016[levantamento2016['MODALIDADE_ENSINO_BOLSA'] == 'EDUCAÇÃO A DISTÂNCIA'])\n",
    "print('porcentagem ead 2016: ',porcentagem(total2016,percentual2016))\n"
   ]
  },
  {
   "cell_type": "code",
   "execution_count": 97,
   "metadata": {},
   "outputs": [
    {
     "data": {
      "text/plain": [
       "PRESENCIAL              191397\n",
       "EDUCAÇÃO A DISTÂNCIA     47865\n",
       "Name: MODALIDADE_ENSINO_BOLSA, dtype: int64"
      ]
     },
     "execution_count": 97,
     "metadata": {},
     "output_type": "execute_result"
    }
   ],
   "source": [
    "levantamento2016['MODALIDADE_ENSINO_BOLSA'].value_counts()"
   ]
  },
  {
   "cell_type": "code",
   "execution_count": 99,
   "metadata": {},
   "outputs": [
    {
     "data": {
      "text/plain": [
       "PRESENCIAL              136701\n",
       "EDUCAÇÃO A DISTÂNCIA     40625\n",
       "Name: MODALIDADE_ENSINO_BOLSA, dtype: int64"
      ]
     },
     "execution_count": 99,
     "metadata": {},
     "output_type": "execute_result"
    }
   ],
   "source": [
    "levantamento2013['MODALIDADE_ENSINO_BOLSA'].value_counts()"
   ]
  },
  {
   "cell_type": "code",
   "execution_count": 179,
   "metadata": {},
   "outputs": [
    {
     "data": {
      "image/png": "[encoded data removed]",
      "text/plain": [
       "<matplotlib.figure.Figure at 0x1d3ca907160>"
      ]
     },
     "metadata": {},
     "output_type": "display_data"
    }
   ],
   "source": [
    "data1 = [porcentagem(total2005,percentual2005),porcentagem(total2008,percentual2008),porcentagem(total2010,percentual2010),\n",
    "         porcentagem(total2013,percentual2013),porcentagem(total2016,percentual2016)]\n",
    "\n",
    "x = 10*np.array(range(len(data1)))\n",
    "\n",
    "plt.plot( x, data1, 'go') # green bolinha\n",
    "plt.plot( x, data1, 'k:', color='orange') # linha pontilha orange\n",
    "\n",
    "\n",
    "plt.axis([0, 100, 0, 45])\n",
    "plt.title(\"Mais incrementado\")\n",
    "\n",
    "plt.grid(True)\n",
    "plt.xlabel(\"% bolsas EAD\")\n",
    "plt.ylabel(\"que lega\")\n",
    "plt.show()"
   ]
  },
  {
   "cell_type": "code",
   "execution_count": null,
   "metadata": {
    "collapsed": true
   },
   "outputs": [],
   "source": []
  },
  {
   "cell_type": "code",
   "execution_count": null,
   "metadata": {
    "collapsed": true
   },
   "outputs": [],
   "source": []
  },
  {
   "cell_type": "code",
   "execution_count": null,
   "metadata": {
    "collapsed": true
   },
   "outputs": [],
   "source": []
  },
  {
   "cell_type": "code",
   "execution_count": null,
   "metadata": {
    "collapsed": true
   },
   "outputs": [],
   "source": []
  },
  {
   "cell_type": "code",
   "execution_count": null,
   "metadata": {
    "collapsed": true
   },
   "outputs": [],
   "source": []
  },
  {
   "cell_type": "code",
   "execution_count": null,
   "metadata": {
    "collapsed": true
   },
   "outputs": [],
   "source": []
  },
  {
   "cell_type": "code",
   "execution_count": null,
   "metadata": {
    "collapsed": true
   },
   "outputs": [],
   "source": []
  },
  {
   "cell_type": "code",
   "execution_count": null,
   "metadata": {
    "collapsed": true
   },
   "outputs": [],
   "source": []
  },
  {
   "cell_type": "code",
   "execution_count": null,
   "metadata": {
    "collapsed": true
   },
   "outputs": [],
   "source": []
  },
  {
   "cell_type": "code",
   "execution_count": null,
   "metadata": {
    "collapsed": true
   },
   "outputs": [],
   "source": []
  },
  {
   "cell_type": "code",
   "execution_count": null,
   "metadata": {
    "collapsed": true
   },
   "outputs": [],
   "source": []
  },
  {
   "cell_type": "code",
   "execution_count": null,
   "metadata": {
    "collapsed": true
   },
   "outputs": [],
   "source": []
  },
  {
   "cell_type": "code",
   "execution_count": null,
   "metadata": {
    "collapsed": true
   },
   "outputs": [],
   "source": []
  },
  {
   "cell_type": "code",
   "execution_count": null,
   "metadata": {
    "collapsed": true
   },
   "outputs": [],
   "source": []
  },
  {
   "cell_type": "code",
   "execution_count": null,
   "metadata": {
    "collapsed": true
   },
   "outputs": [],
   "source": []
  },
  {
   "cell_type": "code",
   "execution_count": 118,
   "metadata": {},
   "outputs": [
    {
     "name": "stdout",
     "output_type": "stream",
     "text": [
      "Distribuição de bolsas por Cursos 2005\n"
     ]
    },
    {
     "data": {
      "image/png": "[encoded data removed]",
      "text/plain": [
       "<matplotlib.figure.Figure at 0x1d3cb544ba8>"
      ]
     },
     "metadata": {},
     "output_type": "display_data"
    }
   ],
   "source": [
    "print(\"Distribuição de bolsas por Cursos 2005\")\n",
    "levantamento2005['NOME_CURSO_BOLSA'].value_counts().head(5).plot(kind='barh')\n",
    "plt.rcParams['figure.figsize'] = (5,5)"
   ]
  },
  {
   "cell_type": "code",
   "execution_count": 58,
   "metadata": {},
   "outputs": [
    {
     "name": "stdout",
     "output_type": "stream",
     "text": [
      "Distribuição de bolsas por Cursos 2008\n"
     ]
    },
    {
     "data": {
      "image/png": "[encoded data removed]",
      "text/plain": [
       "<matplotlib.figure.Figure at 0x27fa8b49780>"
      ]
     },
     "metadata": {},
     "output_type": "display_data"
    }
   ],
   "source": [
    "print(\"Distribuição de bolsas por Cursos 2008\")\n",
    "levantamento2008['NOME_CURSO_BOLSA'].value_counts().head(15).plot(kind='barh')\n",
    "plt.rcParams['figure.figsize'] = (5,5)"
   ]
  },
  {
   "cell_type": "code",
   "execution_count": 59,
   "metadata": {},
   "outputs": [
    {
     "name": "stdout",
     "output_type": "stream",
     "text": [
      "Distribuição de bolsas por Cursos 2008\n"
     ]
    },
    {
     "data": {
      "image/png": "[encoded data removed]",
      "text/plain": [
       "<matplotlib.figure.Figure at 0x27fad162f28>"
      ]
     },
     "metadata": {},
     "output_type": "display_data"
    }
   ],
   "source": [
    "print(\"Distribuição de bolsas por Cursos 2008\")\n",
    "levantamento2016['NOME_CURSO_BOLSA'].value_counts().head(15).plot(kind='barh')\n",
    "plt.rcParams['figure.figsize'] = (5,5)"
   ]
  },
  {
   "cell_type": "code",
   "execution_count": null,
   "metadata": {
    "collapsed": true
   },
   "outputs": [],
   "source": []
  },
  {
   "cell_type": "code",
   "execution_count": null,
   "metadata": {
    "collapsed": true
   },
   "outputs": [],
   "source": []
  },
  {
   "cell_type": "code",
   "execution_count": null,
   "metadata": {
    "collapsed": true
   },
   "outputs": [],
   "source": []
  },
  {
   "cell_type": "code",
   "execution_count": 120,
   "metadata": {},
   "outputs": [
    {
     "name": "stdout",
     "output_type": "stream",
     "text": [
      "Distribuição de bolsas por Cursos 2010\n"
     ]
    },
    {
     "data": {
      "image/png": "[encoded data removed]",
      "text/plain": [
       "<matplotlib.figure.Figure at 0x1d3cca8a710>"
      ]
     },
     "metadata": {},
     "output_type": "display_data"
    }
   ],
   "source": [
    "print(\"Distribuição de bolsas por Cursos 2010\")\n",
    "levantamento2010['NOME_CURSO_BOLSA'].value_counts().head(5).plot(kind='barh')\n",
    "plt.rcParams['figure.figsize'] = (5,5)"
   ]
  },
  {
   "cell_type": "code",
   "execution_count": null,
   "metadata": {
    "collapsed": true
   },
   "outputs": [],
   "source": []
  },
  {
   "cell_type": "code",
   "execution_count": 121,
   "metadata": {},
   "outputs": [
    {
     "name": "stdout",
     "output_type": "stream",
     "text": [
      "Distribuição de bolsas por Cursos 2013\n"
     ]
    },
    {
     "data": {
      "image/png": "[encoded data removed]",
      "text/plain": [
       "<matplotlib.figure.Figure at 0x1d3ccaa47f0>"
      ]
     },
     "metadata": {},
     "output_type": "display_data"
    }
   ],
   "source": [
    "print(\"Distribuição de bolsas por Cursos 2013\")\n",
    "levantamento2013['NOME_CURSO_BOLSA'].value_counts().head(5).plot(kind='barh')\n",
    "plt.rcParams['figure.figsize'] = (5,5)"
   ]
  },
  {
   "cell_type": "code",
   "execution_count": 122,
   "metadata": {},
   "outputs": [
    {
     "name": "stdout",
     "output_type": "stream",
     "text": [
      "Distribuição de bolsas por Cursos 2016\n"
     ]
    },
    {
     "data": {
      "image/png": "[encoded data removed]",
      "text/plain": [
       "<matplotlib.figure.Figure at 0x1d3cdafa550>"
      ]
     },
     "metadata": {},
     "output_type": "display_data"
    }
   ],
   "source": [
    "print(\"Distribuição de bolsas por Cursos 2016\")\n",
    "levantamento2016['NOME_CURSO_BOLSA'].value_counts().head(5).plot(kind='barh')\n",
    "plt.rcParams['figure.figsize'] = (5,5)"
   ]
  },
  {
   "cell_type": "code",
   "execution_count": null,
   "metadata": {
    "collapsed": true
   },
   "outputs": [],
   "source": []
  },
  {
   "cell_type": "code",
   "execution_count": 123,
   "metadata": {},
   "outputs": [
    {
     "data": {
      "text/plain": [
       "<matplotlib.axes._subplots.AxesSubplot at 0x1d3c91b94a8>"
      ]
     },
     "execution_count": 123,
     "metadata": {},
     "output_type": "execute_result"
    },
    {
     "data": {
      "image/png": "[encoded data removed]",
      "text/plain": [
       "<matplotlib.figure.Figure at 0x1d3cdb58588>"
      ]
     },
     "metadata": {},
     "output_type": "display_data"
    }
   ],
   "source": [
    "\n",
    "levantamento2005['NOME_TURNO_CURSO_BOLSA'].value_counts().plot(kind='barh')"
   ]
  },
  {
   "cell_type": "code",
   "execution_count": 125,
   "metadata": {},
   "outputs": [
    {
     "data": {
      "text/plain": [
       "<matplotlib.axes._subplots.AxesSubplot at 0x1d3cdb14a20>"
      ]
     },
     "execution_count": 125,
     "metadata": {},
     "output_type": "execute_result"
    },
    {
     "data": {
      "image/png": "[encoded data removed]",
      "text/plain": [
       "<matplotlib.figure.Figure at 0x1d3cdb250f0>"
      ]
     },
     "metadata": {},
     "output_type": "display_data"
    }
   ],
   "source": [
    "\n",
    "levantamento2016['NOME_TURNO_CURSO_BOLSA'].value_counts().plot(kind='barh')"
   ]
  },
  {
   "cell_type": "code",
   "execution_count": 6,
   "metadata": {},
   "outputs": [
    {
     "name": "stdout",
     "output_type": "stream",
     "text": [
      "Distribuição de bolsas por sexo 2005\n"
     ]
    },
    {
     "data": {
      "text/plain": [
       "<matplotlib.axes._subplots.AxesSubplot at 0x1af54f2ff98>"
      ]
     },
     "execution_count": 6,
     "metadata": {},
     "output_type": "execute_result"
    },
    {
     "data": {
      "image/png": "[encoded data removed]",
      "text/plain": [
       "<matplotlib.figure.Figure at 0x1af55006390>"
      ]
     },
     "metadata": {},
     "output_type": "display_data"
    }
   ],
   "source": [
    "print(\"Distribuição de bolsas por sexo 2005\")\n",
    "levantamento2005['SEXO_BENEFICIARIO_BOLSA'].value_counts().plot(kind='barh')"
   ]
  },
  {
   "cell_type": "code",
   "execution_count": 5,
   "metadata": {},
   "outputs": [
    {
     "name": "stdout",
     "output_type": "stream",
     "text": [
      "Distribuição de bolsas por sexo 2016\n"
     ]
    },
    {
     "data": {
      "text/plain": [
       "<matplotlib.axes._subplots.AxesSubplot at 0x1af54faf5f8>"
      ]
     },
     "execution_count": 5,
     "metadata": {},
     "output_type": "execute_result"
    },
    {
     "data": {
      "image/png": "[encoded data removed]",
      "text/plain": [
       "<matplotlib.figure.Figure at 0x1af54fe6eb8>"
      ]
     },
     "metadata": {},
     "output_type": "display_data"
    }
   ],
   "source": [
    "print(\"Distribuição de bolsas por sexo 2016\")\n",
    "levantamento2016['SEXO_BENEFICIARIO_BOLSA'].value_counts().plot(kind='barh')"
   ]
  },
  {
   "cell_type": "code",
   "execution_count": null,
   "metadata": {
    "collapsed": true
   },
   "outputs": [],
   "source": []
  },
  {
   "cell_type": "code",
   "execution_count": null,
   "metadata": {
    "collapsed": true
   },
   "outputs": [],
   "source": []
  },
  {
   "cell_type": "code",
   "execution_count": 7,
   "metadata": {},
   "outputs": [
    {
     "name": "stdout",
     "output_type": "stream",
     "text": [
      "Distribuição de bolsas por raça em 2005\n"
     ]
    },
    {
     "data": {
      "text/plain": [
       "<matplotlib.axes._subplots.AxesSubplot at 0x1af551cbd68>"
      ]
     },
     "execution_count": 7,
     "metadata": {},
     "output_type": "execute_result"
    },
    {
     "data": {
      "image/png": "[encoded data removed]",
      "text/plain": [
       "<matplotlib.figure.Figure at 0x1af55194c50>"
      ]
     },
     "metadata": {},
     "output_type": "display_data"
    }
   ],
   "source": [
    "\n",
    "print(\"Distribuição de bolsas por raça em 2005\")\n",
    "levantamento2005['RACA_BENEFICIARIO_BOLSA'].value_counts().plot(kind='barh')"
   ]
  },
  {
   "cell_type": "code",
   "execution_count": null,
   "metadata": {
    "collapsed": true
   },
   "outputs": [],
   "source": []
  },
  {
   "cell_type": "code",
   "execution_count": 8,
   "metadata": {},
   "outputs": [
    {
     "name": "stdout",
     "output_type": "stream",
     "text": [
      "Distribuição de bolsas por raça em 2016\n"
     ]
    },
    {
     "data": {
      "text/plain": [
       "<matplotlib.axes._subplots.AxesSubplot at 0x1af55454dd8>"
      ]
     },
     "execution_count": 8,
     "metadata": {},
     "output_type": "execute_result"
    },
    {
     "data": {
      "image/png": "[encoded data removed]",
      "text/plain": [
       "<matplotlib.figure.Figure at 0x1af554312b0>"
      ]
     },
     "metadata": {},
     "output_type": "display_data"
    }
   ],
   "source": [
    "\n",
    "print(\"Distribuição de bolsas por raça em 2016\")\n",
    "levantamento2016['RACA_BENEFICIARIO_BOLSA'].value_counts().plot(kind='barh')"
   ]
  },
  {
   "cell_type": "code",
   "execution_count": null,
   "metadata": {
    "collapsed": true
   },
   "outputs": [],
   "source": []
  },
  {
   "cell_type": "code",
   "execution_count": null,
   "metadata": {
    "collapsed": true
   },
   "outputs": [],
   "source": []
  },
  {
   "cell_type": "code",
   "execution_count": 10,
   "metadata": {},
   "outputs": [
    {
     "name": "stdout",
     "output_type": "stream",
     "text": [
      "Distribuição de bolsas por região em 2005\n"
     ]
    },
    {
     "data": {
      "image/png": "[encoded data removed]",
      "text/plain": [
       "<matplotlib.figure.Figure at 0x1af554e9a90>"
      ]
     },
     "metadata": {},
     "output_type": "display_data"
    }
   ],
   "source": [
    "print(\"Distribuição de bolsas por região em 2005\")\n",
    "levantamento2005['REGIAO_BENEFICIARIO_BOLSA'].value_counts().plot(kind='barh')\n",
    "plt.rcParams['figure.figsize'] = (5,2)"
   ]
  },
  {
   "cell_type": "code",
   "execution_count": 11,
   "metadata": {},
   "outputs": [
    {
     "name": "stdout",
     "output_type": "stream",
     "text": [
      "Distribuição de bolsas por região em 2016\n"
     ]
    },
    {
     "data": {
      "image/png": "[encoded data removed]",
      "text/plain": [
       "<matplotlib.figure.Figure at 0x1af555695f8>"
      ]
     },
     "metadata": {},
     "output_type": "display_data"
    }
   ],
   "source": [
    "print(\"Distribuição de bolsas por região em 2016\")\n",
    "levantamento2016['REGIAO_BENEFICIARIO_BOLSA'].value_counts().plot(kind='barh')\n",
    "plt.rcParams['figure.figsize'] = (5,5)"
   ]
  },
  {
   "cell_type": "code",
   "execution_count": null,
   "metadata": {
    "collapsed": true
   },
   "outputs": [],
   "source": []
  },
  {
   "cell_type": "code",
   "execution_count": null,
   "metadata": {
    "collapsed": true
   },
   "outputs": [],
   "source": []
  },
  {
   "cell_type": "code",
   "execution_count": 60,
   "metadata": {},
   "outputs": [
    {
     "name": "stdout",
     "output_type": "stream",
     "text": [
      "Distribuição de bolsas por Instituições as 5 principais 2005\n"
     ]
    },
    {
     "data": {
      "image/png": "[encoded data removed]",
      "text/plain": [
       "<matplotlib.figure.Figure at 0x27fad681390>"
      ]
     },
     "metadata": {},
     "output_type": "display_data"
    }
   ],
   "source": [
    "print(\"Distribuição de bolsas por Instituições as 5 principais 2005\")\n",
    "levantamento2005['NOME_IES_BOLSA'].value_counts().head(20).plot(kind='barh')\n",
    "plt.rcParams['figure.figsize'] = (20,30)"
   ]
  },
  {
   "cell_type": "code",
   "execution_count": 61,
   "metadata": {},
   "outputs": [
    {
     "name": "stdout",
     "output_type": "stream",
     "text": [
      "Distribuição de bolsas por Instituições as 5 principais 2005\n"
     ]
    },
    {
     "data": {
      "image/png": "[encoded data removed]",
      "text/plain": [
       "<matplotlib.figure.Figure at 0x27fad6aae80>"
      ]
     },
     "metadata": {},
     "output_type": "display_data"
    }
   ],
   "source": [
    "print(\"Distribuição de bolsas por Instituições as 5 principais 2005\")\n",
    "levantamento2016['NOME_IES_BOLSA'].value_counts().head(20).plot(kind='barh')\n",
    "plt.rcParams['figure.figsize'] = (20,30)"
   ]
  },
  {
   "cell_type": "code",
   "execution_count": null,
   "metadata": {
    "collapsed": true
   },
   "outputs": [],
   "source": []
  },
  {
   "cell_type": "code",
   "execution_count": 13,
   "metadata": {},
   "outputs": [
    {
     "name": "stdout",
     "output_type": "stream",
     "text": [
      "Distribuição de bolsas por Instituições as 5 principais 2016\n"
     ]
    },
    {
     "data": {
      "image/png": "[encoded data removed]",
      "text/plain": [
       "<matplotlib.figure.Figure at 0x1af5550d908>"
      ]
     },
     "metadata": {},
     "output_type": "display_data"
    }
   ],
   "source": [
    "print(\"Distribuição de bolsas por Instituições as 5 principais 2016\")\n",
    "levantamento2016['NOME_IES_BOLSA'].value_counts().head(5).plot(kind='barh')\n",
    "plt.rcParams['figure.figsize'] = (2,5)"
   ]
  },
  {
   "cell_type": "code",
   "execution_count": 17,
   "metadata": {},
   "outputs": [
    {
     "data": {
      "text/plain": [
       "Index(['ANO_CONCESSAO_BOLSA', 'CODIGO_EMEC_IES_BOLSA', 'NOME_IES_BOLSA',\n",
       "       'TIPO_BOLSA', 'MODALIDADE_ENSINO_BOLSA', 'NOME_CURSO_BOLSA',\n",
       "       'NOME_TURNO_CURSO_BOLSA', 'CPF_BENEFICIARIO_BOLSA',\n",
       "       'SEXO_BENEFICIARIO_BOLSA', 'RACA_BENEFICIARIO_BOLSA',\n",
       "       'DT_NASCIMENTO_BENEFICIARIO', 'BENEFICIARIO_DEFICIENTE_FISICO',\n",
       "       'REGIAO_BENEFICIARIO_BOLSA', 'SIGLA_UF_BENEFICIARIO_BOLSA',\n",
       "       'MUNICIPIO_BENEFICIARIO_BOLSA'],\n",
       "      dtype='object')"
      ]
     },
     "execution_count": 17,
     "metadata": {},
     "output_type": "execute_result"
    }
   ],
   "source": [
    "levantamento2016.columns"
   ]
  },
  {
   "cell_type": "code",
   "execution_count": null,
   "metadata": {
    "collapsed": true
   },
   "outputs": [],
   "source": []
  },
  {
   "cell_type": "code",
   "execution_count": null,
   "metadata": {
    "collapsed": true
   },
   "outputs": [],
   "source": []
  },
  {
   "cell_type": "code",
   "execution_count": null,
   "metadata": {
    "collapsed": true
   },
   "outputs": [],
   "source": []
  },
  {
   "cell_type": "code",
   "execution_count": null,
   "metadata": {
    "collapsed": true
   },
   "outputs": [],
   "source": []
  },
  {
   "cell_type": "code",
   "execution_count": null,
   "metadata": {
    "collapsed": true
   },
   "outputs": [],
   "source": []
  },
  {
   "cell_type": "code",
   "execution_count": null,
   "metadata": {
    "collapsed": true
   },
   "outputs": [],
   "source": []
  },
  {
   "cell_type": "code",
   "execution_count": null,
   "metadata": {
    "collapsed": true
   },
   "outputs": [],
   "source": []
  },
  {
   "cell_type": "code",
   "execution_count": 41,
   "metadata": {},
   "outputs": [
    {
     "name": "stdout",
     "output_type": "stream",
     "text": [
      "Distribuição de bolsas por Instituições as 5 principais 2005\n"
     ]
    },
    {
     "data": {
      "image/png": "[encoded data removed]",
      "text/plain": [
       "<matplotlib.figure.Figure at 0x1af5600e390>"
      ]
     },
     "metadata": {},
     "output_type": "display_data"
    }
   ],
   "source": [
    "print(\"Distribuição de bolsas por Instituições as 5 principais 2005\")\n",
    "levantamento2005['SIGLA_UF_BENEFICIARIO_BOLSA'].value_counts().head(20).plot(kind='barh')\n",
    "plt.rcParams['figure.figsize'] = (18,5)"
   ]
  },
  {
   "cell_type": "code",
   "execution_count": 42,
   "metadata": {},
   "outputs": [
    {
     "name": "stdout",
     "output_type": "stream",
     "text": [
      "Distribuição de bolsas por Instituições as 5 principais 2005\n"
     ]
    },
    {
     "data": {
      "image/png": "[encoded data removed]",
      "text/plain": [
       "<matplotlib.figure.Figure at 0x1af546ada20>"
      ]
     },
     "metadata": {},
     "output_type": "display_data"
    }
   ],
   "source": [
    "print(\"Distribuição de bolsas por Instituições as 5 principais 2005\")\n",
    "levantamento2016['SIGLA_UF_BENEFICIARIO_BOLSA'].value_counts().head(20).plot(kind='barh')\n",
    "plt.rcParams['figure.figsize'] = (18,5)"
   ]
  },
  {
   "cell_type": "code",
   "execution_count": null,
   "metadata": {
    "collapsed": true
   },
   "outputs": [],
   "source": []
  },
  {
   "cell_type": "code",
   "execution_count": 22,
   "metadata": {
    "collapsed": true
   },
   "outputs": [],
   "source": [
    "ds =levantamento2016.groupby(['REGIAO_BENEFICIARIO_BOLSA'])['NOME_CURSO_BOLSA'].value_counts()"
   ]
  },
  {
   "cell_type": "code",
   "execution_count": null,
   "metadata": {
    "collapsed": true
   },
   "outputs": [],
   "source": []
  },
  {
   "cell_type": "code",
   "execution_count": null,
   "metadata": {
    "collapsed": true
   },
   "outputs": [],
   "source": []
  },
  {
   "cell_type": "code",
   "execution_count": null,
   "metadata": {
    "collapsed": true
   },
   "outputs": [],
   "source": []
  },
  {
   "cell_type": "code",
   "execution_count": 24,
   "metadata": {},
   "outputs": [
    {
     "data": {
      "text/html": [
       "<div>\n",
       "<style>\n",
       "    .dataframe thead tr:only-child th {\n",
       "        text-align: right;\n",
       "    }\n",
       "\n",
       "    .dataframe thead th {\n",
       "        text-align: left;\n",
       "    }\n",
       "\n",
       "    .dataframe tbody tr th {\n",
       "        vertical-align: top;\n",
       "    }\n",
       "</style>\n",
       "<table border=\"1\" class=\"dataframe\">\n",
       "  <thead>\n",
       "    <tr style=\"text-align: right;\">\n",
       "      <th></th>\n",
       "      <th>ANO_CONCESSAO_BOLSA</th>\n",
       "      <th>CODIGO_EMEC_IES_BOLSA</th>\n",
       "      <th>NOME_IES_BOLSA</th>\n",
       "      <th>TIPO_BOLSA</th>\n",
       "      <th>MODALIDADE_ENSINO_BOLSA</th>\n",
       "      <th>NOME_CURSO_BOLSA</th>\n",
       "      <th>NOME_TURNO_CURSO_BOLSA</th>\n",
       "      <th>CPF_BENEFICIARIO_BOLSA</th>\n",
       "      <th>SEXO_BENEFICIARIO_BOLSA</th>\n",
       "      <th>RACA_BENEFICIARIO_BOLSA</th>\n",
       "      <th>DT_NASCIMENTO_BENEFICIARIO</th>\n",
       "      <th>BENEFICIARIO_DEFICIENTE_FISICO</th>\n",
       "      <th>REGIAO_BENEFICIARIO_BOLSA</th>\n",
       "      <th>SIGLA_UF_BENEFICIARIO_BOLSA</th>\n",
       "      <th>MUNICIPIO_BENEFICIARIO_BOLSA</th>\n",
       "    </tr>\n",
       "  </thead>\n",
       "  <tbody>\n",
       "    <tr>\n",
       "      <th>0</th>\n",
       "      <td>2016</td>\n",
       "      <td>20</td>\n",
       "      <td>UNIVERSIDADE DE PASSO FUNDO</td>\n",
       "      <td>BOLSA PARCIAL 50%</td>\n",
       "      <td>PRESENCIAL</td>\n",
       "      <td>Administração</td>\n",
       "      <td>Noturno</td>\n",
       "      <td>***847010**</td>\n",
       "      <td>Feminino</td>\n",
       "      <td>Branca</td>\n",
       "      <td>06-12-1995</td>\n",
       "      <td>NÃO</td>\n",
       "      <td>SUL</td>\n",
       "      <td>RS</td>\n",
       "      <td>SOLEDADE</td>\n",
       "    </tr>\n",
       "    <tr>\n",
       "      <th>1</th>\n",
       "      <td>2016</td>\n",
       "      <td>20</td>\n",
       "      <td>UNIVERSIDADE DE PASSO FUNDO</td>\n",
       "      <td>BOLSA INTEGRAL</td>\n",
       "      <td>PRESENCIAL</td>\n",
       "      <td>Administração</td>\n",
       "      <td>Noturno</td>\n",
       "      <td>***377850**</td>\n",
       "      <td>Feminino</td>\n",
       "      <td>Branca</td>\n",
       "      <td>08-08-1990</td>\n",
       "      <td>NÃO</td>\n",
       "      <td>SUL</td>\n",
       "      <td>RS</td>\n",
       "      <td>SOLEDADE</td>\n",
       "    </tr>\n",
       "    <tr>\n",
       "      <th>2</th>\n",
       "      <td>2016</td>\n",
       "      <td>20</td>\n",
       "      <td>UNIVERSIDADE DE PASSO FUNDO</td>\n",
       "      <td>BOLSA PARCIAL 50%</td>\n",
       "      <td>PRESENCIAL</td>\n",
       "      <td>Administração</td>\n",
       "      <td>Noturno</td>\n",
       "      <td>***266150**</td>\n",
       "      <td>Masculino</td>\n",
       "      <td>Branca</td>\n",
       "      <td>08-03-1999</td>\n",
       "      <td>NÃO</td>\n",
       "      <td>SUL</td>\n",
       "      <td>RS</td>\n",
       "      <td>SOLEDADE</td>\n",
       "    </tr>\n",
       "    <tr>\n",
       "      <th>3</th>\n",
       "      <td>2016</td>\n",
       "      <td>20</td>\n",
       "      <td>UNIVERSIDADE DE PASSO FUNDO</td>\n",
       "      <td>BOLSA PARCIAL 50%</td>\n",
       "      <td>PRESENCIAL</td>\n",
       "      <td>Administração</td>\n",
       "      <td>Noturno</td>\n",
       "      <td>***408700**</td>\n",
       "      <td>Feminino</td>\n",
       "      <td>Branca</td>\n",
       "      <td>24-04-1997</td>\n",
       "      <td>NÃO</td>\n",
       "      <td>SUL</td>\n",
       "      <td>RS</td>\n",
       "      <td>SOLEDADE</td>\n",
       "    </tr>\n",
       "    <tr>\n",
       "      <th>4</th>\n",
       "      <td>2016</td>\n",
       "      <td>423</td>\n",
       "      <td>UNIVERSIDADE REGIONAL INTEGRADA DO ALTO URUGUA...</td>\n",
       "      <td>BOLSA PARCIAL 50%</td>\n",
       "      <td>PRESENCIAL</td>\n",
       "      <td>Ciências Contábeis</td>\n",
       "      <td>Noturno</td>\n",
       "      <td>***560300**</td>\n",
       "      <td>Masculino</td>\n",
       "      <td>Branca</td>\n",
       "      <td>07-05-1994</td>\n",
       "      <td>NÃO</td>\n",
       "      <td>SUL</td>\n",
       "      <td>RS</td>\n",
       "      <td>ERECHIM</td>\n",
       "    </tr>\n",
       "    <tr>\n",
       "      <th>5</th>\n",
       "      <td>2016</td>\n",
       "      <td>423</td>\n",
       "      <td>UNIVERSIDADE REGIONAL INTEGRADA DO ALTO URUGUA...</td>\n",
       "      <td>BOLSA INTEGRAL</td>\n",
       "      <td>PRESENCIAL</td>\n",
       "      <td>Ciências Contábeis</td>\n",
       "      <td>Noturno</td>\n",
       "      <td>***282250**</td>\n",
       "      <td>Feminino</td>\n",
       "      <td>Branca</td>\n",
       "      <td>08-11-1993</td>\n",
       "      <td>NÃO</td>\n",
       "      <td>SUL</td>\n",
       "      <td>RS</td>\n",
       "      <td>ERECHIM</td>\n",
       "    </tr>\n",
       "    <tr>\n",
       "      <th>6</th>\n",
       "      <td>2016</td>\n",
       "      <td>423</td>\n",
       "      <td>UNIVERSIDADE REGIONAL INTEGRADA DO ALTO URUGUA...</td>\n",
       "      <td>BOLSA INTEGRAL</td>\n",
       "      <td>PRESENCIAL</td>\n",
       "      <td>Ciências Contábeis</td>\n",
       "      <td>Noturno</td>\n",
       "      <td>***237150**</td>\n",
       "      <td>Feminino</td>\n",
       "      <td>Branca</td>\n",
       "      <td>12-02-1997</td>\n",
       "      <td>NÃO</td>\n",
       "      <td>SUL</td>\n",
       "      <td>RS</td>\n",
       "      <td>ERECHIM</td>\n",
       "    </tr>\n",
       "    <tr>\n",
       "      <th>7</th>\n",
       "      <td>2016</td>\n",
       "      <td>423</td>\n",
       "      <td>UNIVERSIDADE REGIONAL INTEGRADA DO ALTO URUGUA...</td>\n",
       "      <td>BOLSA INTEGRAL</td>\n",
       "      <td>PRESENCIAL</td>\n",
       "      <td>Ciências Contábeis</td>\n",
       "      <td>Noturno</td>\n",
       "      <td>***955950**</td>\n",
       "      <td>Masculino</td>\n",
       "      <td>Preta</td>\n",
       "      <td>07-04-1982</td>\n",
       "      <td>NÃO</td>\n",
       "      <td>SUL</td>\n",
       "      <td>RS</td>\n",
       "      <td>ERECHIM</td>\n",
       "    </tr>\n",
       "    <tr>\n",
       "      <th>8</th>\n",
       "      <td>2016</td>\n",
       "      <td>423</td>\n",
       "      <td>UNIVERSIDADE REGIONAL INTEGRADA DO ALTO URUGUA...</td>\n",
       "      <td>BOLSA INTEGRAL</td>\n",
       "      <td>PRESENCIAL</td>\n",
       "      <td>Direito</td>\n",
       "      <td>Noturno</td>\n",
       "      <td>***110480**</td>\n",
       "      <td>Feminino</td>\n",
       "      <td>Branca</td>\n",
       "      <td>13-01-1998</td>\n",
       "      <td>NÃO</td>\n",
       "      <td>SUL</td>\n",
       "      <td>RS</td>\n",
       "      <td>ERECHIM</td>\n",
       "    </tr>\n",
       "    <tr>\n",
       "      <th>9</th>\n",
       "      <td>2016</td>\n",
       "      <td>423</td>\n",
       "      <td>UNIVERSIDADE REGIONAL INTEGRADA DO ALTO URUGUA...</td>\n",
       "      <td>BOLSA INTEGRAL</td>\n",
       "      <td>PRESENCIAL</td>\n",
       "      <td>Direito</td>\n",
       "      <td>Noturno</td>\n",
       "      <td>***129510**</td>\n",
       "      <td>Feminino</td>\n",
       "      <td>Branca</td>\n",
       "      <td>24-02-1998</td>\n",
       "      <td>NÃO</td>\n",
       "      <td>SUL</td>\n",
       "      <td>RS</td>\n",
       "      <td>ERECHIM</td>\n",
       "    </tr>\n",
       "    <tr>\n",
       "      <th>10</th>\n",
       "      <td>2016</td>\n",
       "      <td>423</td>\n",
       "      <td>UNIVERSIDADE REGIONAL INTEGRADA DO ALTO URUGUA...</td>\n",
       "      <td>BOLSA INTEGRAL</td>\n",
       "      <td>PRESENCIAL</td>\n",
       "      <td>Farmácia</td>\n",
       "      <td>Integral</td>\n",
       "      <td>***110500**</td>\n",
       "      <td>Feminino</td>\n",
       "      <td>Branca</td>\n",
       "      <td>13-01-1998</td>\n",
       "      <td>NÃO</td>\n",
       "      <td>SUL</td>\n",
       "      <td>RS</td>\n",
       "      <td>ERECHIM</td>\n",
       "    </tr>\n",
       "    <tr>\n",
       "      <th>11</th>\n",
       "      <td>2016</td>\n",
       "      <td>423</td>\n",
       "      <td>UNIVERSIDADE REGIONAL INTEGRADA DO ALTO URUGUA...</td>\n",
       "      <td>BOLSA INTEGRAL</td>\n",
       "      <td>PRESENCIAL</td>\n",
       "      <td>Agronomia</td>\n",
       "      <td>Noturno</td>\n",
       "      <td>***967280**</td>\n",
       "      <td>Masculino</td>\n",
       "      <td>Branca</td>\n",
       "      <td>21-08-1993</td>\n",
       "      <td>NÃO</td>\n",
       "      <td>SUL</td>\n",
       "      <td>RS</td>\n",
       "      <td>SANTIAGO</td>\n",
       "    </tr>\n",
       "    <tr>\n",
       "      <th>12</th>\n",
       "      <td>2016</td>\n",
       "      <td>423</td>\n",
       "      <td>UNIVERSIDADE REGIONAL INTEGRADA DO ALTO URUGUA...</td>\n",
       "      <td>BOLSA INTEGRAL</td>\n",
       "      <td>PRESENCIAL</td>\n",
       "      <td>Administração</td>\n",
       "      <td>Noturno</td>\n",
       "      <td>***310110**</td>\n",
       "      <td>Feminino</td>\n",
       "      <td>Branca</td>\n",
       "      <td>02-08-1993</td>\n",
       "      <td>NÃO</td>\n",
       "      <td>SUL</td>\n",
       "      <td>RS</td>\n",
       "      <td>SANTO ÂNGELO</td>\n",
       "    </tr>\n",
       "    <tr>\n",
       "      <th>13</th>\n",
       "      <td>2016</td>\n",
       "      <td>298</td>\n",
       "      <td>UNIVERSIDADE PITÁGORAS UNOPAR</td>\n",
       "      <td>BOLSA INTEGRAL</td>\n",
       "      <td>EDUCAÇÃO A DISTÂNCIA</td>\n",
       "      <td>Artes Visuais</td>\n",
       "      <td>Curso a distância</td>\n",
       "      <td>***931445**</td>\n",
       "      <td>Feminino</td>\n",
       "      <td>Preta</td>\n",
       "      <td>12-03-1987</td>\n",
       "      <td>NÃO</td>\n",
       "      <td>SUL</td>\n",
       "      <td>PR</td>\n",
       "      <td>ARAPONGAS</td>\n",
       "    </tr>\n",
       "    <tr>\n",
       "      <th>14</th>\n",
       "      <td>2016</td>\n",
       "      <td>298</td>\n",
       "      <td>UNIVERSIDADE PITÁGORAS UNOPAR</td>\n",
       "      <td>BOLSA INTEGRAL</td>\n",
       "      <td>EDUCAÇÃO A DISTÂNCIA</td>\n",
       "      <td>Artes Visuais</td>\n",
       "      <td>Curso a distância</td>\n",
       "      <td>***603799**</td>\n",
       "      <td>Feminino</td>\n",
       "      <td>Branca</td>\n",
       "      <td>28-06-1983</td>\n",
       "      <td>NÃO</td>\n",
       "      <td>SUL</td>\n",
       "      <td>PR</td>\n",
       "      <td>ARAPONGAS</td>\n",
       "    </tr>\n",
       "    <tr>\n",
       "      <th>15</th>\n",
       "      <td>2016</td>\n",
       "      <td>423</td>\n",
       "      <td>UNIVERSIDADE REGIONAL INTEGRADA DO ALTO URUGUA...</td>\n",
       "      <td>BOLSA INTEGRAL</td>\n",
       "      <td>PRESENCIAL</td>\n",
       "      <td>Ciências Biológicas</td>\n",
       "      <td>Noturno</td>\n",
       "      <td>***832030**</td>\n",
       "      <td>Feminino</td>\n",
       "      <td>Branca</td>\n",
       "      <td>06-06-1997</td>\n",
       "      <td>NÃO</td>\n",
       "      <td>SUL</td>\n",
       "      <td>RS</td>\n",
       "      <td>SANTO ÂNGELO</td>\n",
       "    </tr>\n",
       "    <tr>\n",
       "      <th>16</th>\n",
       "      <td>2016</td>\n",
       "      <td>298</td>\n",
       "      <td>UNIVERSIDADE PITÁGORAS UNOPAR</td>\n",
       "      <td>BOLSA INTEGRAL</td>\n",
       "      <td>PRESENCIAL</td>\n",
       "      <td>Administração</td>\n",
       "      <td>Noturno</td>\n",
       "      <td>***724738**</td>\n",
       "      <td>Feminino</td>\n",
       "      <td>Parda</td>\n",
       "      <td>04-04-1985</td>\n",
       "      <td>NÃO</td>\n",
       "      <td>SUL</td>\n",
       "      <td>PR</td>\n",
       "      <td>ARAPONGAS</td>\n",
       "    </tr>\n",
       "    <tr>\n",
       "      <th>17</th>\n",
       "      <td>2016</td>\n",
       "      <td>298</td>\n",
       "      <td>UNIVERSIDADE PITÁGORAS UNOPAR</td>\n",
       "      <td>BOLSA INTEGRAL</td>\n",
       "      <td>PRESENCIAL</td>\n",
       "      <td>Administração</td>\n",
       "      <td>Noturno</td>\n",
       "      <td>***374539**</td>\n",
       "      <td>Masculino</td>\n",
       "      <td>Preta</td>\n",
       "      <td>21-11-1996</td>\n",
       "      <td>NÃO</td>\n",
       "      <td>SUL</td>\n",
       "      <td>PR</td>\n",
       "      <td>ARAPONGAS</td>\n",
       "    </tr>\n",
       "    <tr>\n",
       "      <th>18</th>\n",
       "      <td>2016</td>\n",
       "      <td>398</td>\n",
       "      <td>UNIVERSIDADE TIRADENTES</td>\n",
       "      <td>BOLSA INTEGRAL</td>\n",
       "      <td>EDUCAÇÃO A DISTÂNCIA</td>\n",
       "      <td>Serviço Social</td>\n",
       "      <td>Curso a distância</td>\n",
       "      <td>***705675**</td>\n",
       "      <td>Masculino</td>\n",
       "      <td>Branca</td>\n",
       "      <td>16-05-1991</td>\n",
       "      <td>NÃO</td>\n",
       "      <td>NORDESTE</td>\n",
       "      <td>SE</td>\n",
       "      <td>ARACAJU</td>\n",
       "    </tr>\n",
       "    <tr>\n",
       "      <th>19</th>\n",
       "      <td>2016</td>\n",
       "      <td>398</td>\n",
       "      <td>UNIVERSIDADE TIRADENTES</td>\n",
       "      <td>BOLSA INTEGRAL</td>\n",
       "      <td>EDUCAÇÃO A DISTÂNCIA</td>\n",
       "      <td>Serviço Social</td>\n",
       "      <td>Curso a distância</td>\n",
       "      <td>***333245**</td>\n",
       "      <td>Feminino</td>\n",
       "      <td>Parda</td>\n",
       "      <td>17-06-1993</td>\n",
       "      <td>NÃO</td>\n",
       "      <td>NORDESTE</td>\n",
       "      <td>SE</td>\n",
       "      <td>ARACAJU</td>\n",
       "    </tr>\n",
       "    <tr>\n",
       "      <th>20</th>\n",
       "      <td>2016</td>\n",
       "      <td>398</td>\n",
       "      <td>UNIVERSIDADE TIRADENTES</td>\n",
       "      <td>BOLSA INTEGRAL</td>\n",
       "      <td>EDUCAÇÃO A DISTÂNCIA</td>\n",
       "      <td>Serviço Social</td>\n",
       "      <td>Curso a distância</td>\n",
       "      <td>***683525**</td>\n",
       "      <td>Feminino</td>\n",
       "      <td>Parda</td>\n",
       "      <td>05-09-1977</td>\n",
       "      <td>NÃO</td>\n",
       "      <td>NORDESTE</td>\n",
       "      <td>SE</td>\n",
       "      <td>ARACAJU</td>\n",
       "    </tr>\n",
       "    <tr>\n",
       "      <th>21</th>\n",
       "      <td>2016</td>\n",
       "      <td>398</td>\n",
       "      <td>UNIVERSIDADE TIRADENTES</td>\n",
       "      <td>BOLSA INTEGRAL</td>\n",
       "      <td>EDUCAÇÃO A DISTÂNCIA</td>\n",
       "      <td>Serviço Social</td>\n",
       "      <td>Curso a distância</td>\n",
       "      <td>***891985**</td>\n",
       "      <td>Feminino</td>\n",
       "      <td>Parda</td>\n",
       "      <td>09-08-1982</td>\n",
       "      <td>NÃO</td>\n",
       "      <td>NORDESTE</td>\n",
       "      <td>SE</td>\n",
       "      <td>ARACAJU</td>\n",
       "    </tr>\n",
       "    <tr>\n",
       "      <th>22</th>\n",
       "      <td>2016</td>\n",
       "      <td>398</td>\n",
       "      <td>UNIVERSIDADE TIRADENTES</td>\n",
       "      <td>BOLSA INTEGRAL</td>\n",
       "      <td>EDUCAÇÃO A DISTÂNCIA</td>\n",
       "      <td>Serviço Social</td>\n",
       "      <td>Curso a distância</td>\n",
       "      <td>***517504**</td>\n",
       "      <td>Feminino</td>\n",
       "      <td>Parda</td>\n",
       "      <td>01-04-1992</td>\n",
       "      <td>NÃO</td>\n",
       "      <td>NORDESTE</td>\n",
       "      <td>SE</td>\n",
       "      <td>ARACAJU</td>\n",
       "    </tr>\n",
       "    <tr>\n",
       "      <th>23</th>\n",
       "      <td>2016</td>\n",
       "      <td>298</td>\n",
       "      <td>UNIVERSIDADE PITÁGORAS UNOPAR</td>\n",
       "      <td>BOLSA INTEGRAL</td>\n",
       "      <td>PRESENCIAL</td>\n",
       "      <td>Análise E Desenvolvimento De Sistemas</td>\n",
       "      <td>Noturno</td>\n",
       "      <td>***150719**</td>\n",
       "      <td>Masculino</td>\n",
       "      <td>Parda</td>\n",
       "      <td>25-12-1989</td>\n",
       "      <td>SIM</td>\n",
       "      <td>SUL</td>\n",
       "      <td>PR</td>\n",
       "      <td>ARAPONGAS</td>\n",
       "    </tr>\n",
       "    <tr>\n",
       "      <th>24</th>\n",
       "      <td>2016</td>\n",
       "      <td>423</td>\n",
       "      <td>UNIVERSIDADE REGIONAL INTEGRADA DO ALTO URUGUA...</td>\n",
       "      <td>BOLSA INTEGRAL</td>\n",
       "      <td>PRESENCIAL</td>\n",
       "      <td>Direito</td>\n",
       "      <td>Noturno</td>\n",
       "      <td>***123550**</td>\n",
       "      <td>Masculino</td>\n",
       "      <td>Branca</td>\n",
       "      <td>27-09-1997</td>\n",
       "      <td>NÃO</td>\n",
       "      <td>SUL</td>\n",
       "      <td>RS</td>\n",
       "      <td>ERECHIM</td>\n",
       "    </tr>\n",
       "    <tr>\n",
       "      <th>25</th>\n",
       "      <td>2016</td>\n",
       "      <td>423</td>\n",
       "      <td>UNIVERSIDADE REGIONAL INTEGRADA DO ALTO URUGUA...</td>\n",
       "      <td>BOLSA INTEGRAL</td>\n",
       "      <td>PRESENCIAL</td>\n",
       "      <td>Direito</td>\n",
       "      <td>Matutino</td>\n",
       "      <td>***740060**</td>\n",
       "      <td>Masculino</td>\n",
       "      <td>Parda</td>\n",
       "      <td>20-10-1990</td>\n",
       "      <td>NÃO</td>\n",
       "      <td>SUL</td>\n",
       "      <td>RS</td>\n",
       "      <td>SANTO ÂNGELO</td>\n",
       "    </tr>\n",
       "    <tr>\n",
       "      <th>26</th>\n",
       "      <td>2016</td>\n",
       "      <td>423</td>\n",
       "      <td>UNIVERSIDADE REGIONAL INTEGRADA DO ALTO URUGUA...</td>\n",
       "      <td>BOLSA INTEGRAL</td>\n",
       "      <td>PRESENCIAL</td>\n",
       "      <td>Direito</td>\n",
       "      <td>Matutino</td>\n",
       "      <td>***256410**</td>\n",
       "      <td>Feminino</td>\n",
       "      <td>Branca</td>\n",
       "      <td>29-09-1997</td>\n",
       "      <td>NÃO</td>\n",
       "      <td>SUL</td>\n",
       "      <td>RS</td>\n",
       "      <td>SANTO ÂNGELO</td>\n",
       "    </tr>\n",
       "    <tr>\n",
       "      <th>27</th>\n",
       "      <td>2016</td>\n",
       "      <td>423</td>\n",
       "      <td>UNIVERSIDADE REGIONAL INTEGRADA DO ALTO URUGUA...</td>\n",
       "      <td>BOLSA INTEGRAL</td>\n",
       "      <td>PRESENCIAL</td>\n",
       "      <td>Direito</td>\n",
       "      <td>Matutino</td>\n",
       "      <td>***987090**</td>\n",
       "      <td>Feminino</td>\n",
       "      <td>Branca</td>\n",
       "      <td>07-11-1997</td>\n",
       "      <td>NÃO</td>\n",
       "      <td>SUL</td>\n",
       "      <td>RS</td>\n",
       "      <td>SANTO ÂNGELO</td>\n",
       "    </tr>\n",
       "    <tr>\n",
       "      <th>28</th>\n",
       "      <td>2016</td>\n",
       "      <td>423</td>\n",
       "      <td>UNIVERSIDADE REGIONAL INTEGRADA DO ALTO URUGUA...</td>\n",
       "      <td>BOLSA INTEGRAL</td>\n",
       "      <td>PRESENCIAL</td>\n",
       "      <td>Educação Física</td>\n",
       "      <td>Noturno</td>\n",
       "      <td>***176690**</td>\n",
       "      <td>Masculino</td>\n",
       "      <td>Branca</td>\n",
       "      <td>25-10-1997</td>\n",
       "      <td>NÃO</td>\n",
       "      <td>SUL</td>\n",
       "      <td>RS</td>\n",
       "      <td>ERECHIM</td>\n",
       "    </tr>\n",
       "    <tr>\n",
       "      <th>29</th>\n",
       "      <td>2016</td>\n",
       "      <td>423</td>\n",
       "      <td>UNIVERSIDADE REGIONAL INTEGRADA DO ALTO URUGUA...</td>\n",
       "      <td>BOLSA INTEGRAL</td>\n",
       "      <td>PRESENCIAL</td>\n",
       "      <td>Educação Física</td>\n",
       "      <td>Noturno</td>\n",
       "      <td>***563030**</td>\n",
       "      <td>Masculino</td>\n",
       "      <td>Parda</td>\n",
       "      <td>07-11-1997</td>\n",
       "      <td>NÃO</td>\n",
       "      <td>SUL</td>\n",
       "      <td>RS</td>\n",
       "      <td>ERECHIM</td>\n",
       "    </tr>\n",
       "    <tr>\n",
       "      <th>...</th>\n",
       "      <td>...</td>\n",
       "      <td>...</td>\n",
       "      <td>...</td>\n",
       "      <td>...</td>\n",
       "      <td>...</td>\n",
       "      <td>...</td>\n",
       "      <td>...</td>\n",
       "      <td>...</td>\n",
       "      <td>...</td>\n",
       "      <td>...</td>\n",
       "      <td>...</td>\n",
       "      <td>...</td>\n",
       "      <td>...</td>\n",
       "      <td>...</td>\n",
       "      <td>...</td>\n",
       "    </tr>\n",
       "    <tr>\n",
       "      <th>239232</th>\n",
       "      <td>2016</td>\n",
       "      <td>1918</td>\n",
       "      <td>FACULDADE CAPIVARI</td>\n",
       "      <td>BOLSA PARCIAL 50%</td>\n",
       "      <td>PRESENCIAL</td>\n",
       "      <td>Engenharia Civil</td>\n",
       "      <td>Noturno</td>\n",
       "      <td>***058509**</td>\n",
       "      <td>Feminino</td>\n",
       "      <td>Branca</td>\n",
       "      <td>12-03-1998</td>\n",
       "      <td>NÃO</td>\n",
       "      <td>SUL</td>\n",
       "      <td>SC</td>\n",
       "      <td>PESCARIA BRAVA</td>\n",
       "    </tr>\n",
       "    <tr>\n",
       "      <th>239233</th>\n",
       "      <td>2016</td>\n",
       "      <td>1918</td>\n",
       "      <td>FACULDADE CAPIVARI</td>\n",
       "      <td>BOLSA PARCIAL 50%</td>\n",
       "      <td>PRESENCIAL</td>\n",
       "      <td>Ciências Contábeis</td>\n",
       "      <td>Noturno</td>\n",
       "      <td>***287589**</td>\n",
       "      <td>Feminino</td>\n",
       "      <td>Branca</td>\n",
       "      <td>26-10-1996</td>\n",
       "      <td>NÃO</td>\n",
       "      <td>SUL</td>\n",
       "      <td>SC</td>\n",
       "      <td>PESCARIA BRAVA</td>\n",
       "    </tr>\n",
       "    <tr>\n",
       "      <th>239234</th>\n",
       "      <td>2016</td>\n",
       "      <td>1918</td>\n",
       "      <td>FACULDADE CAPIVARI</td>\n",
       "      <td>BOLSA PARCIAL 50%</td>\n",
       "      <td>PRESENCIAL</td>\n",
       "      <td>Ciências Contábeis</td>\n",
       "      <td>Noturno</td>\n",
       "      <td>***534989**</td>\n",
       "      <td>Feminino</td>\n",
       "      <td>Branca</td>\n",
       "      <td>15-12-1994</td>\n",
       "      <td>NÃO</td>\n",
       "      <td>SUL</td>\n",
       "      <td>SC</td>\n",
       "      <td>PESCARIA BRAVA</td>\n",
       "    </tr>\n",
       "    <tr>\n",
       "      <th>239235</th>\n",
       "      <td>2016</td>\n",
       "      <td>1918</td>\n",
       "      <td>FACULDADE CAPIVARI</td>\n",
       "      <td>BOLSA INTEGRAL</td>\n",
       "      <td>PRESENCIAL</td>\n",
       "      <td>Pedagogia</td>\n",
       "      <td>Noturno</td>\n",
       "      <td>***238929**</td>\n",
       "      <td>Feminino</td>\n",
       "      <td>Branca</td>\n",
       "      <td>26-08-1996</td>\n",
       "      <td>NÃO</td>\n",
       "      <td>SUL</td>\n",
       "      <td>SC</td>\n",
       "      <td>PESCARIA BRAVA</td>\n",
       "    </tr>\n",
       "    <tr>\n",
       "      <th>239236</th>\n",
       "      <td>2016</td>\n",
       "      <td>451</td>\n",
       "      <td>CENTRO UNIVERSITÁRIO LUTERANO DE SANTARÉM</td>\n",
       "      <td>BOLSA INTEGRAL</td>\n",
       "      <td>PRESENCIAL</td>\n",
       "      <td>Pedagogia</td>\n",
       "      <td>Noturno</td>\n",
       "      <td>***150922**</td>\n",
       "      <td>Feminino</td>\n",
       "      <td>Parda</td>\n",
       "      <td>30-11-1998</td>\n",
       "      <td>NÃO</td>\n",
       "      <td>NORTE</td>\n",
       "      <td>PA</td>\n",
       "      <td>MOJUÍ DOS CAMPOS</td>\n",
       "    </tr>\n",
       "    <tr>\n",
       "      <th>239237</th>\n",
       "      <td>2016</td>\n",
       "      <td>451</td>\n",
       "      <td>CENTRO UNIVERSITÁRIO LUTERANO DE SANTARÉM</td>\n",
       "      <td>BOLSA INTEGRAL</td>\n",
       "      <td>PRESENCIAL</td>\n",
       "      <td>Pedagogia</td>\n",
       "      <td>Noturno</td>\n",
       "      <td>***492202**</td>\n",
       "      <td>Masculino</td>\n",
       "      <td>Preta</td>\n",
       "      <td>24-03-1999</td>\n",
       "      <td>NÃO</td>\n",
       "      <td>NORTE</td>\n",
       "      <td>PA</td>\n",
       "      <td>MOJUÍ DOS CAMPOS</td>\n",
       "    </tr>\n",
       "    <tr>\n",
       "      <th>239238</th>\n",
       "      <td>2016</td>\n",
       "      <td>451</td>\n",
       "      <td>CENTRO UNIVERSITÁRIO LUTERANO DE SANTARÉM</td>\n",
       "      <td>BOLSA INTEGRAL</td>\n",
       "      <td>PRESENCIAL</td>\n",
       "      <td>Sistemas De Informação</td>\n",
       "      <td>Noturno</td>\n",
       "      <td>***527122**</td>\n",
       "      <td>Masculino</td>\n",
       "      <td>Branca</td>\n",
       "      <td>03-05-1995</td>\n",
       "      <td>NÃO</td>\n",
       "      <td>NORTE</td>\n",
       "      <td>PA</td>\n",
       "      <td>MOJUÍ DOS CAMPOS</td>\n",
       "    </tr>\n",
       "    <tr>\n",
       "      <th>239239</th>\n",
       "      <td>2016</td>\n",
       "      <td>451</td>\n",
       "      <td>CENTRO UNIVERSITÁRIO LUTERANO DE SANTARÉM</td>\n",
       "      <td>BOLSA INTEGRAL</td>\n",
       "      <td>PRESENCIAL</td>\n",
       "      <td>Sistemas De Informação</td>\n",
       "      <td>Noturno</td>\n",
       "      <td>***853382**</td>\n",
       "      <td>Feminino</td>\n",
       "      <td>Parda</td>\n",
       "      <td>16-09-1997</td>\n",
       "      <td>NÃO</td>\n",
       "      <td>NORTE</td>\n",
       "      <td>PA</td>\n",
       "      <td>MOJUÍ DOS CAMPOS</td>\n",
       "    </tr>\n",
       "    <tr>\n",
       "      <th>239240</th>\n",
       "      <td>2016</td>\n",
       "      <td>451</td>\n",
       "      <td>CENTRO UNIVERSITÁRIO LUTERANO DE SANTARÉM</td>\n",
       "      <td>BOLSA INTEGRAL</td>\n",
       "      <td>PRESENCIAL</td>\n",
       "      <td>Educação Física</td>\n",
       "      <td>Noturno</td>\n",
       "      <td>***809752**</td>\n",
       "      <td>Masculino</td>\n",
       "      <td>Parda</td>\n",
       "      <td>25-02-1996</td>\n",
       "      <td>NÃO</td>\n",
       "      <td>NORTE</td>\n",
       "      <td>PA</td>\n",
       "      <td>MOJUÍ DOS CAMPOS</td>\n",
       "    </tr>\n",
       "    <tr>\n",
       "      <th>239241</th>\n",
       "      <td>2016</td>\n",
       "      <td>494</td>\n",
       "      <td>UNIVERSIDADE DO SUL DE SANTA CATARINA</td>\n",
       "      <td>BOLSA INTEGRAL</td>\n",
       "      <td>PRESENCIAL</td>\n",
       "      <td>Publicidade E Propaganda</td>\n",
       "      <td>Noturno</td>\n",
       "      <td>***970319**</td>\n",
       "      <td>Masculino</td>\n",
       "      <td>Parda</td>\n",
       "      <td>11-12-1989</td>\n",
       "      <td>NÃO</td>\n",
       "      <td>SUL</td>\n",
       "      <td>SC</td>\n",
       "      <td>PESCARIA BRAVA</td>\n",
       "    </tr>\n",
       "    <tr>\n",
       "      <th>239242</th>\n",
       "      <td>2016</td>\n",
       "      <td>494</td>\n",
       "      <td>UNIVERSIDADE DO SUL DE SANTA CATARINA</td>\n",
       "      <td>BOLSA INTEGRAL</td>\n",
       "      <td>PRESENCIAL</td>\n",
       "      <td>Direito</td>\n",
       "      <td>Noturno</td>\n",
       "      <td>***387629**</td>\n",
       "      <td>Feminino</td>\n",
       "      <td>Branca</td>\n",
       "      <td>31-03-1997</td>\n",
       "      <td>NÃO</td>\n",
       "      <td>SUL</td>\n",
       "      <td>SC</td>\n",
       "      <td>PESCARIA BRAVA</td>\n",
       "    </tr>\n",
       "    <tr>\n",
       "      <th>239243</th>\n",
       "      <td>2016</td>\n",
       "      <td>494</td>\n",
       "      <td>UNIVERSIDADE DO SUL DE SANTA CATARINA</td>\n",
       "      <td>BOLSA INTEGRAL</td>\n",
       "      <td>PRESENCIAL</td>\n",
       "      <td>Nutrição</td>\n",
       "      <td>Noturno</td>\n",
       "      <td>***080729**</td>\n",
       "      <td>Feminino</td>\n",
       "      <td>Branca</td>\n",
       "      <td>17-04-1999</td>\n",
       "      <td>NÃO</td>\n",
       "      <td>SUL</td>\n",
       "      <td>SC</td>\n",
       "      <td>PESCARIA BRAVA</td>\n",
       "    </tr>\n",
       "    <tr>\n",
       "      <th>239244</th>\n",
       "      <td>2016</td>\n",
       "      <td>494</td>\n",
       "      <td>UNIVERSIDADE DO SUL DE SANTA CATARINA</td>\n",
       "      <td>BOLSA INTEGRAL</td>\n",
       "      <td>PRESENCIAL</td>\n",
       "      <td>Nutrição</td>\n",
       "      <td>Noturno</td>\n",
       "      <td>***973899**</td>\n",
       "      <td>Masculino</td>\n",
       "      <td>Branca</td>\n",
       "      <td>17-06-1996</td>\n",
       "      <td>NÃO</td>\n",
       "      <td>SUL</td>\n",
       "      <td>SC</td>\n",
       "      <td>PESCARIA BRAVA</td>\n",
       "    </tr>\n",
       "    <tr>\n",
       "      <th>239245</th>\n",
       "      <td>2016</td>\n",
       "      <td>494</td>\n",
       "      <td>UNIVERSIDADE DO SUL DE SANTA CATARINA</td>\n",
       "      <td>BOLSA INTEGRAL</td>\n",
       "      <td>PRESENCIAL</td>\n",
       "      <td>Letras - Língua Portuguesa</td>\n",
       "      <td>Noturno</td>\n",
       "      <td>***668949**</td>\n",
       "      <td>Feminino</td>\n",
       "      <td>Branca</td>\n",
       "      <td>17-03-1998</td>\n",
       "      <td>NÃO</td>\n",
       "      <td>SUL</td>\n",
       "      <td>SC</td>\n",
       "      <td>PESCARIA BRAVA</td>\n",
       "    </tr>\n",
       "    <tr>\n",
       "      <th>239246</th>\n",
       "      <td>2016</td>\n",
       "      <td>494</td>\n",
       "      <td>UNIVERSIDADE DO SUL DE SANTA CATARINA</td>\n",
       "      <td>BOLSA INTEGRAL</td>\n",
       "      <td>PRESENCIAL</td>\n",
       "      <td>Letras - Língua Portuguesa</td>\n",
       "      <td>Noturno</td>\n",
       "      <td>***509959**</td>\n",
       "      <td>Feminino</td>\n",
       "      <td>Branca</td>\n",
       "      <td>19-02-1996</td>\n",
       "      <td>NÃO</td>\n",
       "      <td>SUL</td>\n",
       "      <td>SC</td>\n",
       "      <td>PESCARIA BRAVA</td>\n",
       "    </tr>\n",
       "    <tr>\n",
       "      <th>239247</th>\n",
       "      <td>2016</td>\n",
       "      <td>494</td>\n",
       "      <td>UNIVERSIDADE DO SUL DE SANTA CATARINA</td>\n",
       "      <td>BOLSA INTEGRAL</td>\n",
       "      <td>PRESENCIAL</td>\n",
       "      <td>Psicologia</td>\n",
       "      <td>Noturno</td>\n",
       "      <td>***312659**</td>\n",
       "      <td>Feminino</td>\n",
       "      <td>Branca</td>\n",
       "      <td>28-06-1996</td>\n",
       "      <td>NÃO</td>\n",
       "      <td>SUL</td>\n",
       "      <td>SC</td>\n",
       "      <td>PESCARIA BRAVA</td>\n",
       "    </tr>\n",
       "    <tr>\n",
       "      <th>239248</th>\n",
       "      <td>2016</td>\n",
       "      <td>322</td>\n",
       "      <td>UNIVERSIDADE PAULISTA</td>\n",
       "      <td>BOLSA INTEGRAL</td>\n",
       "      <td>EDUCAÇÃO A DISTÂNCIA</td>\n",
       "      <td>Gestão Ambiental</td>\n",
       "      <td>Curso a distância</td>\n",
       "      <td>***580292**</td>\n",
       "      <td>Feminino</td>\n",
       "      <td>Branca</td>\n",
       "      <td>06-11-1992</td>\n",
       "      <td>NÃO</td>\n",
       "      <td>NORTE</td>\n",
       "      <td>PA</td>\n",
       "      <td>MOJUÍ DOS CAMPOS</td>\n",
       "    </tr>\n",
       "    <tr>\n",
       "      <th>239249</th>\n",
       "      <td>2016</td>\n",
       "      <td>1472</td>\n",
       "      <td>CENTRO UNIVERSITÁRIO LEONARDO DA VINCI</td>\n",
       "      <td>BOLSA INTEGRAL</td>\n",
       "      <td>EDUCAÇÃO A DISTÂNCIA</td>\n",
       "      <td>Gestão De Recursos Humanos</td>\n",
       "      <td>Curso a distância</td>\n",
       "      <td>***461170**</td>\n",
       "      <td>Feminino</td>\n",
       "      <td>Branca</td>\n",
       "      <td>06-10-1998</td>\n",
       "      <td>NÃO</td>\n",
       "      <td>SUL</td>\n",
       "      <td>RS</td>\n",
       "      <td>PINTO BANDEIRA</td>\n",
       "    </tr>\n",
       "    <tr>\n",
       "      <th>239250</th>\n",
       "      <td>2016</td>\n",
       "      <td>1472</td>\n",
       "      <td>CENTRO UNIVERSITÁRIO LEONARDO DA VINCI</td>\n",
       "      <td>BOLSA INTEGRAL</td>\n",
       "      <td>EDUCAÇÃO A DISTÂNCIA</td>\n",
       "      <td>Logística</td>\n",
       "      <td>Curso a distância</td>\n",
       "      <td>***510079**</td>\n",
       "      <td>Masculino</td>\n",
       "      <td>Branca</td>\n",
       "      <td>12-02-1999</td>\n",
       "      <td>NÃO</td>\n",
       "      <td>SUL</td>\n",
       "      <td>SC</td>\n",
       "      <td>PESCARIA BRAVA</td>\n",
       "    </tr>\n",
       "    <tr>\n",
       "      <th>239251</th>\n",
       "      <td>2016</td>\n",
       "      <td>1472</td>\n",
       "      <td>CENTRO UNIVERSITÁRIO LEONARDO DA VINCI</td>\n",
       "      <td>BOLSA INTEGRAL</td>\n",
       "      <td>EDUCAÇÃO A DISTÂNCIA</td>\n",
       "      <td>Logística</td>\n",
       "      <td>Curso a distância</td>\n",
       "      <td>***868229**</td>\n",
       "      <td>Masculino</td>\n",
       "      <td>Branca</td>\n",
       "      <td>07-09-1998</td>\n",
       "      <td>NÃO</td>\n",
       "      <td>SUL</td>\n",
       "      <td>SC</td>\n",
       "      <td>PESCARIA BRAVA</td>\n",
       "    </tr>\n",
       "    <tr>\n",
       "      <th>239252</th>\n",
       "      <td>2016</td>\n",
       "      <td>1472</td>\n",
       "      <td>CENTRO UNIVERSITÁRIO LEONARDO DA VINCI</td>\n",
       "      <td>BOLSA INTEGRAL</td>\n",
       "      <td>EDUCAÇÃO A DISTÂNCIA</td>\n",
       "      <td>Educação Física</td>\n",
       "      <td>Curso a distância</td>\n",
       "      <td>***815269**</td>\n",
       "      <td>Feminino</td>\n",
       "      <td>Parda</td>\n",
       "      <td>08-11-1998</td>\n",
       "      <td>NÃO</td>\n",
       "      <td>SUL</td>\n",
       "      <td>SC</td>\n",
       "      <td>PESCARIA BRAVA</td>\n",
       "    </tr>\n",
       "    <tr>\n",
       "      <th>239253</th>\n",
       "      <td>2016</td>\n",
       "      <td>322</td>\n",
       "      <td>UNIVERSIDADE PAULISTA</td>\n",
       "      <td>BOLSA INTEGRAL</td>\n",
       "      <td>EDUCAÇÃO A DISTÂNCIA</td>\n",
       "      <td>Administração</td>\n",
       "      <td>Curso a distância</td>\n",
       "      <td>***814332**</td>\n",
       "      <td>Masculino</td>\n",
       "      <td>Parda</td>\n",
       "      <td>05-10-1982</td>\n",
       "      <td>NÃO</td>\n",
       "      <td>NORTE</td>\n",
       "      <td>PA</td>\n",
       "      <td>MOJUÍ DOS CAMPOS</td>\n",
       "    </tr>\n",
       "    <tr>\n",
       "      <th>239254</th>\n",
       "      <td>2016</td>\n",
       "      <td>1472</td>\n",
       "      <td>CENTRO UNIVERSITÁRIO LEONARDO DA VINCI</td>\n",
       "      <td>BOLSA INTEGRAL</td>\n",
       "      <td>EDUCAÇÃO A DISTÂNCIA</td>\n",
       "      <td>Pedagogia</td>\n",
       "      <td>Curso a distância</td>\n",
       "      <td>***188519**</td>\n",
       "      <td>Feminino</td>\n",
       "      <td>Branca</td>\n",
       "      <td>28-03-1991</td>\n",
       "      <td>NÃO</td>\n",
       "      <td>SUL</td>\n",
       "      <td>SC</td>\n",
       "      <td>PESCARIA BRAVA</td>\n",
       "    </tr>\n",
       "    <tr>\n",
       "      <th>239255</th>\n",
       "      <td>2016</td>\n",
       "      <td>322</td>\n",
       "      <td>UNIVERSIDADE PAULISTA</td>\n",
       "      <td>BOLSA INTEGRAL</td>\n",
       "      <td>EDUCAÇÃO A DISTÂNCIA</td>\n",
       "      <td>Serviço Social</td>\n",
       "      <td>Curso a distância</td>\n",
       "      <td>***432232**</td>\n",
       "      <td>Feminino</td>\n",
       "      <td>Preta</td>\n",
       "      <td>12-04-1992</td>\n",
       "      <td>NÃO</td>\n",
       "      <td>NORTE</td>\n",
       "      <td>PA</td>\n",
       "      <td>MOJUÍ DOS CAMPOS</td>\n",
       "    </tr>\n",
       "    <tr>\n",
       "      <th>239256</th>\n",
       "      <td>2016</td>\n",
       "      <td>1472</td>\n",
       "      <td>CENTRO UNIVERSITÁRIO LEONARDO DA VINCI</td>\n",
       "      <td>BOLSA INTEGRAL</td>\n",
       "      <td>EDUCAÇÃO A DISTÂNCIA</td>\n",
       "      <td>Gestão Comercial</td>\n",
       "      <td>Curso a distância</td>\n",
       "      <td>***636169**</td>\n",
       "      <td>Masculino</td>\n",
       "      <td>Branca</td>\n",
       "      <td>03-11-1995</td>\n",
       "      <td>NÃO</td>\n",
       "      <td>SUL</td>\n",
       "      <td>SC</td>\n",
       "      <td>PESCARIA BRAVA</td>\n",
       "    </tr>\n",
       "    <tr>\n",
       "      <th>239257</th>\n",
       "      <td>2016</td>\n",
       "      <td>1472</td>\n",
       "      <td>CENTRO UNIVERSITÁRIO LEONARDO DA VINCI</td>\n",
       "      <td>BOLSA INTEGRAL</td>\n",
       "      <td>EDUCAÇÃO A DISTÂNCIA</td>\n",
       "      <td>Pedagogia</td>\n",
       "      <td>Curso a distância</td>\n",
       "      <td>***100559**</td>\n",
       "      <td>Feminino</td>\n",
       "      <td>Preta</td>\n",
       "      <td>01-05-1982</td>\n",
       "      <td>NÃO</td>\n",
       "      <td>SUL</td>\n",
       "      <td>SC</td>\n",
       "      <td>BALNEÁRIO RINCÃO</td>\n",
       "    </tr>\n",
       "    <tr>\n",
       "      <th>239258</th>\n",
       "      <td>2016</td>\n",
       "      <td>1472</td>\n",
       "      <td>CENTRO UNIVERSITÁRIO LEONARDO DA VINCI</td>\n",
       "      <td>BOLSA INTEGRAL</td>\n",
       "      <td>EDUCAÇÃO A DISTÂNCIA</td>\n",
       "      <td>Processos Gerenciais</td>\n",
       "      <td>Curso a distância</td>\n",
       "      <td>***830879**</td>\n",
       "      <td>Feminino</td>\n",
       "      <td>Branca</td>\n",
       "      <td>02-10-1985</td>\n",
       "      <td>NÃO</td>\n",
       "      <td>SUL</td>\n",
       "      <td>SC</td>\n",
       "      <td>PESCARIA BRAVA</td>\n",
       "    </tr>\n",
       "    <tr>\n",
       "      <th>239259</th>\n",
       "      <td>2016</td>\n",
       "      <td>1472</td>\n",
       "      <td>CENTRO UNIVERSITÁRIO LEONARDO DA VINCI</td>\n",
       "      <td>BOLSA INTEGRAL</td>\n",
       "      <td>EDUCAÇÃO A DISTÂNCIA</td>\n",
       "      <td>Processos Gerenciais</td>\n",
       "      <td>Curso a distância</td>\n",
       "      <td>***695039**</td>\n",
       "      <td>Feminino</td>\n",
       "      <td>Branca</td>\n",
       "      <td>19-09-1997</td>\n",
       "      <td>NÃO</td>\n",
       "      <td>SUL</td>\n",
       "      <td>SC</td>\n",
       "      <td>PESCARIA BRAVA</td>\n",
       "    </tr>\n",
       "    <tr>\n",
       "      <th>239260</th>\n",
       "      <td>2016</td>\n",
       "      <td>1491</td>\n",
       "      <td>CENTRO UNIVERSITÁRIO INTERNACIONAL</td>\n",
       "      <td>BOLSA INTEGRAL</td>\n",
       "      <td>EDUCAÇÃO A DISTÂNCIA</td>\n",
       "      <td>Matemática</td>\n",
       "      <td>Curso a distância</td>\n",
       "      <td>***810222**</td>\n",
       "      <td>Masculino</td>\n",
       "      <td>Parda</td>\n",
       "      <td>04-04-1997</td>\n",
       "      <td>NÃO</td>\n",
       "      <td>NORTE</td>\n",
       "      <td>PA</td>\n",
       "      <td>MOJUÍ DOS CAMPOS</td>\n",
       "    </tr>\n",
       "    <tr>\n",
       "      <th>239261</th>\n",
       "      <td>2016</td>\n",
       "      <td>13</td>\n",
       "      <td>UNIVERSIDADE DE CAXIAS DO SUL</td>\n",
       "      <td>BOLSA INTEGRAL</td>\n",
       "      <td>PRESENCIAL</td>\n",
       "      <td>Engenharia Civil</td>\n",
       "      <td>Noturno</td>\n",
       "      <td>***071900**</td>\n",
       "      <td>Feminino</td>\n",
       "      <td>Branca</td>\n",
       "      <td>16-01-1997</td>\n",
       "      <td>NÃO</td>\n",
       "      <td>SUL</td>\n",
       "      <td>RS</td>\n",
       "      <td>PINTO BANDEIRA</td>\n",
       "    </tr>\n",
       "  </tbody>\n",
       "</table>\n",
       "<p>239262 rows × 15 columns</p>\n",
       "</div>"
      ],
      "text/plain": [
       "        ANO_CONCESSAO_BOLSA  CODIGO_EMEC_IES_BOLSA  \\\n",
       "0                      2016                     20   \n",
       "1                      2016                     20   \n",
       "2                      2016                     20   \n",
       "3                      2016                     20   \n",
       "4                      2016                    423   \n",
       "5                      2016                    423   \n",
       "6                      2016                    423   \n",
       "7                      2016                    423   \n",
       "8                      2016                    423   \n",
       "9                      2016                    423   \n",
       "10                     2016                    423   \n",
       "11                     2016                    423   \n",
       "12                     2016                    423   \n",
       "13                     2016                    298   \n",
       "14                     2016                    298   \n",
       "15                     2016                    423   \n",
       "16                     2016                    298   \n",
       "17                     2016                    298   \n",
       "18                     2016                    398   \n",
       "19                     2016                    398   \n",
       "20                     2016                    398   \n",
       "21                     2016                    398   \n",
       "22                     2016                    398   \n",
       "23                     2016                    298   \n",
       "24                     2016                    423   \n",
       "25                     2016                    423   \n",
       "26                     2016                    423   \n",
       "27                     2016                    423   \n",
       "28                     2016                    423   \n",
       "29                     2016                    423   \n",
       "...                     ...                    ...   \n",
       "239232                 2016                   1918   \n",
       "239233                 2016                   1918   \n",
       "239234                 2016                   1918   \n",
       "239235                 2016                   1918   \n",
       "239236                 2016                    451   \n",
       "239237                 2016                    451   \n",
       "239238                 2016                    451   \n",
       "239239                 2016                    451   \n",
       "239240                 2016                    451   \n",
       "239241                 2016                    494   \n",
       "239242                 2016                    494   \n",
       "239243                 2016                    494   \n",
       "239244                 2016                    494   \n",
       "239245                 2016                    494   \n",
       "239246                 2016                    494   \n",
       "239247                 2016                    494   \n",
       "239248                 2016                    322   \n",
       "239249                 2016                   1472   \n",
       "239250                 2016                   1472   \n",
       "239251                 2016                   1472   \n",
       "239252                 2016                   1472   \n",
       "239253                 2016                    322   \n",
       "239254                 2016                   1472   \n",
       "239255                 2016                    322   \n",
       "239256                 2016                   1472   \n",
       "239257                 2016                   1472   \n",
       "239258                 2016                   1472   \n",
       "239259                 2016                   1472   \n",
       "239260                 2016                   1491   \n",
       "239261                 2016                     13   \n",
       "\n",
       "                                           NOME_IES_BOLSA         TIPO_BOLSA  \\\n",
       "0                             UNIVERSIDADE DE PASSO FUNDO  BOLSA PARCIAL 50%   \n",
       "1                             UNIVERSIDADE DE PASSO FUNDO     BOLSA INTEGRAL   \n",
       "2                             UNIVERSIDADE DE PASSO FUNDO  BOLSA PARCIAL 50%   \n",
       "3                             UNIVERSIDADE DE PASSO FUNDO  BOLSA PARCIAL 50%   \n",
       "4       UNIVERSIDADE REGIONAL INTEGRADA DO ALTO URUGUA...  BOLSA PARCIAL 50%   \n",
       "5       UNIVERSIDADE REGIONAL INTEGRADA DO ALTO URUGUA...     BOLSA INTEGRAL   \n",
       "6       UNIVERSIDADE REGIONAL INTEGRADA DO ALTO URUGUA...     BOLSA INTEGRAL   \n",
       "7       UNIVERSIDADE REGIONAL INTEGRADA DO ALTO URUGUA...     BOLSA INTEGRAL   \n",
       "8       UNIVERSIDADE REGIONAL INTEGRADA DO ALTO URUGUA...     BOLSA INTEGRAL   \n",
       "9       UNIVERSIDADE REGIONAL INTEGRADA DO ALTO URUGUA...     BOLSA INTEGRAL   \n",
       "10      UNIVERSIDADE REGIONAL INTEGRADA DO ALTO URUGUA...     BOLSA INTEGRAL   \n",
       "11      UNIVERSIDADE REGIONAL INTEGRADA DO ALTO URUGUA...     BOLSA INTEGRAL   \n",
       "12      UNIVERSIDADE REGIONAL INTEGRADA DO ALTO URUGUA...     BOLSA INTEGRAL   \n",
       "13                          UNIVERSIDADE PITÁGORAS UNOPAR     BOLSA INTEGRAL   \n",
       "14                          UNIVERSIDADE PITÁGORAS UNOPAR     BOLSA INTEGRAL   \n",
       "15      UNIVERSIDADE REGIONAL INTEGRADA DO ALTO URUGUA...     BOLSA INTEGRAL   \n",
       "16                          UNIVERSIDADE PITÁGORAS UNOPAR     BOLSA INTEGRAL   \n",
       "17                          UNIVERSIDADE PITÁGORAS UNOPAR     BOLSA INTEGRAL   \n",
       "18                                UNIVERSIDADE TIRADENTES     BOLSA INTEGRAL   \n",
       "19                                UNIVERSIDADE TIRADENTES     BOLSA INTEGRAL   \n",
       "20                                UNIVERSIDADE TIRADENTES     BOLSA INTEGRAL   \n",
       "21                                UNIVERSIDADE TIRADENTES     BOLSA INTEGRAL   \n",
       "22                                UNIVERSIDADE TIRADENTES     BOLSA INTEGRAL   \n",
       "23                          UNIVERSIDADE PITÁGORAS UNOPAR     BOLSA INTEGRAL   \n",
       "24      UNIVERSIDADE REGIONAL INTEGRADA DO ALTO URUGUA...     BOLSA INTEGRAL   \n",
       "25      UNIVERSIDADE REGIONAL INTEGRADA DO ALTO URUGUA...     BOLSA INTEGRAL   \n",
       "26      UNIVERSIDADE REGIONAL INTEGRADA DO ALTO URUGUA...     BOLSA INTEGRAL   \n",
       "27      UNIVERSIDADE REGIONAL INTEGRADA DO ALTO URUGUA...     BOLSA INTEGRAL   \n",
       "28      UNIVERSIDADE REGIONAL INTEGRADA DO ALTO URUGUA...     BOLSA INTEGRAL   \n",
       "29      UNIVERSIDADE REGIONAL INTEGRADA DO ALTO URUGUA...     BOLSA INTEGRAL   \n",
       "...                                                   ...                ...   \n",
       "239232                                 FACULDADE CAPIVARI  BOLSA PARCIAL 50%   \n",
       "239233                                 FACULDADE CAPIVARI  BOLSA PARCIAL 50%   \n",
       "239234                                 FACULDADE CAPIVARI  BOLSA PARCIAL 50%   \n",
       "239235                                 FACULDADE CAPIVARI     BOLSA INTEGRAL   \n",
       "239236          CENTRO UNIVERSITÁRIO LUTERANO DE SANTARÉM     BOLSA INTEGRAL   \n",
       "239237          CENTRO UNIVERSITÁRIO LUTERANO DE SANTARÉM     BOLSA INTEGRAL   \n",
       "239238          CENTRO UNIVERSITÁRIO LUTERANO DE SANTARÉM     BOLSA INTEGRAL   \n",
       "239239          CENTRO UNIVERSITÁRIO LUTERANO DE SANTARÉM     BOLSA INTEGRAL   \n",
       "239240          CENTRO UNIVERSITÁRIO LUTERANO DE SANTARÉM     BOLSA INTEGRAL   \n",
       "239241              UNIVERSIDADE DO SUL DE SANTA CATARINA     BOLSA INTEGRAL   \n",
       "239242              UNIVERSIDADE DO SUL DE SANTA CATARINA     BOLSA INTEGRAL   \n",
       "239243              UNIVERSIDADE DO SUL DE SANTA CATARINA     BOLSA INTEGRAL   \n",
       "239244              UNIVERSIDADE DO SUL DE SANTA CATARINA     BOLSA INTEGRAL   \n",
       "239245              UNIVERSIDADE DO SUL DE SANTA CATARINA     BOLSA INTEGRAL   \n",
       "239246              UNIVERSIDADE DO SUL DE SANTA CATARINA     BOLSA INTEGRAL   \n",
       "239247              UNIVERSIDADE DO SUL DE SANTA CATARINA     BOLSA INTEGRAL   \n",
       "239248                              UNIVERSIDADE PAULISTA     BOLSA INTEGRAL   \n",
       "239249             CENTRO UNIVERSITÁRIO LEONARDO DA VINCI     BOLSA INTEGRAL   \n",
       "239250             CENTRO UNIVERSITÁRIO LEONARDO DA VINCI     BOLSA INTEGRAL   \n",
       "239251             CENTRO UNIVERSITÁRIO LEONARDO DA VINCI     BOLSA INTEGRAL   \n",
       "239252             CENTRO UNIVERSITÁRIO LEONARDO DA VINCI     BOLSA INTEGRAL   \n",
       "239253                              UNIVERSIDADE PAULISTA     BOLSA INTEGRAL   \n",
       "239254             CENTRO UNIVERSITÁRIO LEONARDO DA VINCI     BOLSA INTEGRAL   \n",
       "239255                              UNIVERSIDADE PAULISTA     BOLSA INTEGRAL   \n",
       "239256             CENTRO UNIVERSITÁRIO LEONARDO DA VINCI     BOLSA INTEGRAL   \n",
       "239257             CENTRO UNIVERSITÁRIO LEONARDO DA VINCI     BOLSA INTEGRAL   \n",
       "239258             CENTRO UNIVERSITÁRIO LEONARDO DA VINCI     BOLSA INTEGRAL   \n",
       "239259             CENTRO UNIVERSITÁRIO LEONARDO DA VINCI     BOLSA INTEGRAL   \n",
       "239260                 CENTRO UNIVERSITÁRIO INTERNACIONAL     BOLSA INTEGRAL   \n",
       "239261                      UNIVERSIDADE DE CAXIAS DO SUL     BOLSA INTEGRAL   \n",
       "\n",
       "       MODALIDADE_ENSINO_BOLSA                       NOME_CURSO_BOLSA  \\\n",
       "0                   PRESENCIAL                          Administração   \n",
       "1                   PRESENCIAL                          Administração   \n",
       "2                   PRESENCIAL                          Administração   \n",
       "3                   PRESENCIAL                          Administração   \n",
       "4                   PRESENCIAL                     Ciências Contábeis   \n",
       "5                   PRESENCIAL                     Ciências Contábeis   \n",
       "6                   PRESENCIAL                     Ciências Contábeis   \n",
       "7                   PRESENCIAL                     Ciências Contábeis   \n",
       "8                   PRESENCIAL                                Direito   \n",
       "9                   PRESENCIAL                                Direito   \n",
       "10                  PRESENCIAL                               Farmácia   \n",
       "11                  PRESENCIAL                              Agronomia   \n",
       "12                  PRESENCIAL                          Administração   \n",
       "13        EDUCAÇÃO A DISTÂNCIA                          Artes Visuais   \n",
       "14        EDUCAÇÃO A DISTÂNCIA                          Artes Visuais   \n",
       "15                  PRESENCIAL                    Ciências Biológicas   \n",
       "16                  PRESENCIAL                          Administração   \n",
       "17                  PRESENCIAL                          Administração   \n",
       "18        EDUCAÇÃO A DISTÂNCIA                         Serviço Social   \n",
       "19        EDUCAÇÃO A DISTÂNCIA                         Serviço Social   \n",
       "20        EDUCAÇÃO A DISTÂNCIA                         Serviço Social   \n",
       "21        EDUCAÇÃO A DISTÂNCIA                         Serviço Social   \n",
       "22        EDUCAÇÃO A DISTÂNCIA                         Serviço Social   \n",
       "23                  PRESENCIAL  Análise E Desenvolvimento De Sistemas   \n",
       "24                  PRESENCIAL                                Direito   \n",
       "25                  PRESENCIAL                                Direito   \n",
       "26                  PRESENCIAL                                Direito   \n",
       "27                  PRESENCIAL                                Direito   \n",
       "28                  PRESENCIAL                        Educação Física   \n",
       "29                  PRESENCIAL                        Educação Física   \n",
       "...                        ...                                    ...   \n",
       "239232              PRESENCIAL                       Engenharia Civil   \n",
       "239233              PRESENCIAL                     Ciências Contábeis   \n",
       "239234              PRESENCIAL                     Ciências Contábeis   \n",
       "239235              PRESENCIAL                              Pedagogia   \n",
       "239236              PRESENCIAL                              Pedagogia   \n",
       "239237              PRESENCIAL                              Pedagogia   \n",
       "239238              PRESENCIAL                 Sistemas De Informação   \n",
       "239239              PRESENCIAL                 Sistemas De Informação   \n",
       "239240              PRESENCIAL                        Educação Física   \n",
       "239241              PRESENCIAL               Publicidade E Propaganda   \n",
       "239242              PRESENCIAL                                Direito   \n",
       "239243              PRESENCIAL                               Nutrição   \n",
       "239244              PRESENCIAL                               Nutrição   \n",
       "239245              PRESENCIAL             Letras - Língua Portuguesa   \n",
       "239246              PRESENCIAL             Letras - Língua Portuguesa   \n",
       "239247              PRESENCIAL                             Psicologia   \n",
       "239248    EDUCAÇÃO A DISTÂNCIA                       Gestão Ambiental   \n",
       "239249    EDUCAÇÃO A DISTÂNCIA             Gestão De Recursos Humanos   \n",
       "239250    EDUCAÇÃO A DISTÂNCIA                              Logística   \n",
       "239251    EDUCAÇÃO A DISTÂNCIA                              Logística   \n",
       "239252    EDUCAÇÃO A DISTÂNCIA                        Educação Física   \n",
       "239253    EDUCAÇÃO A DISTÂNCIA                          Administração   \n",
       "239254    EDUCAÇÃO A DISTÂNCIA                              Pedagogia   \n",
       "239255    EDUCAÇÃO A DISTÂNCIA                         Serviço Social   \n",
       "239256    EDUCAÇÃO A DISTÂNCIA                       Gestão Comercial   \n",
       "239257    EDUCAÇÃO A DISTÂNCIA                              Pedagogia   \n",
       "239258    EDUCAÇÃO A DISTÂNCIA                   Processos Gerenciais   \n",
       "239259    EDUCAÇÃO A DISTÂNCIA                   Processos Gerenciais   \n",
       "239260    EDUCAÇÃO A DISTÂNCIA                             Matemática   \n",
       "239261              PRESENCIAL                       Engenharia Civil   \n",
       "\n",
       "       NOME_TURNO_CURSO_BOLSA CPF_BENEFICIARIO_BOLSA SEXO_BENEFICIARIO_BOLSA  \\\n",
       "0                     Noturno            ***847010**                Feminino   \n",
       "1                     Noturno            ***377850**                Feminino   \n",
       "2                     Noturno            ***266150**               Masculino   \n",
       "3                     Noturno            ***408700**                Feminino   \n",
       "4                     Noturno            ***560300**               Masculino   \n",
       "5                     Noturno            ***282250**                Feminino   \n",
       "6                     Noturno            ***237150**                Feminino   \n",
       "7                     Noturno            ***955950**               Masculino   \n",
       "8                     Noturno            ***110480**                Feminino   \n",
       "9                     Noturno            ***129510**                Feminino   \n",
       "10                   Integral            ***110500**                Feminino   \n",
       "11                    Noturno            ***967280**               Masculino   \n",
       "12                    Noturno            ***310110**                Feminino   \n",
       "13          Curso a distância            ***931445**                Feminino   \n",
       "14          Curso a distância            ***603799**                Feminino   \n",
       "15                    Noturno            ***832030**                Feminino   \n",
       "16                    Noturno            ***724738**                Feminino   \n",
       "17                    Noturno            ***374539**               Masculino   \n",
       "18          Curso a distância            ***705675**               Masculino   \n",
       "19          Curso a distância            ***333245**                Feminino   \n",
       "20          Curso a distância            ***683525**                Feminino   \n",
       "21          Curso a distância            ***891985**                Feminino   \n",
       "22          Curso a distância            ***517504**                Feminino   \n",
       "23                    Noturno            ***150719**               Masculino   \n",
       "24                    Noturno            ***123550**               Masculino   \n",
       "25                   Matutino            ***740060**               Masculino   \n",
       "26                   Matutino            ***256410**                Feminino   \n",
       "27                   Matutino            ***987090**                Feminino   \n",
       "28                    Noturno            ***176690**               Masculino   \n",
       "29                    Noturno            ***563030**               Masculino   \n",
       "...                       ...                    ...                     ...   \n",
       "239232                Noturno            ***058509**                Feminino   \n",
       "239233                Noturno            ***287589**                Feminino   \n",
       "239234                Noturno            ***534989**                Feminino   \n",
       "239235                Noturno            ***238929**                Feminino   \n",
       "239236                Noturno            ***150922**                Feminino   \n",
       "239237                Noturno            ***492202**               Masculino   \n",
       "239238                Noturno            ***527122**               Masculino   \n",
       "239239                Noturno            ***853382**                Feminino   \n",
       "239240                Noturno            ***809752**               Masculino   \n",
       "239241                Noturno            ***970319**               Masculino   \n",
       "239242                Noturno            ***387629**                Feminino   \n",
       "239243                Noturno            ***080729**                Feminino   \n",
       "239244                Noturno            ***973899**               Masculino   \n",
       "239245                Noturno            ***668949**                Feminino   \n",
       "239246                Noturno            ***509959**                Feminino   \n",
       "239247                Noturno            ***312659**                Feminino   \n",
       "239248      Curso a distância            ***580292**                Feminino   \n",
       "239249      Curso a distância            ***461170**                Feminino   \n",
       "239250      Curso a distância            ***510079**               Masculino   \n",
       "239251      Curso a distância            ***868229**               Masculino   \n",
       "239252      Curso a distância            ***815269**                Feminino   \n",
       "239253      Curso a distância            ***814332**               Masculino   \n",
       "239254      Curso a distância            ***188519**                Feminino   \n",
       "239255      Curso a distância            ***432232**                Feminino   \n",
       "239256      Curso a distância            ***636169**               Masculino   \n",
       "239257      Curso a distância            ***100559**                Feminino   \n",
       "239258      Curso a distância            ***830879**                Feminino   \n",
       "239259      Curso a distância            ***695039**                Feminino   \n",
       "239260      Curso a distância            ***810222**               Masculino   \n",
       "239261                Noturno            ***071900**                Feminino   \n",
       "\n",
       "       RACA_BENEFICIARIO_BOLSA DT_NASCIMENTO_BENEFICIARIO  \\\n",
       "0                       Branca                 06-12-1995   \n",
       "1                       Branca                 08-08-1990   \n",
       "2                       Branca                 08-03-1999   \n",
       "3                       Branca                 24-04-1997   \n",
       "4                       Branca                 07-05-1994   \n",
       "5                       Branca                 08-11-1993   \n",
       "6                       Branca                 12-02-1997   \n",
       "7                        Preta                 07-04-1982   \n",
       "8                       Branca                 13-01-1998   \n",
       "9                       Branca                 24-02-1998   \n",
       "10                      Branca                 13-01-1998   \n",
       "11                      Branca                 21-08-1993   \n",
       "12                      Branca                 02-08-1993   \n",
       "13                       Preta                 12-03-1987   \n",
       "14                      Branca                 28-06-1983   \n",
       "15                      Branca                 06-06-1997   \n",
       "16                       Parda                 04-04-1985   \n",
       "17                       Preta                 21-11-1996   \n",
       "18                      Branca                 16-05-1991   \n",
       "19                       Parda                 17-06-1993   \n",
       "20                       Parda                 05-09-1977   \n",
       "21                       Parda                 09-08-1982   \n",
       "22                       Parda                 01-04-1992   \n",
       "23                       Parda                 25-12-1989   \n",
       "24                      Branca                 27-09-1997   \n",
       "25                       Parda                 20-10-1990   \n",
       "26                      Branca                 29-09-1997   \n",
       "27                      Branca                 07-11-1997   \n",
       "28                      Branca                 25-10-1997   \n",
       "29                       Parda                 07-11-1997   \n",
       "...                        ...                        ...   \n",
       "239232                  Branca                 12-03-1998   \n",
       "239233                  Branca                 26-10-1996   \n",
       "239234                  Branca                 15-12-1994   \n",
       "239235                  Branca                 26-08-1996   \n",
       "239236                   Parda                 30-11-1998   \n",
       "239237                   Preta                 24-03-1999   \n",
       "239238                  Branca                 03-05-1995   \n",
       "239239                   Parda                 16-09-1997   \n",
       "239240                   Parda                 25-02-1996   \n",
       "239241                   Parda                 11-12-1989   \n",
       "239242                  Branca                 31-03-1997   \n",
       "239243                  Branca                 17-04-1999   \n",
       "239244                  Branca                 17-06-1996   \n",
       "239245                  Branca                 17-03-1998   \n",
       "239246                  Branca                 19-02-1996   \n",
       "239247                  Branca                 28-06-1996   \n",
       "239248                  Branca                 06-11-1992   \n",
       "239249                  Branca                 06-10-1998   \n",
       "239250                  Branca                 12-02-1999   \n",
       "239251                  Branca                 07-09-1998   \n",
       "239252                   Parda                 08-11-1998   \n",
       "239253                   Parda                 05-10-1982   \n",
       "239254                  Branca                 28-03-1991   \n",
       "239255                   Preta                 12-04-1992   \n",
       "239256                  Branca                 03-11-1995   \n",
       "239257                   Preta                 01-05-1982   \n",
       "239258                  Branca                 02-10-1985   \n",
       "239259                  Branca                 19-09-1997   \n",
       "239260                   Parda                 04-04-1997   \n",
       "239261                  Branca                 16-01-1997   \n",
       "\n",
       "       BENEFICIARIO_DEFICIENTE_FISICO REGIAO_BENEFICIARIO_BOLSA  \\\n",
       "0                                 NÃO                       SUL   \n",
       "1                                 NÃO                       SUL   \n",
       "2                                 NÃO                       SUL   \n",
       "3                                 NÃO                       SUL   \n",
       "4                                 NÃO                       SUL   \n",
       "5                                 NÃO                       SUL   \n",
       "6                                 NÃO                       SUL   \n",
       "7                                 NÃO                       SUL   \n",
       "8                                 NÃO                       SUL   \n",
       "9                                 NÃO                       SUL   \n",
       "10                                NÃO                       SUL   \n",
       "11                                NÃO                       SUL   \n",
       "12                                NÃO                       SUL   \n",
       "13                                NÃO                       SUL   \n",
       "14                                NÃO                       SUL   \n",
       "15                                NÃO                       SUL   \n",
       "16                                NÃO                       SUL   \n",
       "17                                NÃO                       SUL   \n",
       "18                                NÃO                  NORDESTE   \n",
       "19                                NÃO                  NORDESTE   \n",
       "20                                NÃO                  NORDESTE   \n",
       "21                                NÃO                  NORDESTE   \n",
       "22                                NÃO                  NORDESTE   \n",
       "23                                SIM                       SUL   \n",
       "24                                NÃO                       SUL   \n",
       "25                                NÃO                       SUL   \n",
       "26                                NÃO                       SUL   \n",
       "27                                NÃO                       SUL   \n",
       "28                                NÃO                       SUL   \n",
       "29                                NÃO                       SUL   \n",
       "...                               ...                       ...   \n",
       "239232                            NÃO                       SUL   \n",
       "239233                            NÃO                       SUL   \n",
       "239234                            NÃO                       SUL   \n",
       "239235                            NÃO                       SUL   \n",
       "239236                            NÃO                     NORTE   \n",
       "239237                            NÃO                     NORTE   \n",
       "239238                            NÃO                     NORTE   \n",
       "239239                            NÃO                     NORTE   \n",
       "239240                            NÃO                     NORTE   \n",
       "239241                            NÃO                       SUL   \n",
       "239242                            NÃO                       SUL   \n",
       "239243                            NÃO                       SUL   \n",
       "239244                            NÃO                       SUL   \n",
       "239245                            NÃO                       SUL   \n",
       "239246                            NÃO                       SUL   \n",
       "239247                            NÃO                       SUL   \n",
       "239248                            NÃO                     NORTE   \n",
       "239249                            NÃO                       SUL   \n",
       "239250                            NÃO                       SUL   \n",
       "239251                            NÃO                       SUL   \n",
       "239252                            NÃO                       SUL   \n",
       "239253                            NÃO                     NORTE   \n",
       "239254                            NÃO                       SUL   \n",
       "239255                            NÃO                     NORTE   \n",
       "239256                            NÃO                       SUL   \n",
       "239257                            NÃO                       SUL   \n",
       "239258                            NÃO                       SUL   \n",
       "239259                            NÃO                       SUL   \n",
       "239260                            NÃO                     NORTE   \n",
       "239261                            NÃO                       SUL   \n",
       "\n",
       "       SIGLA_UF_BENEFICIARIO_BOLSA MUNICIPIO_BENEFICIARIO_BOLSA  \n",
       "0                               RS                     SOLEDADE  \n",
       "1                               RS                     SOLEDADE  \n",
       "2                               RS                     SOLEDADE  \n",
       "3                               RS                     SOLEDADE  \n",
       "4                               RS                      ERECHIM  \n",
       "5                               RS                      ERECHIM  \n",
       "6                               RS                      ERECHIM  \n",
       "7                               RS                      ERECHIM  \n",
       "8                               RS                      ERECHIM  \n",
       "9                               RS                      ERECHIM  \n",
       "10                              RS                      ERECHIM  \n",
       "11                              RS                     SANTIAGO  \n",
       "12                              RS                 SANTO ÂNGELO  \n",
       "13                              PR                    ARAPONGAS  \n",
       "14                              PR                    ARAPONGAS  \n",
       "15                              RS                 SANTO ÂNGELO  \n",
       "16                              PR                    ARAPONGAS  \n",
       "17                              PR                    ARAPONGAS  \n",
       "18                              SE                      ARACAJU  \n",
       "19                              SE                      ARACAJU  \n",
       "20                              SE                      ARACAJU  \n",
       "21                              SE                      ARACAJU  \n",
       "22                              SE                      ARACAJU  \n",
       "23                              PR                    ARAPONGAS  \n",
       "24                              RS                      ERECHIM  \n",
       "25                              RS                 SANTO ÂNGELO  \n",
       "26                              RS                 SANTO ÂNGELO  \n",
       "27                              RS                 SANTO ÂNGELO  \n",
       "28                              RS                      ERECHIM  \n",
       "29                              RS                      ERECHIM  \n",
       "...                            ...                          ...  \n",
       "239232                          SC               PESCARIA BRAVA  \n",
       "239233                          SC               PESCARIA BRAVA  \n",
       "239234                          SC               PESCARIA BRAVA  \n",
       "239235                          SC               PESCARIA BRAVA  \n",
       "239236                          PA             MOJUÍ DOS CAMPOS  \n",
       "239237                          PA             MOJUÍ DOS CAMPOS  \n",
       "239238                          PA             MOJUÍ DOS CAMPOS  \n",
       "239239                          PA             MOJUÍ DOS CAMPOS  \n",
       "239240                          PA             MOJUÍ DOS CAMPOS  \n",
       "239241                          SC               PESCARIA BRAVA  \n",
       "239242                          SC               PESCARIA BRAVA  \n",
       "239243                          SC               PESCARIA BRAVA  \n",
       "239244                          SC               PESCARIA BRAVA  \n",
       "239245                          SC               PESCARIA BRAVA  \n",
       "239246                          SC               PESCARIA BRAVA  \n",
       "239247                          SC               PESCARIA BRAVA  \n",
       "239248                          PA             MOJUÍ DOS CAMPOS  \n",
       "239249                          RS               PINTO BANDEIRA  \n",
       "239250                          SC               PESCARIA BRAVA  \n",
       "239251                          SC               PESCARIA BRAVA  \n",
       "239252                          SC               PESCARIA BRAVA  \n",
       "239253                          PA             MOJUÍ DOS CAMPOS  \n",
       "239254                          SC               PESCARIA BRAVA  \n",
       "239255                          PA             MOJUÍ DOS CAMPOS  \n",
       "239256                          SC               PESCARIA BRAVA  \n",
       "239257                          SC             BALNEÁRIO RINCÃO  \n",
       "239258                          SC               PESCARIA BRAVA  \n",
       "239259                          SC               PESCARIA BRAVA  \n",
       "239260                          PA             MOJUÍ DOS CAMPOS  \n",
       "239261                          RS               PINTO BANDEIRA  \n",
       "\n",
       "[239262 rows x 15 columns]"
      ]
     },
     "execution_count": 24,
     "metadata": {},
     "output_type": "execute_result"
    }
   ],
   "source": [
    "levantamento2016"
   ]
  },
  {
   "cell_type": "code",
   "execution_count": null,
   "metadata": {
    "collapsed": true
   },
   "outputs": [],
   "source": []
  },
  {
   "cell_type": "code",
   "execution_count": 4,
   "metadata": {},
   "outputs": [
    {
     "data": {
      "text/plain": [
       "Index(['ANO_CONCESSAO_BOLSA', 'CODIGO_EMEC_IES_BOLSA', 'NOME_IES_BOLSA',\n",
       "       'TIPO_BOLSA', 'MODALIDADE_ENSINO_BOLSA', 'NOME_CURSO_BOLSA',\n",
       "       'NOME_TURNO_CURSO_BOLSA', 'CPF_BENEFICIARIO_BOLSA',\n",
       "       'SEXO_BENEFICIARIO_BOLSA', 'RACA_BENEFICIARIO_BOLSA',\n",
       "       'DT_NASCIMENTO_BENEFICIARIO', 'BENEFICIARIO_DEFICIENTE_FISICO',\n",
       "       'REGIAO_BENEFICIARIO_BOLSA', 'SIGLA_UF_BENEFICIARIO_BOLSA',\n",
       "       'MUNICIPIO_BENEFICIARIO_BOLSA'],\n",
       "      dtype='object')"
      ]
     },
     "execution_count": 4,
     "metadata": {},
     "output_type": "execute_result"
    }
   ],
   "source": [
    "levantamento2016.columns"
   ]
  },
  {
   "cell_type": "code",
   "execution_count": 25,
   "metadata": {},
   "outputs": [],
   "source": [
    "df_pop = levantamento2016.drop(levantamento2016.columns[[0,1,2,3,4,6,7,9,10,11,12,13,14]], axis=1)"
   ]
  },
  {
   "cell_type": "code",
   "execution_count": 26,
   "metadata": {},
   "outputs": [
    {
     "data": {
      "text/html": [
       "<div>\n",
       "<style>\n",
       "    .dataframe thead tr:only-child th {\n",
       "        text-align: right;\n",
       "    }\n",
       "\n",
       "    .dataframe thead th {\n",
       "        text-align: left;\n",
       "    }\n",
       "\n",
       "    .dataframe tbody tr th {\n",
       "        vertical-align: top;\n",
       "    }\n",
       "</style>\n",
       "<table border=\"1\" class=\"dataframe\">\n",
       "  <thead>\n",
       "    <tr style=\"text-align: right;\">\n",
       "      <th></th>\n",
       "      <th>NOME_CURSO_BOLSA</th>\n",
       "      <th>SEXO_BENEFICIARIO_BOLSA</th>\n",
       "    </tr>\n",
       "  </thead>\n",
       "  <tbody>\n",
       "    <tr>\n",
       "      <th>0</th>\n",
       "      <td>Administração</td>\n",
       "      <td>Feminino</td>\n",
       "    </tr>\n",
       "    <tr>\n",
       "      <th>1</th>\n",
       "      <td>Administração</td>\n",
       "      <td>Feminino</td>\n",
       "    </tr>\n",
       "    <tr>\n",
       "      <th>2</th>\n",
       "      <td>Administração</td>\n",
       "      <td>Masculino</td>\n",
       "    </tr>\n",
       "    <tr>\n",
       "      <th>3</th>\n",
       "      <td>Administração</td>\n",
       "      <td>Feminino</td>\n",
       "    </tr>\n",
       "    <tr>\n",
       "      <th>4</th>\n",
       "      <td>Ciências Contábeis</td>\n",
       "      <td>Masculino</td>\n",
       "    </tr>\n",
       "    <tr>\n",
       "      <th>5</th>\n",
       "      <td>Ciências Contábeis</td>\n",
       "      <td>Feminino</td>\n",
       "    </tr>\n",
       "    <tr>\n",
       "      <th>6</th>\n",
       "      <td>Ciências Contábeis</td>\n",
       "      <td>Feminino</td>\n",
       "    </tr>\n",
       "    <tr>\n",
       "      <th>7</th>\n",
       "      <td>Ciências Contábeis</td>\n",
       "      <td>Masculino</td>\n",
       "    </tr>\n",
       "    <tr>\n",
       "      <th>8</th>\n",
       "      <td>Direito</td>\n",
       "      <td>Feminino</td>\n",
       "    </tr>\n",
       "    <tr>\n",
       "      <th>9</th>\n",
       "      <td>Direito</td>\n",
       "      <td>Feminino</td>\n",
       "    </tr>\n",
       "    <tr>\n",
       "      <th>10</th>\n",
       "      <td>Farmácia</td>\n",
       "      <td>Feminino</td>\n",
       "    </tr>\n",
       "    <tr>\n",
       "      <th>11</th>\n",
       "      <td>Agronomia</td>\n",
       "      <td>Masculino</td>\n",
       "    </tr>\n",
       "    <tr>\n",
       "      <th>12</th>\n",
       "      <td>Administração</td>\n",
       "      <td>Feminino</td>\n",
       "    </tr>\n",
       "    <tr>\n",
       "      <th>13</th>\n",
       "      <td>Artes Visuais</td>\n",
       "      <td>Feminino</td>\n",
       "    </tr>\n",
       "    <tr>\n",
       "      <th>14</th>\n",
       "      <td>Artes Visuais</td>\n",
       "      <td>Feminino</td>\n",
       "    </tr>\n",
       "    <tr>\n",
       "      <th>15</th>\n",
       "      <td>Ciências Biológicas</td>\n",
       "      <td>Feminino</td>\n",
       "    </tr>\n",
       "    <tr>\n",
       "      <th>16</th>\n",
       "      <td>Administração</td>\n",
       "      <td>Feminino</td>\n",
       "    </tr>\n",
       "    <tr>\n",
       "      <th>17</th>\n",
       "      <td>Administração</td>\n",
       "      <td>Masculino</td>\n",
       "    </tr>\n",
       "    <tr>\n",
       "      <th>18</th>\n",
       "      <td>Serviço Social</td>\n",
       "      <td>Masculino</td>\n",
       "    </tr>\n",
       "    <tr>\n",
       "      <th>19</th>\n",
       "      <td>Serviço Social</td>\n",
       "      <td>Feminino</td>\n",
       "    </tr>\n",
       "    <tr>\n",
       "      <th>20</th>\n",
       "      <td>Serviço Social</td>\n",
       "      <td>Feminino</td>\n",
       "    </tr>\n",
       "    <tr>\n",
       "      <th>21</th>\n",
       "      <td>Serviço Social</td>\n",
       "      <td>Feminino</td>\n",
       "    </tr>\n",
       "    <tr>\n",
       "      <th>22</th>\n",
       "      <td>Serviço Social</td>\n",
       "      <td>Feminino</td>\n",
       "    </tr>\n",
       "    <tr>\n",
       "      <th>23</th>\n",
       "      <td>Análise E Desenvolvimento De Sistemas</td>\n",
       "      <td>Masculino</td>\n",
       "    </tr>\n",
       "    <tr>\n",
       "      <th>24</th>\n",
       "      <td>Direito</td>\n",
       "      <td>Masculino</td>\n",
       "    </tr>\n",
       "    <tr>\n",
       "      <th>25</th>\n",
       "      <td>Direito</td>\n",
       "      <td>Masculino</td>\n",
       "    </tr>\n",
       "    <tr>\n",
       "      <th>26</th>\n",
       "      <td>Direito</td>\n",
       "      <td>Feminino</td>\n",
       "    </tr>\n",
       "    <tr>\n",
       "      <th>27</th>\n",
       "      <td>Direito</td>\n",
       "      <td>Feminino</td>\n",
       "    </tr>\n",
       "    <tr>\n",
       "      <th>28</th>\n",
       "      <td>Educação Física</td>\n",
       "      <td>Masculino</td>\n",
       "    </tr>\n",
       "    <tr>\n",
       "      <th>29</th>\n",
       "      <td>Educação Física</td>\n",
       "      <td>Masculino</td>\n",
       "    </tr>\n",
       "    <tr>\n",
       "      <th>...</th>\n",
       "      <td>...</td>\n",
       "      <td>...</td>\n",
       "    </tr>\n",
       "    <tr>\n",
       "      <th>239232</th>\n",
       "      <td>Engenharia Civil</td>\n",
       "      <td>Feminino</td>\n",
       "    </tr>\n",
       "    <tr>\n",
       "      <th>239233</th>\n",
       "      <td>Ciências Contábeis</td>\n",
       "      <td>Feminino</td>\n",
       "    </tr>\n",
       "    <tr>\n",
       "      <th>239234</th>\n",
       "      <td>Ciências Contábeis</td>\n",
       "      <td>Feminino</td>\n",
       "    </tr>\n",
       "    <tr>\n",
       "      <th>239235</th>\n",
       "      <td>Pedagogia</td>\n",
       "      <td>Feminino</td>\n",
       "    </tr>\n",
       "    <tr>\n",
       "      <th>239236</th>\n",
       "      <td>Pedagogia</td>\n",
       "      <td>Feminino</td>\n",
       "    </tr>\n",
       "    <tr>\n",
       "      <th>239237</th>\n",
       "      <td>Pedagogia</td>\n",
       "      <td>Masculino</td>\n",
       "    </tr>\n",
       "    <tr>\n",
       "      <th>239238</th>\n",
       "      <td>Sistemas De Informação</td>\n",
       "      <td>Masculino</td>\n",
       "    </tr>\n",
       "    <tr>\n",
       "      <th>239239</th>\n",
       "      <td>Sistemas De Informação</td>\n",
       "      <td>Feminino</td>\n",
       "    </tr>\n",
       "    <tr>\n",
       "      <th>239240</th>\n",
       "      <td>Educação Física</td>\n",
       "      <td>Masculino</td>\n",
       "    </tr>\n",
       "    <tr>\n",
       "      <th>239241</th>\n",
       "      <td>Publicidade E Propaganda</td>\n",
       "      <td>Masculino</td>\n",
       "    </tr>\n",
       "    <tr>\n",
       "      <th>239242</th>\n",
       "      <td>Direito</td>\n",
       "      <td>Feminino</td>\n",
       "    </tr>\n",
       "    <tr>\n",
       "      <th>239243</th>\n",
       "      <td>Nutrição</td>\n",
       "      <td>Feminino</td>\n",
       "    </tr>\n",
       "    <tr>\n",
       "      <th>239244</th>\n",
       "      <td>Nutrição</td>\n",
       "      <td>Masculino</td>\n",
       "    </tr>\n",
       "    <tr>\n",
       "      <th>239245</th>\n",
       "      <td>Letras - Língua Portuguesa</td>\n",
       "      <td>Feminino</td>\n",
       "    </tr>\n",
       "    <tr>\n",
       "      <th>239246</th>\n",
       "      <td>Letras - Língua Portuguesa</td>\n",
       "      <td>Feminino</td>\n",
       "    </tr>\n",
       "    <tr>\n",
       "      <th>239247</th>\n",
       "      <td>Psicologia</td>\n",
       "      <td>Feminino</td>\n",
       "    </tr>\n",
       "    <tr>\n",
       "      <th>239248</th>\n",
       "      <td>Gestão Ambiental</td>\n",
       "      <td>Feminino</td>\n",
       "    </tr>\n",
       "    <tr>\n",
       "      <th>239249</th>\n",
       "      <td>Gestão De Recursos Humanos</td>\n",
       "      <td>Feminino</td>\n",
       "    </tr>\n",
       "    <tr>\n",
       "      <th>239250</th>\n",
       "      <td>Logística</td>\n",
       "      <td>Masculino</td>\n",
       "    </tr>\n",
       "    <tr>\n",
       "      <th>239251</th>\n",
       "      <td>Logística</td>\n",
       "      <td>Masculino</td>\n",
       "    </tr>\n",
       "    <tr>\n",
       "      <th>239252</th>\n",
       "      <td>Educação Física</td>\n",
       "      <td>Feminino</td>\n",
       "    </tr>\n",
       "    <tr>\n",
       "      <th>239253</th>\n",
       "      <td>Administração</td>\n",
       "      <td>Masculino</td>\n",
       "    </tr>\n",
       "    <tr>\n",
       "      <th>239254</th>\n",
       "      <td>Pedagogia</td>\n",
       "      <td>Feminino</td>\n",
       "    </tr>\n",
       "    <tr>\n",
       "      <th>239255</th>\n",
       "      <td>Serviço Social</td>\n",
       "      <td>Feminino</td>\n",
       "    </tr>\n",
       "    <tr>\n",
       "      <th>239256</th>\n",
       "      <td>Gestão Comercial</td>\n",
       "      <td>Masculino</td>\n",
       "    </tr>\n",
       "    <tr>\n",
       "      <th>239257</th>\n",
       "      <td>Pedagogia</td>\n",
       "      <td>Feminino</td>\n",
       "    </tr>\n",
       "    <tr>\n",
       "      <th>239258</th>\n",
       "      <td>Processos Gerenciais</td>\n",
       "      <td>Feminino</td>\n",
       "    </tr>\n",
       "    <tr>\n",
       "      <th>239259</th>\n",
       "      <td>Processos Gerenciais</td>\n",
       "      <td>Feminino</td>\n",
       "    </tr>\n",
       "    <tr>\n",
       "      <th>239260</th>\n",
       "      <td>Matemática</td>\n",
       "      <td>Masculino</td>\n",
       "    </tr>\n",
       "    <tr>\n",
       "      <th>239261</th>\n",
       "      <td>Engenharia Civil</td>\n",
       "      <td>Feminino</td>\n",
       "    </tr>\n",
       "  </tbody>\n",
       "</table>\n",
       "<p>239262 rows × 2 columns</p>\n",
       "</div>"
      ],
      "text/plain": [
       "                             NOME_CURSO_BOLSA SEXO_BENEFICIARIO_BOLSA\n",
       "0                               Administração                Feminino\n",
       "1                               Administração                Feminino\n",
       "2                               Administração               Masculino\n",
       "3                               Administração                Feminino\n",
       "4                          Ciências Contábeis               Masculino\n",
       "5                          Ciências Contábeis                Feminino\n",
       "6                          Ciências Contábeis                Feminino\n",
       "7                          Ciências Contábeis               Masculino\n",
       "8                                     Direito                Feminino\n",
       "9                                     Direito                Feminino\n",
       "10                                   Farmácia                Feminino\n",
       "11                                  Agronomia               Masculino\n",
       "12                              Administração                Feminino\n",
       "13                              Artes Visuais                Feminino\n",
       "14                              Artes Visuais                Feminino\n",
       "15                        Ciências Biológicas                Feminino\n",
       "16                              Administração                Feminino\n",
       "17                              Administração               Masculino\n",
       "18                             Serviço Social               Masculino\n",
       "19                             Serviço Social                Feminino\n",
       "20                             Serviço Social                Feminino\n",
       "21                             Serviço Social                Feminino\n",
       "22                             Serviço Social                Feminino\n",
       "23      Análise E Desenvolvimento De Sistemas               Masculino\n",
       "24                                    Direito               Masculino\n",
       "25                                    Direito               Masculino\n",
       "26                                    Direito                Feminino\n",
       "27                                    Direito                Feminino\n",
       "28                            Educação Física               Masculino\n",
       "29                            Educação Física               Masculino\n",
       "...                                       ...                     ...\n",
       "239232                       Engenharia Civil                Feminino\n",
       "239233                     Ciências Contábeis                Feminino\n",
       "239234                     Ciências Contábeis                Feminino\n",
       "239235                              Pedagogia                Feminino\n",
       "239236                              Pedagogia                Feminino\n",
       "239237                              Pedagogia               Masculino\n",
       "239238                 Sistemas De Informação               Masculino\n",
       "239239                 Sistemas De Informação                Feminino\n",
       "239240                        Educação Física               Masculino\n",
       "239241               Publicidade E Propaganda               Masculino\n",
       "239242                                Direito                Feminino\n",
       "239243                               Nutrição                Feminino\n",
       "239244                               Nutrição               Masculino\n",
       "239245             Letras - Língua Portuguesa                Feminino\n",
       "239246             Letras - Língua Portuguesa                Feminino\n",
       "239247                             Psicologia                Feminino\n",
       "239248                       Gestão Ambiental                Feminino\n",
       "239249             Gestão De Recursos Humanos                Feminino\n",
       "239250                              Logística               Masculino\n",
       "239251                              Logística               Masculino\n",
       "239252                        Educação Física                Feminino\n",
       "239253                          Administração               Masculino\n",
       "239254                              Pedagogia                Feminino\n",
       "239255                         Serviço Social                Feminino\n",
       "239256                       Gestão Comercial               Masculino\n",
       "239257                              Pedagogia                Feminino\n",
       "239258                   Processos Gerenciais                Feminino\n",
       "239259                   Processos Gerenciais                Feminino\n",
       "239260                             Matemática               Masculino\n",
       "239261                       Engenharia Civil                Feminino\n",
       "\n",
       "[239262 rows x 2 columns]"
      ]
     },
     "execution_count": 26,
     "metadata": {},
     "output_type": "execute_result"
    }
   ],
   "source": [
    "df_pop"
   ]
  },
  {
   "cell_type": "code",
   "execution_count": null,
   "metadata": {
    "collapsed": true
   },
   "outputs": [],
   "source": []
  },
  {
   "cell_type": "code",
   "execution_count": null,
   "metadata": {
    "collapsed": true
   },
   "outputs": [],
   "source": []
  },
  {
   "cell_type": "code",
   "execution_count": null,
   "metadata": {
    "collapsed": true
   },
   "outputs": [],
   "source": []
  },
  {
   "cell_type": "code",
   "execution_count": 12,
   "metadata": {},
   "outputs": [
    {
     "data": {
      "text/html": [
       "<div>\n",
       "<style>\n",
       "    .dataframe thead tr:only-child th {\n",
       "        text-align: right;\n",
       "    }\n",
       "\n",
       "    .dataframe thead th {\n",
       "        text-align: left;\n",
       "    }\n",
       "\n",
       "    .dataframe tbody tr th {\n",
       "        vertical-align: top;\n",
       "    }\n",
       "</style>\n",
       "<table border=\"1\" class=\"dataframe\">\n",
       "  <thead>\n",
       "    <tr style=\"text-align: right;\">\n",
       "      <th></th>\n",
       "      <th>ANO_CONCESSAO_BOLSA</th>\n",
       "      <th>CODIGO_EMEC_IES_BOLSA</th>\n",
       "      <th>NOME_IES_BOLSA</th>\n",
       "      <th>TIPO_BOLSA</th>\n",
       "      <th>MODALIDADE_ENSINO_BOLSA</th>\n",
       "      <th>NOME_CURSO_BOLSA</th>\n",
       "      <th>NOME_TURNO_CURSO_BOLSA</th>\n",
       "      <th>CPF_BENEFICIARIO_BOLSA</th>\n",
       "      <th>SEXO_BENEFICIARIO_BOLSA</th>\n",
       "      <th>RACA_BENEFICIARIO_BOLSA</th>\n",
       "      <th>DT_NASCIMENTO_BENEFICIARIO</th>\n",
       "      <th>BENEFICIARIO_DEFICIENTE_FISICO</th>\n",
       "      <th>REGIAO_BENEFICIARIO_BOLSA</th>\n",
       "      <th>SIGLA_UF_BENEFICIARIO_BOLSA</th>\n",
       "      <th>MUNICIPIO_BENEFICIARIO_BOLSA</th>\n",
       "    </tr>\n",
       "  </thead>\n",
       "  <tbody>\n",
       "    <tr>\n",
       "      <th>0</th>\n",
       "      <td>2016</td>\n",
       "      <td>20</td>\n",
       "      <td>UNIVERSIDADE DE PASSO FUNDO</td>\n",
       "      <td>BOLSA PARCIAL 50%</td>\n",
       "      <td>PRESENCIAL</td>\n",
       "      <td>Administração</td>\n",
       "      <td>Noturno</td>\n",
       "      <td>***847010**</td>\n",
       "      <td>Feminino</td>\n",
       "      <td>Branca</td>\n",
       "      <td>06-12-1995</td>\n",
       "      <td>NÃO</td>\n",
       "      <td>SUL</td>\n",
       "      <td>RS</td>\n",
       "      <td>SOLEDADE</td>\n",
       "    </tr>\n",
       "    <tr>\n",
       "      <th>1</th>\n",
       "      <td>2016</td>\n",
       "      <td>20</td>\n",
       "      <td>UNIVERSIDADE DE PASSO FUNDO</td>\n",
       "      <td>BOLSA INTEGRAL</td>\n",
       "      <td>PRESENCIAL</td>\n",
       "      <td>Administração</td>\n",
       "      <td>Noturno</td>\n",
       "      <td>***377850**</td>\n",
       "      <td>Feminino</td>\n",
       "      <td>Branca</td>\n",
       "      <td>08-08-1990</td>\n",
       "      <td>NÃO</td>\n",
       "      <td>SUL</td>\n",
       "      <td>RS</td>\n",
       "      <td>SOLEDADE</td>\n",
       "    </tr>\n",
       "    <tr>\n",
       "      <th>2</th>\n",
       "      <td>2016</td>\n",
       "      <td>20</td>\n",
       "      <td>UNIVERSIDADE DE PASSO FUNDO</td>\n",
       "      <td>BOLSA PARCIAL 50%</td>\n",
       "      <td>PRESENCIAL</td>\n",
       "      <td>Administração</td>\n",
       "      <td>Noturno</td>\n",
       "      <td>***266150**</td>\n",
       "      <td>Masculino</td>\n",
       "      <td>Branca</td>\n",
       "      <td>08-03-1999</td>\n",
       "      <td>NÃO</td>\n",
       "      <td>SUL</td>\n",
       "      <td>RS</td>\n",
       "      <td>SOLEDADE</td>\n",
       "    </tr>\n",
       "    <tr>\n",
       "      <th>3</th>\n",
       "      <td>2016</td>\n",
       "      <td>20</td>\n",
       "      <td>UNIVERSIDADE DE PASSO FUNDO</td>\n",
       "      <td>BOLSA PARCIAL 50%</td>\n",
       "      <td>PRESENCIAL</td>\n",
       "      <td>Administração</td>\n",
       "      <td>Noturno</td>\n",
       "      <td>***408700**</td>\n",
       "      <td>Feminino</td>\n",
       "      <td>Branca</td>\n",
       "      <td>24-04-1997</td>\n",
       "      <td>NÃO</td>\n",
       "      <td>SUL</td>\n",
       "      <td>RS</td>\n",
       "      <td>SOLEDADE</td>\n",
       "    </tr>\n",
       "    <tr>\n",
       "      <th>4</th>\n",
       "      <td>2016</td>\n",
       "      <td>423</td>\n",
       "      <td>UNIVERSIDADE REGIONAL INTEGRADA DO ALTO URUGUA...</td>\n",
       "      <td>BOLSA PARCIAL 50%</td>\n",
       "      <td>PRESENCIAL</td>\n",
       "      <td>Ciências Contábeis</td>\n",
       "      <td>Noturno</td>\n",
       "      <td>***560300**</td>\n",
       "      <td>Masculino</td>\n",
       "      <td>Branca</td>\n",
       "      <td>07-05-1994</td>\n",
       "      <td>NÃO</td>\n",
       "      <td>SUL</td>\n",
       "      <td>RS</td>\n",
       "      <td>ERECHIM</td>\n",
       "    </tr>\n",
       "  </tbody>\n",
       "</table>\n",
       "</div>"
      ],
      "text/plain": [
       "   ANO_CONCESSAO_BOLSA  CODIGO_EMEC_IES_BOLSA  \\\n",
       "0                 2016                     20   \n",
       "1                 2016                     20   \n",
       "2                 2016                     20   \n",
       "3                 2016                     20   \n",
       "4                 2016                    423   \n",
       "\n",
       "                                      NOME_IES_BOLSA         TIPO_BOLSA  \\\n",
       "0                        UNIVERSIDADE DE PASSO FUNDO  BOLSA PARCIAL 50%   \n",
       "1                        UNIVERSIDADE DE PASSO FUNDO     BOLSA INTEGRAL   \n",
       "2                        UNIVERSIDADE DE PASSO FUNDO  BOLSA PARCIAL 50%   \n",
       "3                        UNIVERSIDADE DE PASSO FUNDO  BOLSA PARCIAL 50%   \n",
       "4  UNIVERSIDADE REGIONAL INTEGRADA DO ALTO URUGUA...  BOLSA PARCIAL 50%   \n",
       "\n",
       "  MODALIDADE_ENSINO_BOLSA    NOME_CURSO_BOLSA NOME_TURNO_CURSO_BOLSA  \\\n",
       "0              PRESENCIAL       Administração                Noturno   \n",
       "1              PRESENCIAL       Administração                Noturno   \n",
       "2              PRESENCIAL       Administração                Noturno   \n",
       "3              PRESENCIAL       Administração                Noturno   \n",
       "4              PRESENCIAL  Ciências Contábeis                Noturno   \n",
       "\n",
       "  CPF_BENEFICIARIO_BOLSA SEXO_BENEFICIARIO_BOLSA RACA_BENEFICIARIO_BOLSA  \\\n",
       "0            ***847010**                Feminino                  Branca   \n",
       "1            ***377850**                Feminino                  Branca   \n",
       "2            ***266150**               Masculino                  Branca   \n",
       "3            ***408700**                Feminino                  Branca   \n",
       "4            ***560300**               Masculino                  Branca   \n",
       "\n",
       "  DT_NASCIMENTO_BENEFICIARIO BENEFICIARIO_DEFICIENTE_FISICO  \\\n",
       "0                 06-12-1995                            NÃO   \n",
       "1                 08-08-1990                            NÃO   \n",
       "2                 08-03-1999                            NÃO   \n",
       "3                 24-04-1997                            NÃO   \n",
       "4                 07-05-1994                            NÃO   \n",
       "\n",
       "  REGIAO_BENEFICIARIO_BOLSA SIGLA_UF_BENEFICIARIO_BOLSA  \\\n",
       "0                       SUL                          RS   \n",
       "1                       SUL                          RS   \n",
       "2                       SUL                          RS   \n",
       "3                       SUL                          RS   \n",
       "4                       SUL                          RS   \n",
       "\n",
       "  MUNICIPIO_BENEFICIARIO_BOLSA  \n",
       "0                     SOLEDADE  \n",
       "1                     SOLEDADE  \n",
       "2                     SOLEDADE  \n",
       "3                     SOLEDADE  \n",
       "4                      ERECHIM  "
      ]
     },
     "execution_count": 12,
     "metadata": {},
     "output_type": "execute_result"
    }
   ],
   "source": [
    "levantamento2016.head()"
   ]
  },
  {
   "cell_type": "code",
   "execution_count": null,
   "metadata": {
    "collapsed": true
   },
   "outputs": [],
   "source": []
  },
  {
   "cell_type": "code",
   "execution_count": null,
   "metadata": {
    "collapsed": true
   },
   "outputs": [],
   "source": []
  },
  {
   "cell_type": "code",
   "execution_count": 27,
   "metadata": {},
   "outputs": [
    {
     "data": {
      "text/html": [
       "<div>\n",
       "<style>\n",
       "    .dataframe thead tr:only-child th {\n",
       "        text-align: right;\n",
       "    }\n",
       "\n",
       "    .dataframe thead th {\n",
       "        text-align: left;\n",
       "    }\n",
       "\n",
       "    .dataframe tbody tr th {\n",
       "        vertical-align: top;\n",
       "    }\n",
       "</style>\n",
       "<table border=\"1\" class=\"dataframe\">\n",
       "  <thead>\n",
       "    <tr style=\"text-align: right;\">\n",
       "      <th></th>\n",
       "      <th>NOME_CURSO_BOLSA</th>\n",
       "      <th>SEXO_BENEFICIARIO_BOLSA</th>\n",
       "    </tr>\n",
       "  </thead>\n",
       "  <tbody>\n",
       "    <tr>\n",
       "      <th>0</th>\n",
       "      <td>Administração</td>\n",
       "      <td>Feminino</td>\n",
       "    </tr>\n",
       "    <tr>\n",
       "      <th>1</th>\n",
       "      <td>Administração</td>\n",
       "      <td>Feminino</td>\n",
       "    </tr>\n",
       "    <tr>\n",
       "      <th>2</th>\n",
       "      <td>Administração</td>\n",
       "      <td>Masculino</td>\n",
       "    </tr>\n",
       "    <tr>\n",
       "      <th>3</th>\n",
       "      <td>Administração</td>\n",
       "      <td>Feminino</td>\n",
       "    </tr>\n",
       "    <tr>\n",
       "      <th>4</th>\n",
       "      <td>Ciências Contábeis</td>\n",
       "      <td>Masculino</td>\n",
       "    </tr>\n",
       "    <tr>\n",
       "      <th>5</th>\n",
       "      <td>Ciências Contábeis</td>\n",
       "      <td>Feminino</td>\n",
       "    </tr>\n",
       "    <tr>\n",
       "      <th>6</th>\n",
       "      <td>Ciências Contábeis</td>\n",
       "      <td>Feminino</td>\n",
       "    </tr>\n",
       "    <tr>\n",
       "      <th>7</th>\n",
       "      <td>Ciências Contábeis</td>\n",
       "      <td>Masculino</td>\n",
       "    </tr>\n",
       "    <tr>\n",
       "      <th>8</th>\n",
       "      <td>Direito</td>\n",
       "      <td>Feminino</td>\n",
       "    </tr>\n",
       "    <tr>\n",
       "      <th>9</th>\n",
       "      <td>Direito</td>\n",
       "      <td>Feminino</td>\n",
       "    </tr>\n",
       "    <tr>\n",
       "      <th>10</th>\n",
       "      <td>Farmácia</td>\n",
       "      <td>Feminino</td>\n",
       "    </tr>\n",
       "    <tr>\n",
       "      <th>11</th>\n",
       "      <td>Agronomia</td>\n",
       "      <td>Masculino</td>\n",
       "    </tr>\n",
       "    <tr>\n",
       "      <th>12</th>\n",
       "      <td>Administração</td>\n",
       "      <td>Feminino</td>\n",
       "    </tr>\n",
       "    <tr>\n",
       "      <th>13</th>\n",
       "      <td>Artes Visuais</td>\n",
       "      <td>Feminino</td>\n",
       "    </tr>\n",
       "    <tr>\n",
       "      <th>14</th>\n",
       "      <td>Artes Visuais</td>\n",
       "      <td>Feminino</td>\n",
       "    </tr>\n",
       "    <tr>\n",
       "      <th>15</th>\n",
       "      <td>Ciências Biológicas</td>\n",
       "      <td>Feminino</td>\n",
       "    </tr>\n",
       "    <tr>\n",
       "      <th>16</th>\n",
       "      <td>Administração</td>\n",
       "      <td>Feminino</td>\n",
       "    </tr>\n",
       "    <tr>\n",
       "      <th>17</th>\n",
       "      <td>Administração</td>\n",
       "      <td>Masculino</td>\n",
       "    </tr>\n",
       "    <tr>\n",
       "      <th>18</th>\n",
       "      <td>Serviço Social</td>\n",
       "      <td>Masculino</td>\n",
       "    </tr>\n",
       "    <tr>\n",
       "      <th>19</th>\n",
       "      <td>Serviço Social</td>\n",
       "      <td>Feminino</td>\n",
       "    </tr>\n",
       "    <tr>\n",
       "      <th>20</th>\n",
       "      <td>Serviço Social</td>\n",
       "      <td>Feminino</td>\n",
       "    </tr>\n",
       "    <tr>\n",
       "      <th>21</th>\n",
       "      <td>Serviço Social</td>\n",
       "      <td>Feminino</td>\n",
       "    </tr>\n",
       "    <tr>\n",
       "      <th>22</th>\n",
       "      <td>Serviço Social</td>\n",
       "      <td>Feminino</td>\n",
       "    </tr>\n",
       "    <tr>\n",
       "      <th>23</th>\n",
       "      <td>Análise E Desenvolvimento De Sistemas</td>\n",
       "      <td>Masculino</td>\n",
       "    </tr>\n",
       "    <tr>\n",
       "      <th>24</th>\n",
       "      <td>Direito</td>\n",
       "      <td>Masculino</td>\n",
       "    </tr>\n",
       "    <tr>\n",
       "      <th>25</th>\n",
       "      <td>Direito</td>\n",
       "      <td>Masculino</td>\n",
       "    </tr>\n",
       "    <tr>\n",
       "      <th>26</th>\n",
       "      <td>Direito</td>\n",
       "      <td>Feminino</td>\n",
       "    </tr>\n",
       "    <tr>\n",
       "      <th>27</th>\n",
       "      <td>Direito</td>\n",
       "      <td>Feminino</td>\n",
       "    </tr>\n",
       "    <tr>\n",
       "      <th>28</th>\n",
       "      <td>Educação Física</td>\n",
       "      <td>Masculino</td>\n",
       "    </tr>\n",
       "    <tr>\n",
       "      <th>29</th>\n",
       "      <td>Educação Física</td>\n",
       "      <td>Masculino</td>\n",
       "    </tr>\n",
       "    <tr>\n",
       "      <th>...</th>\n",
       "      <td>...</td>\n",
       "      <td>...</td>\n",
       "    </tr>\n",
       "    <tr>\n",
       "      <th>239232</th>\n",
       "      <td>Engenharia Civil</td>\n",
       "      <td>Feminino</td>\n",
       "    </tr>\n",
       "    <tr>\n",
       "      <th>239233</th>\n",
       "      <td>Ciências Contábeis</td>\n",
       "      <td>Feminino</td>\n",
       "    </tr>\n",
       "    <tr>\n",
       "      <th>239234</th>\n",
       "      <td>Ciências Contábeis</td>\n",
       "      <td>Feminino</td>\n",
       "    </tr>\n",
       "    <tr>\n",
       "      <th>239235</th>\n",
       "      <td>Pedagogia</td>\n",
       "      <td>Feminino</td>\n",
       "    </tr>\n",
       "    <tr>\n",
       "      <th>239236</th>\n",
       "      <td>Pedagogia</td>\n",
       "      <td>Feminino</td>\n",
       "    </tr>\n",
       "    <tr>\n",
       "      <th>239237</th>\n",
       "      <td>Pedagogia</td>\n",
       "      <td>Masculino</td>\n",
       "    </tr>\n",
       "    <tr>\n",
       "      <th>239238</th>\n",
       "      <td>Sistemas De Informação</td>\n",
       "      <td>Masculino</td>\n",
       "    </tr>\n",
       "    <tr>\n",
       "      <th>239239</th>\n",
       "      <td>Sistemas De Informação</td>\n",
       "      <td>Feminino</td>\n",
       "    </tr>\n",
       "    <tr>\n",
       "      <th>239240</th>\n",
       "      <td>Educação Física</td>\n",
       "      <td>Masculino</td>\n",
       "    </tr>\n",
       "    <tr>\n",
       "      <th>239241</th>\n",
       "      <td>Publicidade E Propaganda</td>\n",
       "      <td>Masculino</td>\n",
       "    </tr>\n",
       "    <tr>\n",
       "      <th>239242</th>\n",
       "      <td>Direito</td>\n",
       "      <td>Feminino</td>\n",
       "    </tr>\n",
       "    <tr>\n",
       "      <th>239243</th>\n",
       "      <td>Nutrição</td>\n",
       "      <td>Feminino</td>\n",
       "    </tr>\n",
       "    <tr>\n",
       "      <th>239244</th>\n",
       "      <td>Nutrição</td>\n",
       "      <td>Masculino</td>\n",
       "    </tr>\n",
       "    <tr>\n",
       "      <th>239245</th>\n",
       "      <td>Letras - Língua Portuguesa</td>\n",
       "      <td>Feminino</td>\n",
       "    </tr>\n",
       "    <tr>\n",
       "      <th>239246</th>\n",
       "      <td>Letras - Língua Portuguesa</td>\n",
       "      <td>Feminino</td>\n",
       "    </tr>\n",
       "    <tr>\n",
       "      <th>239247</th>\n",
       "      <td>Psicologia</td>\n",
       "      <td>Feminino</td>\n",
       "    </tr>\n",
       "    <tr>\n",
       "      <th>239248</th>\n",
       "      <td>Gestão Ambiental</td>\n",
       "      <td>Feminino</td>\n",
       "    </tr>\n",
       "    <tr>\n",
       "      <th>239249</th>\n",
       "      <td>Gestão De Recursos Humanos</td>\n",
       "      <td>Feminino</td>\n",
       "    </tr>\n",
       "    <tr>\n",
       "      <th>239250</th>\n",
       "      <td>Logística</td>\n",
       "      <td>Masculino</td>\n",
       "    </tr>\n",
       "    <tr>\n",
       "      <th>239251</th>\n",
       "      <td>Logística</td>\n",
       "      <td>Masculino</td>\n",
       "    </tr>\n",
       "    <tr>\n",
       "      <th>239252</th>\n",
       "      <td>Educação Física</td>\n",
       "      <td>Feminino</td>\n",
       "    </tr>\n",
       "    <tr>\n",
       "      <th>239253</th>\n",
       "      <td>Administração</td>\n",
       "      <td>Masculino</td>\n",
       "    </tr>\n",
       "    <tr>\n",
       "      <th>239254</th>\n",
       "      <td>Pedagogia</td>\n",
       "      <td>Feminino</td>\n",
       "    </tr>\n",
       "    <tr>\n",
       "      <th>239255</th>\n",
       "      <td>Serviço Social</td>\n",
       "      <td>Feminino</td>\n",
       "    </tr>\n",
       "    <tr>\n",
       "      <th>239256</th>\n",
       "      <td>Gestão Comercial</td>\n",
       "      <td>Masculino</td>\n",
       "    </tr>\n",
       "    <tr>\n",
       "      <th>239257</th>\n",
       "      <td>Pedagogia</td>\n",
       "      <td>Feminino</td>\n",
       "    </tr>\n",
       "    <tr>\n",
       "      <th>239258</th>\n",
       "      <td>Processos Gerenciais</td>\n",
       "      <td>Feminino</td>\n",
       "    </tr>\n",
       "    <tr>\n",
       "      <th>239259</th>\n",
       "      <td>Processos Gerenciais</td>\n",
       "      <td>Feminino</td>\n",
       "    </tr>\n",
       "    <tr>\n",
       "      <th>239260</th>\n",
       "      <td>Matemática</td>\n",
       "      <td>Masculino</td>\n",
       "    </tr>\n",
       "    <tr>\n",
       "      <th>239261</th>\n",
       "      <td>Engenharia Civil</td>\n",
       "      <td>Feminino</td>\n",
       "    </tr>\n",
       "  </tbody>\n",
       "</table>\n",
       "<p>239262 rows × 2 columns</p>\n",
       "</div>"
      ],
      "text/plain": [
       "                             NOME_CURSO_BOLSA SEXO_BENEFICIARIO_BOLSA\n",
       "0                               Administração                Feminino\n",
       "1                               Administração                Feminino\n",
       "2                               Administração               Masculino\n",
       "3                               Administração                Feminino\n",
       "4                          Ciências Contábeis               Masculino\n",
       "5                          Ciências Contábeis                Feminino\n",
       "6                          Ciências Contábeis                Feminino\n",
       "7                          Ciências Contábeis               Masculino\n",
       "8                                     Direito                Feminino\n",
       "9                                     Direito                Feminino\n",
       "10                                   Farmácia                Feminino\n",
       "11                                  Agronomia               Masculino\n",
       "12                              Administração                Feminino\n",
       "13                              Artes Visuais                Feminino\n",
       "14                              Artes Visuais                Feminino\n",
       "15                        Ciências Biológicas                Feminino\n",
       "16                              Administração                Feminino\n",
       "17                              Administração               Masculino\n",
       "18                             Serviço Social               Masculino\n",
       "19                             Serviço Social                Feminino\n",
       "20                             Serviço Social                Feminino\n",
       "21                             Serviço Social                Feminino\n",
       "22                             Serviço Social                Feminino\n",
       "23      Análise E Desenvolvimento De Sistemas               Masculino\n",
       "24                                    Direito               Masculino\n",
       "25                                    Direito               Masculino\n",
       "26                                    Direito                Feminino\n",
       "27                                    Direito                Feminino\n",
       "28                            Educação Física               Masculino\n",
       "29                            Educação Física               Masculino\n",
       "...                                       ...                     ...\n",
       "239232                       Engenharia Civil                Feminino\n",
       "239233                     Ciências Contábeis                Feminino\n",
       "239234                     Ciências Contábeis                Feminino\n",
       "239235                              Pedagogia                Feminino\n",
       "239236                              Pedagogia                Feminino\n",
       "239237                              Pedagogia               Masculino\n",
       "239238                 Sistemas De Informação               Masculino\n",
       "239239                 Sistemas De Informação                Feminino\n",
       "239240                        Educação Física               Masculino\n",
       "239241               Publicidade E Propaganda               Masculino\n",
       "239242                                Direito                Feminino\n",
       "239243                               Nutrição                Feminino\n",
       "239244                               Nutrição               Masculino\n",
       "239245             Letras - Língua Portuguesa                Feminino\n",
       "239246             Letras - Língua Portuguesa                Feminino\n",
       "239247                             Psicologia                Feminino\n",
       "239248                       Gestão Ambiental                Feminino\n",
       "239249             Gestão De Recursos Humanos                Feminino\n",
       "239250                              Logística               Masculino\n",
       "239251                              Logística               Masculino\n",
       "239252                        Educação Física                Feminino\n",
       "239253                          Administração               Masculino\n",
       "239254                              Pedagogia                Feminino\n",
       "239255                         Serviço Social                Feminino\n",
       "239256                       Gestão Comercial               Masculino\n",
       "239257                              Pedagogia                Feminino\n",
       "239258                   Processos Gerenciais                Feminino\n",
       "239259                   Processos Gerenciais                Feminino\n",
       "239260                             Matemática               Masculino\n",
       "239261                       Engenharia Civil                Feminino\n",
       "\n",
       "[239262 rows x 2 columns]"
      ]
     },
     "execution_count": 27,
     "metadata": {},
     "output_type": "execute_result"
    }
   ],
   "source": [
    "df_pop"
   ]
  },
  {
   "cell_type": "code",
   "execution_count": null,
   "metadata": {
    "collapsed": true
   },
   "outputs": [],
   "source": []
  },
  {
   "cell_type": "code",
   "execution_count": null,
   "metadata": {
    "collapsed": true
   },
   "outputs": [],
   "source": []
  },
  {
   "cell_type": "code",
   "execution_count": null,
   "metadata": {
    "collapsed": true
   },
   "outputs": [],
   "source": [
    "values=[\"Price\"],aggfunc=np.sum"
   ]
  },
  {
   "cell_type": "code",
   "execution_count": null,
   "metadata": {
    "collapsed": true
   },
   "outputs": [],
   "source": []
  },
  {
   "cell_type": "code",
   "execution_count": null,
   "metadata": {
    "collapsed": true
   },
   "outputs": [],
   "source": [
    "NOME_CURSO_BOLSA\n",
    "SEXO_BENEFICIARIO_BOLSA"
   ]
  },
  {
   "cell_type": "code",
   "execution_count": 56,
   "metadata": {},
   "outputs": [
    {
     "data": {
      "text/html": [
       "<div>\n",
       "<style>\n",
       "    .dataframe thead tr:only-child th {\n",
       "        text-align: right;\n",
       "    }\n",
       "\n",
       "    .dataframe thead th {\n",
       "        text-align: left;\n",
       "    }\n",
       "\n",
       "    .dataframe tbody tr th {\n",
       "        vertical-align: top;\n",
       "    }\n",
       "</style>\n",
       "<table border=\"1\" class=\"dataframe\">\n",
       "  <thead>\n",
       "    <tr>\n",
       "      <th></th>\n",
       "      <th>SEXO_BENEFICIARIO_BOLSA</th>\n",
       "    </tr>\n",
       "    <tr>\n",
       "      <th></th>\n",
       "      <th>len</th>\n",
       "    </tr>\n",
       "    <tr>\n",
       "      <th>NOME_CURSO_BOLSA</th>\n",
       "      <th></th>\n",
       "    </tr>\n",
       "  </thead>\n",
       "  <tbody>\n",
       "    <tr>\n",
       "      <th>Administração</th>\n",
       "      <td>24567</td>\n",
       "    </tr>\n",
       "    <tr>\n",
       "      <th>Administração De Empresas</th>\n",
       "      <td>23</td>\n",
       "    </tr>\n",
       "    <tr>\n",
       "      <th>Administração De Recursos Humanos</th>\n",
       "      <td>27</td>\n",
       "    </tr>\n",
       "    <tr>\n",
       "      <th>Administração Pública</th>\n",
       "      <td>5</td>\n",
       "    </tr>\n",
       "    <tr>\n",
       "      <th>Agronegócio</th>\n",
       "      <td>351</td>\n",
       "    </tr>\n",
       "    <tr>\n",
       "      <th>Agronomia</th>\n",
       "      <td>1062</td>\n",
       "    </tr>\n",
       "    <tr>\n",
       "      <th>Agropecuária</th>\n",
       "      <td>5</td>\n",
       "    </tr>\n",
       "    <tr>\n",
       "      <th>Alimentos</th>\n",
       "      <td>13</td>\n",
       "    </tr>\n",
       "    <tr>\n",
       "      <th>Análise De Sistemas</th>\n",
       "      <td>1</td>\n",
       "    </tr>\n",
       "    <tr>\n",
       "      <th>Análise E Desenvolvimento De Sistemas</th>\n",
       "      <td>2945</td>\n",
       "    </tr>\n",
       "    <tr>\n",
       "      <th>Arqueologia</th>\n",
       "      <td>2</td>\n",
       "    </tr>\n",
       "    <tr>\n",
       "      <th>Arquitetura E Urbanismo</th>\n",
       "      <td>5507</td>\n",
       "    </tr>\n",
       "    <tr>\n",
       "      <th>Arte: História, Crítica E Curadoria</th>\n",
       "      <td>2</td>\n",
       "    </tr>\n",
       "    <tr>\n",
       "      <th>Artes</th>\n",
       "      <td>80</td>\n",
       "    </tr>\n",
       "    <tr>\n",
       "      <th>Artes Cênicas</th>\n",
       "      <td>5</td>\n",
       "    </tr>\n",
       "    <tr>\n",
       "      <th>Artes Visuais</th>\n",
       "      <td>532</td>\n",
       "    </tr>\n",
       "    <tr>\n",
       "      <th>Audiovisual</th>\n",
       "      <td>6</td>\n",
       "    </tr>\n",
       "    <tr>\n",
       "      <th>Automação Industrial</th>\n",
       "      <td>278</td>\n",
       "    </tr>\n",
       "    <tr>\n",
       "      <th>Aviação Civil</th>\n",
       "      <td>52</td>\n",
       "    </tr>\n",
       "    <tr>\n",
       "      <th>Banco De Dados</th>\n",
       "      <td>164</td>\n",
       "    </tr>\n",
       "    <tr>\n",
       "      <th>Beleza, Estética E Imagem Pessoal</th>\n",
       "      <td>15</td>\n",
       "    </tr>\n",
       "    <tr>\n",
       "      <th>Biblioteconomia</th>\n",
       "      <td>44</td>\n",
       "    </tr>\n",
       "    <tr>\n",
       "      <th>Biocombustíveis</th>\n",
       "      <td>2</td>\n",
       "    </tr>\n",
       "    <tr>\n",
       "      <th>Bioenergia</th>\n",
       "      <td>1</td>\n",
       "    </tr>\n",
       "    <tr>\n",
       "      <th>Biologia</th>\n",
       "      <td>39</td>\n",
       "    </tr>\n",
       "    <tr>\n",
       "      <th>Biomedicina</th>\n",
       "      <td>2929</td>\n",
       "    </tr>\n",
       "    <tr>\n",
       "      <th>Biotecnologia</th>\n",
       "      <td>44</td>\n",
       "    </tr>\n",
       "    <tr>\n",
       "      <th>Biotecnologia Industrial</th>\n",
       "      <td>18</td>\n",
       "    </tr>\n",
       "    <tr>\n",
       "      <th>Cafeicultura</th>\n",
       "      <td>2</td>\n",
       "    </tr>\n",
       "    <tr>\n",
       "      <th>Cinema</th>\n",
       "      <td>4</td>\n",
       "    </tr>\n",
       "    <tr>\n",
       "      <th>...</th>\n",
       "      <td>...</td>\n",
       "    </tr>\n",
       "    <tr>\n",
       "      <th>Secretariado Executivo</th>\n",
       "      <td>142</td>\n",
       "    </tr>\n",
       "    <tr>\n",
       "      <th>Secretariado Executivo Bilíngue</th>\n",
       "      <td>22</td>\n",
       "    </tr>\n",
       "    <tr>\n",
       "      <th>Secretariado Executivo Trilíngue</th>\n",
       "      <td>60</td>\n",
       "    </tr>\n",
       "    <tr>\n",
       "      <th>Segurança Da Informação</th>\n",
       "      <td>159</td>\n",
       "    </tr>\n",
       "    <tr>\n",
       "      <th>Segurança No Trabalho</th>\n",
       "      <td>602</td>\n",
       "    </tr>\n",
       "    <tr>\n",
       "      <th>Segurança No Trânsito</th>\n",
       "      <td>18</td>\n",
       "    </tr>\n",
       "    <tr>\n",
       "      <th>Segurança Privada</th>\n",
       "      <td>13</td>\n",
       "    </tr>\n",
       "    <tr>\n",
       "      <th>Segurança Pública</th>\n",
       "      <td>180</td>\n",
       "    </tr>\n",
       "    <tr>\n",
       "      <th>Serviço Social</th>\n",
       "      <td>4664</td>\n",
       "    </tr>\n",
       "    <tr>\n",
       "      <th>Serviços Jurídicos</th>\n",
       "      <td>9</td>\n",
       "    </tr>\n",
       "    <tr>\n",
       "      <th>Serviços Penais</th>\n",
       "      <td>15</td>\n",
       "    </tr>\n",
       "    <tr>\n",
       "      <th>Sistema De Informação</th>\n",
       "      <td>653</td>\n",
       "    </tr>\n",
       "    <tr>\n",
       "      <th>Sistemas Automotivos</th>\n",
       "      <td>7</td>\n",
       "    </tr>\n",
       "    <tr>\n",
       "      <th>Sistemas Biomédicos</th>\n",
       "      <td>4</td>\n",
       "    </tr>\n",
       "    <tr>\n",
       "      <th>Sistemas De Informação</th>\n",
       "      <td>2481</td>\n",
       "    </tr>\n",
       "    <tr>\n",
       "      <th>Sistemas De Telecomunicações</th>\n",
       "      <td>8</td>\n",
       "    </tr>\n",
       "    <tr>\n",
       "      <th>Sistemas Elétricos</th>\n",
       "      <td>28</td>\n",
       "    </tr>\n",
       "    <tr>\n",
       "      <th>Sistemas Para Internet</th>\n",
       "      <td>728</td>\n",
       "    </tr>\n",
       "    <tr>\n",
       "      <th>Sociologia</th>\n",
       "      <td>84</td>\n",
       "    </tr>\n",
       "    <tr>\n",
       "      <th>Teatro</th>\n",
       "      <td>41</td>\n",
       "    </tr>\n",
       "    <tr>\n",
       "      <th>Tecnologias Digitais</th>\n",
       "      <td>2</td>\n",
       "    </tr>\n",
       "    <tr>\n",
       "      <th>Teologia</th>\n",
       "      <td>699</td>\n",
       "    </tr>\n",
       "    <tr>\n",
       "      <th>Terapia Ocupacional</th>\n",
       "      <td>91</td>\n",
       "    </tr>\n",
       "    <tr>\n",
       "      <th>Tradutor E Intérprete</th>\n",
       "      <td>49</td>\n",
       "    </tr>\n",
       "    <tr>\n",
       "      <th>Tradução E Interpretação</th>\n",
       "      <td>6</td>\n",
       "    </tr>\n",
       "    <tr>\n",
       "      <th>Transporte Terrestre</th>\n",
       "      <td>2</td>\n",
       "    </tr>\n",
       "    <tr>\n",
       "      <th>Turismo</th>\n",
       "      <td>466</td>\n",
       "    </tr>\n",
       "    <tr>\n",
       "      <th>Turismo E Hotelaria</th>\n",
       "      <td>13</td>\n",
       "    </tr>\n",
       "    <tr>\n",
       "      <th>Zootecnia</th>\n",
       "      <td>221</td>\n",
       "    </tr>\n",
       "    <tr>\n",
       "      <th>Óptica E Optometria</th>\n",
       "      <td>10</td>\n",
       "    </tr>\n",
       "  </tbody>\n",
       "</table>\n",
       "<p>298 rows × 1 columns</p>\n",
       "</div>"
      ],
      "text/plain": [
       "                                      SEXO_BENEFICIARIO_BOLSA\n",
       "                                                          len\n",
       "NOME_CURSO_BOLSA                                             \n",
       "Administração                                           24567\n",
       "Administração De Empresas                                  23\n",
       "Administração De Recursos Humanos                          27\n",
       "Administração Pública                                       5\n",
       "Agronegócio                                               351\n",
       "Agronomia                                                1062\n",
       "Agropecuária                                                5\n",
       "Alimentos                                                  13\n",
       "Análise De Sistemas                                         1\n",
       "Análise E Desenvolvimento De Sistemas                    2945\n",
       "Arqueologia                                                 2\n",
       "Arquitetura E Urbanismo                                  5507\n",
       "Arte: História, Crítica E Curadoria                         2\n",
       "Artes                                                      80\n",
       "Artes Cênicas                                               5\n",
       "Artes Visuais                                             532\n",
       "Audiovisual                                                 6\n",
       "Automação Industrial                                      278\n",
       "Aviação Civil                                              52\n",
       "Banco De Dados                                            164\n",
       "Beleza, Estética E Imagem Pessoal                          15\n",
       "Biblioteconomia                                            44\n",
       "Biocombustíveis                                             2\n",
       "Bioenergia                                                  1\n",
       "Biologia                                                   39\n",
       "Biomedicina                                              2929\n",
       "Biotecnologia                                              44\n",
       "Biotecnologia Industrial                                   18\n",
       "Cafeicultura                                                2\n",
       "Cinema                                                      4\n",
       "...                                                       ...\n",
       "Secretariado Executivo                                    142\n",
       "Secretariado Executivo Bilíngue                            22\n",
       "Secretariado Executivo Trilíngue                           60\n",
       "Segurança Da Informação                                   159\n",
       "Segurança No Trabalho                                     602\n",
       "Segurança No Trânsito                                      18\n",
       "Segurança Privada                                          13\n",
       "Segurança Pública                                         180\n",
       "Serviço Social                                           4664\n",
       "Serviços Jurídicos                                          9\n",
       "Serviços Penais                                            15\n",
       "Sistema De Informação                                     653\n",
       "Sistemas Automotivos                                        7\n",
       "Sistemas Biomédicos                                         4\n",
       "Sistemas De Informação                                   2481\n",
       "Sistemas De Telecomunicações                                8\n",
       "Sistemas Elétricos                                         28\n",
       "Sistemas Para Internet                                    728\n",
       "Sociologia                                                 84\n",
       "Teatro                                                     41\n",
       "Tecnologias Digitais                                        2\n",
       "Teologia                                                  699\n",
       "Terapia Ocupacional                                        91\n",
       "Tradutor E Intérprete                                      49\n",
       "Tradução E Interpretação                                    6\n",
       "Transporte Terrestre                                        2\n",
       "Turismo                                                   466\n",
       "Turismo E Hotelaria                                        13\n",
       "Zootecnia                                                 221\n",
       "Óptica E Optometria                                        10\n",
       "\n",
       "[298 rows x 1 columns]"
      ]
     },
     "execution_count": 56,
     "metadata": {},
     "output_type": "execute_result"
    }
   ],
   "source": [
    "pd.pivot_table(df_pop,index=[\"NOME_CURSO_BOLSA\"],values=[\"SEXO_BENEFICIARIO_BOLSA\"],\n",
    "               aggfunc={len})"
   ]
  },
  {
   "cell_type": "code",
   "execution_count": null,
   "metadata": {
    "collapsed": true
   },
   "outputs": [],
   "source": []
  },
  {
   "cell_type": "code",
   "execution_count": null,
   "metadata": {
    "collapsed": true
   },
   "outputs": [],
   "source": []
  },
  {
   "cell_type": "code",
   "execution_count": null,
   "metadata": {
    "collapsed": true
   },
   "outputs": [],
   "source": []
  },
  {
   "cell_type": "code",
   "execution_count": null,
   "metadata": {
    "collapsed": true
   },
   "outputs": [],
   "source": []
  },
  {
   "cell_type": "code",
   "execution_count": null,
   "metadata": {
    "collapsed": true
   },
   "outputs": [],
   "source": []
  },
  {
   "cell_type": "code",
   "execution_count": null,
   "metadata": {
    "collapsed": true
   },
   "outputs": [],
   "source": []
  },
  {
   "cell_type": "code",
   "execution_count": null,
   "metadata": {
    "collapsed": true
   },
   "outputs": [],
   "source": []
  },
  {
   "cell_type": "code",
   "execution_count": null,
   "metadata": {
    "collapsed": true
   },
   "outputs": [],
   "source": []
  },
  {
   "cell_type": "code",
   "execution_count": null,
   "metadata": {
    "collapsed": true
   },
   "outputs": [],
   "source": []
  },
  {
   "cell_type": "code",
   "execution_count": null,
   "metadata": {
    "collapsed": true
   },
   "outputs": [],
   "source": []
  },
  {
   "cell_type": "code",
   "execution_count": null,
   "metadata": {
    "collapsed": true
   },
   "outputs": [],
   "source": []
  },
  {
   "cell_type": "code",
   "execution_count": null,
   "metadata": {
    "collapsed": true
   },
   "outputs": [],
   "source": []
  },
  {
   "cell_type": "code",
   "execution_count": null,
   "metadata": {
    "collapsed": true
   },
   "outputs": [],
   "source": []
  },
  {
   "cell_type": "code",
   "execution_count": null,
   "metadata": {
    "collapsed": true
   },
   "outputs": [],
   "source": []
  },
  {
   "cell_type": "code",
   "execution_count": null,
   "metadata": {
    "collapsed": true
   },
   "outputs": [],
   "source": []
  },
  {
   "cell_type": "code",
   "execution_count": null,
   "metadata": {
    "collapsed": true
   },
   "outputs": [],
   "source": []
  },
  {
   "cell_type": "code",
   "execution_count": null,
   "metadata": {
    "collapsed": true
   },
   "outputs": [],
   "source": []
  },
  {
   "cell_type": "code",
   "execution_count": null,
   "metadata": {
    "collapsed": true
   },
   "outputs": [],
   "source": []
  },
  {
   "cell_type": "code",
   "execution_count": null,
   "metadata": {
    "collapsed": true
   },
   "outputs": [],
   "source": []
  },
  {
   "cell_type": "code",
   "execution_count": null,
   "metadata": {
    "collapsed": true
   },
   "outputs": [],
   "source": []
  },
  {
   "cell_type": "code",
   "execution_count": null,
   "metadata": {
    "collapsed": true
   },
   "outputs": [],
   "source": []
  },
  {
   "cell_type": "code",
   "execution_count": 32,
   "metadata": {},
   "outputs": [
    {
     "ename": "ValueError",
     "evalue": "Index contains duplicate entries, cannot reshape",
     "output_type": "error",
     "traceback": [
      "\u001b[1;31m---------------------------------------------------------------------------\u001b[0m",
      "\u001b[1;31mValueError\u001b[0m                                Traceback (most recent call last)",
      "\u001b[1;32m<ipython-input-32-08205368f442>\u001b[0m in \u001b[0;36m<module>\u001b[1;34m()\u001b[0m\n\u001b[1;32m----> 1\u001b[1;33m \u001b[0mdf_pop\u001b[0m\u001b[1;33m.\u001b[0m\u001b[0mpivot\u001b[0m\u001b[1;33m(\u001b[0m\u001b[0mindex\u001b[0m\u001b[1;33m=\u001b[0m\u001b[1;34m'NOME_CURSO_BOLSA'\u001b[0m\u001b[1;33m,\u001b[0m\u001b[0mcolumns\u001b[0m\u001b[1;33m=\u001b[0m\u001b[1;34m'SEXO_BENEFICIARIO_BOLSA'\u001b[0m\u001b[1;33m)\u001b[0m\u001b[1;33m\u001b[0m\u001b[0m\n\u001b[0m",
      "\u001b[1;32m~\\Anaconda3\\lib\\site-packages\\pandas\\core\\frame.py\u001b[0m in \u001b[0;36mpivot\u001b[1;34m(self, index, columns, values)\u001b[0m\n\u001b[0;32m   3851\u001b[0m         \"\"\"\n\u001b[0;32m   3852\u001b[0m         \u001b[1;32mfrom\u001b[0m \u001b[0mpandas\u001b[0m\u001b[1;33m.\u001b[0m\u001b[0mcore\u001b[0m\u001b[1;33m.\u001b[0m\u001b[0mreshape\u001b[0m\u001b[1;33m.\u001b[0m\u001b[0mreshape\u001b[0m \u001b[1;32mimport\u001b[0m \u001b[0mpivot\u001b[0m\u001b[1;33m\u001b[0m\u001b[0m\n\u001b[1;32m-> 3853\u001b[1;33m         \u001b[1;32mreturn\u001b[0m \u001b[0mpivot\u001b[0m\u001b[1;33m(\u001b[0m\u001b[0mself\u001b[0m\u001b[1;33m,\u001b[0m \u001b[0mindex\u001b[0m\u001b[1;33m=\u001b[0m\u001b[0mindex\u001b[0m\u001b[1;33m,\u001b[0m \u001b[0mcolumns\u001b[0m\u001b[1;33m=\u001b[0m\u001b[0mcolumns\u001b[0m\u001b[1;33m,\u001b[0m \u001b[0mvalues\u001b[0m\u001b[1;33m=\u001b[0m\u001b[0mvalues\u001b[0m\u001b[1;33m)\u001b[0m\u001b[1;33m\u001b[0m\u001b[0m\n\u001b[0m\u001b[0;32m   3854\u001b[0m \u001b[1;33m\u001b[0m\u001b[0m\n\u001b[0;32m   3855\u001b[0m     \u001b[1;32mdef\u001b[0m \u001b[0mstack\u001b[0m\u001b[1;33m(\u001b[0m\u001b[0mself\u001b[0m\u001b[1;33m,\u001b[0m \u001b[0mlevel\u001b[0m\u001b[1;33m=\u001b[0m\u001b[1;33m-\u001b[0m\u001b[1;36m1\u001b[0m\u001b[1;33m,\u001b[0m \u001b[0mdropna\u001b[0m\u001b[1;33m=\u001b[0m\u001b[1;32mTrue\u001b[0m\u001b[1;33m)\u001b[0m\u001b[1;33m:\u001b[0m\u001b[1;33m\u001b[0m\u001b[0m\n",
      "\u001b[1;32m~\\Anaconda3\\lib\\site-packages\\pandas\\core\\reshape\\reshape.py\u001b[0m in \u001b[0;36mpivot\u001b[1;34m(self, index, columns, values)\u001b[0m\n\u001b[0;32m    368\u001b[0m         \u001b[0mappend\u001b[0m \u001b[1;33m=\u001b[0m \u001b[0mindex\u001b[0m \u001b[1;32mis\u001b[0m \u001b[1;32mNone\u001b[0m\u001b[1;33m\u001b[0m\u001b[0m\n\u001b[0;32m    369\u001b[0m         \u001b[0mindexed\u001b[0m \u001b[1;33m=\u001b[0m \u001b[0mself\u001b[0m\u001b[1;33m.\u001b[0m\u001b[0mset_index\u001b[0m\u001b[1;33m(\u001b[0m\u001b[0mcols\u001b[0m\u001b[1;33m,\u001b[0m \u001b[0mappend\u001b[0m\u001b[1;33m=\u001b[0m\u001b[0mappend\u001b[0m\u001b[1;33m)\u001b[0m\u001b[1;33m\u001b[0m\u001b[0m\n\u001b[1;32m--> 370\u001b[1;33m         \u001b[1;32mreturn\u001b[0m \u001b[0mindexed\u001b[0m\u001b[1;33m.\u001b[0m\u001b[0munstack\u001b[0m\u001b[1;33m(\u001b[0m\u001b[0mcolumns\u001b[0m\u001b[1;33m)\u001b[0m\u001b[1;33m\u001b[0m\u001b[0m\n\u001b[0m\u001b[0;32m    371\u001b[0m     \u001b[1;32melse\u001b[0m\u001b[1;33m:\u001b[0m\u001b[1;33m\u001b[0m\u001b[0m\n\u001b[0;32m    372\u001b[0m         \u001b[1;32mif\u001b[0m \u001b[0mindex\u001b[0m \u001b[1;32mis\u001b[0m \u001b[1;32mNone\u001b[0m\u001b[1;33m:\u001b[0m\u001b[1;33m\u001b[0m\u001b[0m\n",
      "\u001b[1;32m~\\Anaconda3\\lib\\site-packages\\pandas\\core\\frame.py\u001b[0m in \u001b[0;36munstack\u001b[1;34m(self, level, fill_value)\u001b[0m\n\u001b[0;32m   3952\u001b[0m         \"\"\"\n\u001b[0;32m   3953\u001b[0m         \u001b[1;32mfrom\u001b[0m \u001b[0mpandas\u001b[0m\u001b[1;33m.\u001b[0m\u001b[0mcore\u001b[0m\u001b[1;33m.\u001b[0m\u001b[0mreshape\u001b[0m\u001b[1;33m.\u001b[0m\u001b[0mreshape\u001b[0m \u001b[1;32mimport\u001b[0m \u001b[0munstack\u001b[0m\u001b[1;33m\u001b[0m\u001b[0m\n\u001b[1;32m-> 3954\u001b[1;33m         \u001b[1;32mreturn\u001b[0m \u001b[0munstack\u001b[0m\u001b[1;33m(\u001b[0m\u001b[0mself\u001b[0m\u001b[1;33m,\u001b[0m \u001b[0mlevel\u001b[0m\u001b[1;33m,\u001b[0m \u001b[0mfill_value\u001b[0m\u001b[1;33m)\u001b[0m\u001b[1;33m\u001b[0m\u001b[0m\n\u001b[0m\u001b[0;32m   3955\u001b[0m \u001b[1;33m\u001b[0m\u001b[0m\n\u001b[0;32m   3956\u001b[0m     _shared_docs['melt'] = (\"\"\"\n",
      "\u001b[1;32m~\\Anaconda3\\lib\\site-packages\\pandas\\core\\reshape\\reshape.py\u001b[0m in \u001b[0;36munstack\u001b[1;34m(obj, level, fill_value)\u001b[0m\n\u001b[0;32m    451\u001b[0m     \u001b[1;32mif\u001b[0m \u001b[0misinstance\u001b[0m\u001b[1;33m(\u001b[0m\u001b[0mobj\u001b[0m\u001b[1;33m,\u001b[0m \u001b[0mDataFrame\u001b[0m\u001b[1;33m)\u001b[0m\u001b[1;33m:\u001b[0m\u001b[1;33m\u001b[0m\u001b[0m\n\u001b[0;32m    452\u001b[0m         \u001b[1;32mif\u001b[0m \u001b[0misinstance\u001b[0m\u001b[1;33m(\u001b[0m\u001b[0mobj\u001b[0m\u001b[1;33m.\u001b[0m\u001b[0mindex\u001b[0m\u001b[1;33m,\u001b[0m \u001b[0mMultiIndex\u001b[0m\u001b[1;33m)\u001b[0m\u001b[1;33m:\u001b[0m\u001b[1;33m\u001b[0m\u001b[0m\n\u001b[1;32m--> 453\u001b[1;33m             \u001b[1;32mreturn\u001b[0m \u001b[0m_unstack_frame\u001b[0m\u001b[1;33m(\u001b[0m\u001b[0mobj\u001b[0m\u001b[1;33m,\u001b[0m \u001b[0mlevel\u001b[0m\u001b[1;33m,\u001b[0m \u001b[0mfill_value\u001b[0m\u001b[1;33m=\u001b[0m\u001b[0mfill_value\u001b[0m\u001b[1;33m)\u001b[0m\u001b[1;33m\u001b[0m\u001b[0m\n\u001b[0m\u001b[0;32m    454\u001b[0m         \u001b[1;32melse\u001b[0m\u001b[1;33m:\u001b[0m\u001b[1;33m\u001b[0m\u001b[0m\n\u001b[0;32m    455\u001b[0m             \u001b[1;32mreturn\u001b[0m \u001b[0mobj\u001b[0m\u001b[1;33m.\u001b[0m\u001b[0mT\u001b[0m\u001b[1;33m.\u001b[0m\u001b[0mstack\u001b[0m\u001b[1;33m(\u001b[0m\u001b[0mdropna\u001b[0m\u001b[1;33m=\u001b[0m\u001b[1;32mFalse\u001b[0m\u001b[1;33m)\u001b[0m\u001b[1;33m\u001b[0m\u001b[0m\n",
      "\u001b[1;32m~\\Anaconda3\\lib\\site-packages\\pandas\\core\\reshape\\reshape.py\u001b[0m in \u001b[0;36m_unstack_frame\u001b[1;34m(obj, level, fill_value)\u001b[0m\n\u001b[0;32m    494\u001b[0m         unstacker = _Unstacker(obj.values, obj.index, level=level,\n\u001b[0;32m    495\u001b[0m                                \u001b[0mvalue_columns\u001b[0m\u001b[1;33m=\u001b[0m\u001b[0mobj\u001b[0m\u001b[1;33m.\u001b[0m\u001b[0mcolumns\u001b[0m\u001b[1;33m,\u001b[0m\u001b[1;33m\u001b[0m\u001b[0m\n\u001b[1;32m--> 496\u001b[1;33m                                fill_value=fill_value)\n\u001b[0m\u001b[0;32m    497\u001b[0m         \u001b[1;32mreturn\u001b[0m \u001b[0munstacker\u001b[0m\u001b[1;33m.\u001b[0m\u001b[0mget_result\u001b[0m\u001b[1;33m(\u001b[0m\u001b[1;33m)\u001b[0m\u001b[1;33m\u001b[0m\u001b[0m\n\u001b[0;32m    498\u001b[0m \u001b[1;33m\u001b[0m\u001b[0m\n",
      "\u001b[1;32m~\\Anaconda3\\lib\\site-packages\\pandas\\core\\reshape\\reshape.py\u001b[0m in \u001b[0;36m__init__\u001b[1;34m(self, values, index, level, value_columns, fill_value)\u001b[0m\n\u001b[0;32m    108\u001b[0m \u001b[1;33m\u001b[0m\u001b[0m\n\u001b[0;32m    109\u001b[0m         \u001b[0mself\u001b[0m\u001b[1;33m.\u001b[0m\u001b[0m_make_sorted_values_labels\u001b[0m\u001b[1;33m(\u001b[0m\u001b[1;33m)\u001b[0m\u001b[1;33m\u001b[0m\u001b[0m\n\u001b[1;32m--> 110\u001b[1;33m         \u001b[0mself\u001b[0m\u001b[1;33m.\u001b[0m\u001b[0m_make_selectors\u001b[0m\u001b[1;33m(\u001b[0m\u001b[1;33m)\u001b[0m\u001b[1;33m\u001b[0m\u001b[0m\n\u001b[0m\u001b[0;32m    111\u001b[0m \u001b[1;33m\u001b[0m\u001b[0m\n\u001b[0;32m    112\u001b[0m     \u001b[1;32mdef\u001b[0m \u001b[0m_make_sorted_values_labels\u001b[0m\u001b[1;33m(\u001b[0m\u001b[0mself\u001b[0m\u001b[1;33m)\u001b[0m\u001b[1;33m:\u001b[0m\u001b[1;33m\u001b[0m\u001b[0m\n",
      "\u001b[1;32m~\\Anaconda3\\lib\\site-packages\\pandas\\core\\reshape\\reshape.py\u001b[0m in \u001b[0;36m_make_selectors\u001b[1;34m(self)\u001b[0m\n\u001b[0;32m    146\u001b[0m \u001b[1;33m\u001b[0m\u001b[0m\n\u001b[0;32m    147\u001b[0m         \u001b[1;32mif\u001b[0m \u001b[0mmask\u001b[0m\u001b[1;33m.\u001b[0m\u001b[0msum\u001b[0m\u001b[1;33m(\u001b[0m\u001b[1;33m)\u001b[0m \u001b[1;33m<\u001b[0m \u001b[0mlen\u001b[0m\u001b[1;33m(\u001b[0m\u001b[0mself\u001b[0m\u001b[1;33m.\u001b[0m\u001b[0mindex\u001b[0m\u001b[1;33m)\u001b[0m\u001b[1;33m:\u001b[0m\u001b[1;33m\u001b[0m\u001b[0m\n\u001b[1;32m--> 148\u001b[1;33m             raise ValueError('Index contains duplicate entries, '\n\u001b[0m\u001b[0;32m    149\u001b[0m                              'cannot reshape')\n\u001b[0;32m    150\u001b[0m \u001b[1;33m\u001b[0m\u001b[0m\n",
      "\u001b[1;31mValueError\u001b[0m: Index contains duplicate entries, cannot reshape"
     ]
    }
   ],
   "source": [
    "df_pop.pivot(index='NOME_CURSO_BOLSA',columns='SEXO_BENEFICIARIO_BOLSA')"
   ]
  },
  {
   "cell_type": "code",
   "execution_count": null,
   "metadata": {
    "collapsed": true
   },
   "outputs": [],
   "source": []
  },
  {
   "cell_type": "code",
   "execution_count": null,
   "metadata": {
    "collapsed": true
   },
   "outputs": [],
   "source": []
  },
  {
   "cell_type": "code",
   "execution_count": null,
   "metadata": {
    "collapsed": true
   },
   "outputs": [],
   "source": []
  },
  {
   "cell_type": "code",
   "execution_count": null,
   "metadata": {
    "collapsed": true
   },
   "outputs": [],
   "source": []
  },
  {
   "cell_type": "code",
   "execution_count": null,
   "metadata": {
    "collapsed": true
   },
   "outputs": [],
   "source": []
  },
  {
   "cell_type": "code",
   "execution_count": null,
   "metadata": {
    "collapsed": true
   },
   "outputs": [],
   "source": []
  },
  {
   "cell_type": "code",
   "execution_count": null,
   "metadata": {
    "collapsed": true
   },
   "outputs": [],
   "source": []
  },
  {
   "cell_type": "code",
   "execution_count": null,
   "metadata": {
    "collapsed": true
   },
   "outputs": [],
   "source": []
  },
  {
   "cell_type": "code",
   "execution_count": null,
   "metadata": {
    "collapsed": true
   },
   "outputs": [],
   "source": []
  },
  {
   "cell_type": "code",
   "execution_count": null,
   "metadata": {
    "collapsed": true
   },
   "outputs": [],
   "source": []
  },
  {
   "cell_type": "code",
   "execution_count": null,
   "metadata": {
    "collapsed": true
   },
   "outputs": [],
   "source": []
  },
  {
   "cell_type": "code",
   "execution_count": null,
   "metadata": {
    "collapsed": true
   },
   "outputs": [],
   "source": []
  },
  {
   "cell_type": "code",
   "execution_count": null,
   "metadata": {
    "collapsed": true
   },
   "outputs": [],
   "source": []
  },
  {
   "cell_type": "code",
   "execution_count": null,
   "metadata": {
    "collapsed": true
   },
   "outputs": [],
   "source": []
  },
  {
   "cell_type": "code",
   "execution_count": null,
   "metadata": {
    "collapsed": true
   },
   "outputs": [],
   "source": []
  },
  {
   "cell_type": "code",
   "execution_count": null,
   "metadata": {
    "collapsed": true
   },
   "outputs": [],
   "source": []
  },
  {
   "cell_type": "code",
   "execution_count": null,
   "metadata": {
    "collapsed": true
   },
   "outputs": [],
   "source": []
  },
  {
   "cell_type": "code",
   "execution_count": null,
   "metadata": {
    "collapsed": true
   },
   "outputs": [],
   "source": []
  },
  {
   "cell_type": "code",
   "execution_count": null,
   "metadata": {
    "collapsed": true
   },
   "outputs": [],
   "source": []
  },
  {
   "cell_type": "code",
   "execution_count": null,
   "metadata": {
    "collapsed": true
   },
   "outputs": [],
   "source": []
  },
  {
   "cell_type": "code",
   "execution_count": null,
   "metadata": {
    "collapsed": true
   },
   "outputs": [],
   "source": []
  },
  {
   "cell_type": "code",
   "execution_count": null,
   "metadata": {
    "collapsed": true
   },
   "outputs": [],
   "source": []
  },
  {
   "cell_type": "code",
   "execution_count": null,
   "metadata": {
    "collapsed": true
   },
   "outputs": [],
   "source": []
  },
  {
   "cell_type": "code",
   "execution_count": null,
   "metadata": {
    "collapsed": true
   },
   "outputs": [],
   "source": []
  },
  {
   "cell_type": "code",
   "execution_count": null,
   "metadata": {
    "collapsed": true
   },
   "outputs": [],
   "source": []
  },
  {
   "cell_type": "code",
   "execution_count": null,
   "metadata": {
    "collapsed": true
   },
   "outputs": [],
   "source": []
  },
  {
   "cell_type": "code",
   "execution_count": null,
   "metadata": {
    "collapsed": true
   },
   "outputs": [],
   "source": []
  },
  {
   "cell_type": "code",
   "execution_count": null,
   "metadata": {
    "collapsed": true
   },
   "outputs": [],
   "source": []
  },
  {
   "cell_type": "code",
   "execution_count": null,
   "metadata": {
    "collapsed": true
   },
   "outputs": [],
   "source": []
  },
  {
   "cell_type": "code",
   "execution_count": null,
   "metadata": {
    "collapsed": true
   },
   "outputs": [],
   "source": []
  },
  {
   "cell_type": "code",
   "execution_count": null,
   "metadata": {
    "collapsed": true
   },
   "outputs": [],
   "source": []
  },
  {
   "cell_type": "code",
   "execution_count": null,
   "metadata": {
    "collapsed": true
   },
   "outputs": [],
   "source": []
  },
  {
   "cell_type": "code",
   "execution_count": null,
   "metadata": {
    "collapsed": true
   },
   "outputs": [],
   "source": [
    "\n",
    "df.groupby('county').aggregate({'votes': [min,np.mean,max]})"
   ]
  },
  {
   "cell_type": "code",
   "execution_count": null,
   "metadata": {
    "collapsed": true
   },
   "outputs": [],
   "source": []
  },
  {
   "cell_type": "code",
   "execution_count": null,
   "metadata": {
    "collapsed": true
   },
   "outputs": [],
   "source": [
    "levantamento2016.groupby('NOME_CURSO_BOLSA')"
   ]
  },
  {
   "cell_type": "code",
   "execution_count": null,
   "metadata": {
    "collapsed": true
   },
   "outputs": [],
   "source": []
  },
  {
   "cell_type": "code",
   "execution_count": null,
   "metadata": {
    "collapsed": true
   },
   "outputs": [],
   "source": []
  },
  {
   "cell_type": "code",
   "execution_count": null,
   "metadata": {
    "collapsed": true
   },
   "outputs": [],
   "source": []
  },
  {
   "cell_type": "code",
   "execution_count": null,
   "metadata": {
    "collapsed": true
   },
   "outputs": [],
   "source": []
  },
  {
   "cell_type": "code",
   "execution_count": null,
   "metadata": {
    "collapsed": true
   },
   "outputs": [],
   "source": []
  },
  {
   "cell_type": "code",
   "execution_count": null,
   "metadata": {
    "collapsed": true
   },
   "outputs": [],
   "source": []
  },
  {
   "cell_type": "code",
   "execution_count": null,
   "metadata": {
    "collapsed": true
   },
   "outputs": [],
   "source": []
  },
  {
   "cell_type": "code",
   "execution_count": null,
   "metadata": {
    "collapsed": true
   },
   "outputs": [],
   "source": []
  },
  {
   "cell_type": "code",
   "execution_count": null,
   "metadata": {
    "collapsed": true
   },
   "outputs": [],
   "source": []
  },
  {
   "cell_type": "code",
   "execution_count": null,
   "metadata": {
    "collapsed": true
   },
   "outputs": [],
   "source": []
  },
  {
   "cell_type": "code",
   "execution_count": null,
   "metadata": {
    "collapsed": true
   },
   "outputs": [],
   "source": []
  },
  {
   "cell_type": "code",
   "execution_count": null,
   "metadata": {
    "collapsed": true
   },
   "outputs": [],
   "source": []
  },
  {
   "cell_type": "code",
   "execution_count": null,
   "metadata": {
    "collapsed": true
   },
   "outputs": [],
   "source": []
  },
  {
   "cell_type": "code",
   "execution_count": null,
   "metadata": {
    "collapsed": true
   },
   "outputs": [],
   "source": []
  },
  {
   "cell_type": "code",
   "execution_count": null,
   "metadata": {
    "collapsed": true
   },
   "outputs": [],
   "source": []
  },
  {
   "cell_type": "code",
   "execution_count": null,
   "metadata": {
    "collapsed": true
   },
   "outputs": [],
   "source": []
  },
  {
   "cell_type": "code",
   "execution_count": null,
   "metadata": {
    "collapsed": true
   },
   "outputs": [],
   "source": []
  },
  {
   "cell_type": "code",
   "execution_count": null,
   "metadata": {
    "collapsed": true
   },
   "outputs": [],
   "source": []
  },
  {
   "cell_type": "code",
   "execution_count": null,
   "metadata": {
    "collapsed": true
   },
   "outputs": [],
   "source": []
  },
  {
   "cell_type": "code",
   "execution_count": null,
   "metadata": {
    "collapsed": true
   },
   "outputs": [],
   "source": []
  },
  {
   "cell_type": "code",
   "execution_count": null,
   "metadata": {
    "collapsed": true
   },
   "outputs": [],
   "source": []
  },
  {
   "cell_type": "code",
   "execution_count": null,
   "metadata": {
    "collapsed": true
   },
   "outputs": [],
   "source": []
  },
  {
   "cell_type": "code",
   "execution_count": null,
   "metadata": {
    "collapsed": true
   },
   "outputs": [],
   "source": []
  },
  {
   "cell_type": "code",
   "execution_count": null,
   "metadata": {
    "collapsed": true
   },
   "outputs": [],
   "source": []
  },
  {
   "cell_type": "code",
   "execution_count": null,
   "metadata": {
    "collapsed": true
   },
   "outputs": [],
   "source": []
  },
  {
   "cell_type": "code",
   "execution_count": null,
   "metadata": {
    "collapsed": true
   },
   "outputs": [],
   "source": []
  },
  {
   "cell_type": "code",
   "execution_count": null,
   "metadata": {
    "collapsed": true
   },
   "outputs": [],
   "source": []
  },
  {
   "cell_type": "code",
   "execution_count": null,
   "metadata": {
    "collapsed": true
   },
   "outputs": [],
   "source": []
  },
  {
   "cell_type": "code",
   "execution_count": null,
   "metadata": {
    "collapsed": true
   },
   "outputs": [],
   "source": []
  },
  {
   "cell_type": "code",
   "execution_count": null,
   "metadata": {
    "collapsed": true
   },
   "outputs": [],
   "source": []
  },
  {
   "cell_type": "code",
   "execution_count": null,
   "metadata": {
    "collapsed": true
   },
   "outputs": [],
   "source": []
  },
  {
   "cell_type": "code",
   "execution_count": null,
   "metadata": {
    "collapsed": true
   },
   "outputs": [],
   "source": []
  },
  {
   "cell_type": "code",
   "execution_count": null,
   "metadata": {
    "collapsed": true
   },
   "outputs": [],
   "source": []
  },
  {
   "cell_type": "code",
   "execution_count": null,
   "metadata": {
    "collapsed": true
   },
   "outputs": [],
   "source": []
  },
  {
   "cell_type": "code",
   "execution_count": null,
   "metadata": {
    "collapsed": true
   },
   "outputs": [],
   "source": []
  },
  {
   "cell_type": "code",
   "execution_count": null,
   "metadata": {
    "collapsed": true
   },
   "outputs": [],
   "source": []
  },
  {
   "cell_type": "code",
   "execution_count": null,
   "metadata": {
    "collapsed": true
   },
   "outputs": [],
   "source": []
  },
  {
   "cell_type": "code",
   "execution_count": null,
   "metadata": {
    "collapsed": true
   },
   "outputs": [],
   "source": []
  },
  {
   "cell_type": "code",
   "execution_count": null,
   "metadata": {
    "collapsed": true
   },
   "outputs": [],
   "source": [
    "levantamento2005"
   ]
  },
  {
   "cell_type": "code",
   "execution_count": null,
   "metadata": {
    "collapsed": true
   },
   "outputs": [],
   "source": []
  },
  {
   "cell_type": "code",
   "execution_count": null,
   "metadata": {
    "collapsed": true
   },
   "outputs": [],
   "source": []
  },
  {
   "cell_type": "code",
   "execution_count": null,
   "metadata": {
    "collapsed": true
   },
   "outputs": [],
   "source": []
  },
  {
   "cell_type": "code",
   "execution_count": null,
   "metadata": {
    "collapsed": true
   },
   "outputs": [],
   "source": []
  },
  {
   "cell_type": "code",
   "execution_count": null,
   "metadata": {
    "collapsed": true
   },
   "outputs": [],
   "source": []
  },
  {
   "cell_type": "code",
   "execution_count": null,
   "metadata": {
    "collapsed": true
   },
   "outputs": [],
   "source": []
  },
  {
   "cell_type": "code",
   "execution_count": null,
   "metadata": {
    "collapsed": true
   },
   "outputs": [],
   "source": []
  },
  {
   "cell_type": "code",
   "execution_count": null,
   "metadata": {
    "collapsed": true
   },
   "outputs": [],
   "source": []
  },
  {
   "cell_type": "code",
   "execution_count": null,
   "metadata": {
    "collapsed": true
   },
   "outputs": [],
   "source": []
  },
  {
   "cell_type": "code",
   "execution_count": null,
   "metadata": {
    "collapsed": true
   },
   "outputs": [],
   "source": []
  },
  {
   "cell_type": "code",
   "execution_count": null,
   "metadata": {
    "collapsed": true
   },
   "outputs": [],
   "source": []
  }
 ],
 "metadata": {
  "kernelspec": {
   "display_name": "Python 3",
   "language": "python",
   "name": "python3"
  },
  "language_info": {
   "codemirror_mode": {
    "name": "ipython",
    "version": 3
   },
   "file_extension": ".py",
   "mimetype": "text/x-python",
   "name": "python",
   "nbconvert_exporter": "python",
   "pygments_lexer": "ipython3",
   "version": "3.6.3"
  }
 },
 "nbformat": 4,
 "nbformat_minor": 2
}
